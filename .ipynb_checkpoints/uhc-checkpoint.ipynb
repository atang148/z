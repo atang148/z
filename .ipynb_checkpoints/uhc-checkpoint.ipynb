{
 "cells": [
  {
   "cell_type": "markdown",
   "metadata": {},
   "source": [
    "https://myappsremote.uhc.com  \n",
    "https://myvdiremote-ctc.uhc.com   \n",
    "https://uhc.webex.com  \n",
    "https://uhc.com   \n",
    "https://unitedhealthgroup.com   \n",
    "http://www.unitedhealthgroup.com/  \n",
    "https://twitter.com/UnitedHealthGrp  \n",
    "https://www.facebook.com/unitedhealthgroup  \n",
    "https://www.youtube.com/user/UnitedHealthGroup  \n",
    "http://www.unitedhealthgroup.com/Newsroom/SocialMedia/RSS.aspx  \n",
    "https://www.linkedin.com/company/unitedhealth-group   \n",
    "https://en.wikipedia.org/wiki/UnitedHealth_Group  \n",
    "https://www.nytimes.com/topic/company/unitedhealth-group-inc?mcubz=3  \n",
    "https://uhg.taleo.net/careersection/10000/unsupported.ftl  \n",
    "https://www.uhc.com/about-us/careers  \n",
    "https://www.glassdoor.com/Reviews/UnitedHealth-Group-Reviews-E1991.htm  \n",
    "https://www.indeed.com/cmp/UnitedHealth-Group   \n",
    "https://www.bloomberg.com/quote/UNH:US  \n",
    "https://www.nytimes.com/topic/company/unitedhealth-group-inc?mcubz=3  \n",
    "https://www.glassdoor.com/Overview/Working-at-UnitedHealth-Group-EI_IE1991.11,29.htm  \n",
    "https://plus.google.com/u/0/+uhgcareers  \n",
    "https://www.pinterest.com/uhgcareers/  \n"
   ]
  },
  {
   "cell_type": "markdown",
   "metadata": {},
   "source": [
    "https://my.vmware.com/web/vmware/details?downloadGroup=CART16Q2_LIN64_410&productId=578&rPId=11464  \n",
    "sudo sh VMware-Horizon-Client-3.5.0-2999900.x64.bundle  \n",
    "vmware-view  "
   ]
  },
  {
   "cell_type": "markdown",
   "metadata": {},
   "source": [
    "http://cms.gov\n"
   ]
  }
 ],
 "metadata": {
  "kernelspec": {
   "display_name": "Python 3",
   "language": "python",
   "name": "python3"
  },
  "language_info": {
   "codemirror_mode": {
    "name": "ipython",
    "version": 3
   },
   "file_extension": ".py",
   "mimetype": "text/x-python",
   "name": "python",
   "nbconvert_exporter": "python",
   "pygments_lexer": "ipython3",
   "version": "3.5.2"
  }
 },
 "nbformat": 4,
 "nbformat_minor": 2
}
