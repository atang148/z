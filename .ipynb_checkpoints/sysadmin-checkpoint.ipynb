{
 "cells": [
  {
   "cell_type": "markdown",
   "metadata": {},
   "source": [
    "sysadmin\n",
    "========"
   ]
  },
  {
   "cell_type": "code",
   "execution_count": 3,
   "metadata": {},
   "outputs": [
    {
     "name": "stdout",
     "output_type": "stream",
     "text": [
      "['_MutableMapping__marker', '__abstractmethods__', '__class__', '__contains__', '__delattr__', '__delitem__', '__dict__', '__dir__', '__doc__', '__eq__', '__format__', '__ge__', '__getattribute__', '__getitem__', '__gt__', '__hash__', '__init__', '__init_subclass__', '__iter__', '__le__', '__len__', '__lt__', '__module__', '__ne__', '__new__', '__reduce__', '__reduce_ex__', '__repr__', '__reversed__', '__setattr__', '__setitem__', '__sizeof__', '__slots__', '__str__', '__subclasshook__', '__weakref__', '_abc_impl', '_data', 'clear', 'copy', 'decodekey', 'decodevalue', 'encodekey', 'encodevalue', 'get', 'items', 'keys', 'pop', 'popitem', 'putenv', 'setdefault', 'unsetenv', 'update', 'values']\n"
     ]
    }
   ],
   "source": [
    "import os\n",
    "print(dir(os.environ))\n",
    "#help(os)"
   ]
  },
  {
   "cell_type": "code",
   "execution_count": 4,
   "metadata": {},
   "outputs": [
    {
     "name": "stdout",
     "output_type": "stream",
     "text": [
      "/Users/zzz/Dropbox/z\n"
     ]
    },
    {
     "data": {
      "text/plain": [
       "0"
      ]
     },
     "execution_count": 4,
     "metadata": {},
     "output_type": "execute_result"
    }
   ],
   "source": [
    "print (os.getcwd())\n",
    "os.system('ls -l /')"
   ]
  },
  {
   "cell_type": "code",
   "execution_count": 5,
   "metadata": {},
   "outputs": [
    {
     "data": {
      "text/plain": [
       "'root='"
      ]
     },
     "metadata": {},
     "output_type": "display_data"
    },
    {
     "data": {
      "text/plain": [
       "'/tmp'"
      ]
     },
     "metadata": {},
     "output_type": "display_data"
    },
    {
     "data": {
      "text/plain": [
       "'dir='"
      ]
     },
     "metadata": {},
     "output_type": "display_data"
    },
    {
     "data": {
      "text/plain": [
       "['com.apple.launchd.azfjyZAS3k',\n",
       " 'powerlog',\n",
       " '.vnc-501',\n",
       " 'com.apple.launchd.3MecAID1KO']"
      ]
     },
     "metadata": {},
     "output_type": "display_data"
    },
    {
     "data": {
      "text/plain": [
       "'files='"
      ]
     },
     "metadata": {},
     "output_type": "display_data"
    },
    {
     "data": {
      "text/plain": [
       "['.dbfseventsd']"
      ]
     },
     "metadata": {},
     "output_type": "display_data"
    },
    {
     "data": {
      "text/plain": [
       "'root='"
      ]
     },
     "metadata": {},
     "output_type": "display_data"
    },
    {
     "data": {
      "text/plain": [
       "'/tmp/com.apple.launchd.azfjyZAS3k'"
      ]
     },
     "metadata": {},
     "output_type": "display_data"
    },
    {
     "data": {
      "text/plain": [
       "'dir='"
      ]
     },
     "metadata": {},
     "output_type": "display_data"
    },
    {
     "data": {
      "text/plain": [
       "[]"
      ]
     },
     "metadata": {},
     "output_type": "display_data"
    },
    {
     "data": {
      "text/plain": [
       "'files='"
      ]
     },
     "metadata": {},
     "output_type": "display_data"
    },
    {
     "data": {
      "text/plain": [
       "['Listeners']"
      ]
     },
     "metadata": {},
     "output_type": "display_data"
    },
    {
     "data": {
      "text/plain": [
       "'root='"
      ]
     },
     "metadata": {},
     "output_type": "display_data"
    },
    {
     "data": {
      "text/plain": [
       "'/tmp/powerlog'"
      ]
     },
     "metadata": {},
     "output_type": "display_data"
    },
    {
     "data": {
      "text/plain": [
       "'dir='"
      ]
     },
     "metadata": {},
     "output_type": "display_data"
    },
    {
     "data": {
      "text/plain": [
       "[]"
      ]
     },
     "metadata": {},
     "output_type": "display_data"
    },
    {
     "data": {
      "text/plain": [
       "'files='"
      ]
     },
     "metadata": {},
     "output_type": "display_data"
    },
    {
     "data": {
      "text/plain": [
       "[]"
      ]
     },
     "metadata": {},
     "output_type": "display_data"
    },
    {
     "data": {
      "text/plain": [
       "'root='"
      ]
     },
     "metadata": {},
     "output_type": "display_data"
    },
    {
     "data": {
      "text/plain": [
       "'/tmp/.vnc-501'"
      ]
     },
     "metadata": {},
     "output_type": "display_data"
    },
    {
     "data": {
      "text/plain": [
       "'dir='"
      ]
     },
     "metadata": {},
     "output_type": "display_data"
    },
    {
     "data": {
      "text/plain": [
       "[]"
      ]
     },
     "metadata": {},
     "output_type": "display_data"
    },
    {
     "data": {
      "text/plain": [
       "'files='"
      ]
     },
     "metadata": {},
     "output_type": "display_data"
    },
    {
     "data": {
      "text/plain": [
       "[]"
      ]
     },
     "metadata": {},
     "output_type": "display_data"
    },
    {
     "data": {
      "text/plain": [
       "'root='"
      ]
     },
     "metadata": {},
     "output_type": "display_data"
    },
    {
     "data": {
      "text/plain": [
       "'/tmp/com.apple.launchd.3MecAID1KO'"
      ]
     },
     "metadata": {},
     "output_type": "display_data"
    },
    {
     "data": {
      "text/plain": [
       "'dir='"
      ]
     },
     "metadata": {},
     "output_type": "display_data"
    },
    {
     "data": {
      "text/plain": [
       "[]"
      ]
     },
     "metadata": {},
     "output_type": "display_data"
    },
    {
     "data": {
      "text/plain": [
       "'files='"
      ]
     },
     "metadata": {},
     "output_type": "display_data"
    },
    {
     "data": {
      "text/plain": [
       "['Render']"
      ]
     },
     "metadata": {},
     "output_type": "display_data"
    }
   ],
   "source": [
    "for root, dirs, files in os.walk(\"/tmp\"):\n",
    "    display ('root=',root)\n",
    "    display ('dir=',dirs)\n",
    "    display ('files=', files)"
   ]
  },
  {
   "cell_type": "code",
   "execution_count": 18,
   "metadata": {},
   "outputs": [],
   "source": [
    "#! top -n 1"
   ]
  },
  {
   "cell_type": "code",
   "execution_count": 6,
   "metadata": {},
   "outputs": [],
   "source": [
    "#!xed some.py"
   ]
  },
  {
   "cell_type": "code",
   "execution_count": 16,
   "metadata": {},
   "outputs": [],
   "source": [
    "%run sysadmin_inc.py\n",
    "do_ls()\n",
    "useful_cmds()\n"
   ]
  },
  {
   "cell_type": "code",
   "execution_count": 22,
   "metadata": {},
   "outputs": [],
   "source": [
    "#!top  -n 1"
   ]
  },
  {
   "cell_type": "code",
   "execution_count": 26,
   "metadata": {},
   "outputs": [
    {
     "name": "stdout",
     "output_type": "stream",
     "text": [
      "usage: mkdir [-pv] [-m mode] directory ...\n",
      "./sysadmin_rpt.sh: line 15: /Users/zzz/Dropbox/txt/sysadmin_rpt.txt: No such file or directory\n",
      "(\n",
      "ps -all\n",
      "top -b -n 1 |grep -v '0.0  0.'\n",
      "uptime\n",
      "w\n",
      "who\n",
      "ls\n",
      "printenv\n",
      "users\n",
      "crontab -l\n",
      "service\n",
      "free\n",
      "lsof|head -n 100\n",
      "\n",
      ")>~/Dropbox/txt/sysadmin_rpt.txt\n",
      "\n",
      "#gedit ~/Dropbox/txt/sysadmin_rpt.txt &\n",
      "#gedit ~/Dropbox/bash/sysadmin_rpt.sh &\n",
      "\n",
      "xed ~/Dropbox/txt/sysadmin_rpt.txt &\n",
      "xed ~/Dropbox/bash/sysadmin_rpt.sh &\n"
     ]
    }
   ],
   "source": [
    "!mkdir -p \n",
    "! . ./sysadmin_rpt.sh\n",
    "!cat ./sysadmin_rpt.sh \n"
   ]
  },
  {
   "cell_type": "code",
   "execution_count": 25,
   "metadata": {},
   "outputs": [
    {
     "name": "stdout",
     "output_type": "stream",
     "text": [
      "USER               PID  %CPU %MEM      VSZ    RSS   TT  STAT STARTED      TIME COMMAND\n",
      "_windowserver      233   8.5  0.8  6780668  63984   ??  Ss   10:59AM  25:22.35 /System/Library/\n",
      "zzz          5732   3.6  1.2  6115992 103632   ??  S     6:28PM   6:02.69 /Applications/Sa\n",
      "zzz          6435   2.4  3.4 90369104 288088   ??  Rs    6:49PM   5:02.34 /System/Library/\n",
      "_hidd              114   0.8  0.1  4335732   7568   ??  Ss   10:59AM   2:32.25 /usr/libexec/hid\n",
      "zzz          7282   0.8  1.4  4951764 119316   ??  S     7:58PM   1:57.08 /Applications/RS\n",
      "root                58   0.7  0.3  4337668  23568   ??  Ss   10:59AM   0:00.70 /System/Library/\n",
      "root                76   0.6  0.7  4481092  55612   ??  Ss   10:59AM   5:29.48 /System/Library/\n",
      "zzz           108   0.3  0.3  4916760  27704   ??  Ss   10:59AM   0:13.77 /System/Library/\n",
      "zzz           899   0.2  2.4  6113232 198328   ??  S    11:07AM  13:18.77 /Applications/Dr\n",
      "zzz          7829   0.2  2.2  5155292 181536   ??  S     8:28PM   0:10.55 /Applications/iT\n",
      "root                86   0.2  0.1  4349932  11092   ??  Ss   10:59AM   0:31.21 /usr/libexec/ope\n",
      "zzz           936   0.2  0.0  4282356    140   ??  S    11:08AM   0:12.56 /Library/Dropbox\n",
      "zzz          1124   0.2  0.1  4305260   5264   ??  S    11:10AM   0:02.95 /System/Library/\n",
      "zzz          7278   0.1  0.8  4629728  69828   ??  S     7:58PM   0:17.01 /Applications/RS\n",
      "zzz           473   0.1  0.3  4338280  25000   ??  S    11:01AM   0:01.24 /System/Library/\n",
      "root                 1   0.1  0.2  4331844  17272   ??  Ss   10:59AM   1:35.83 /sbin/launchd\n",
      "root                69   0.1  0.2  4424940  17476   ??  Us   10:59AM   0:21.83 /usr/libexec/log\n",
      "root                65   0.1  0.1  4332320  12008   ??  Ss   10:59AM   0:12.83 /System/Library/\n",
      "zzz           753   0.1  0.2  4332072  19800   ??  S    11:07AM   0:00.11 /System/Library/\n",
      "root                90   0.1  0.1  4337968  12468   ??  Ss   10:59AM   0:18.69 /System/Library/\n",
      "zzz           931   0.1  1.1  5032648  95776   ??  S    11:08AM   1:12.74 /Applications/Dr\n",
      "zzz          7590   0.1  1.1 89526988  94024   ??  Ss    8:17PM   0:01.39 /System/Library/\n",
      "zzz           465   0.1  0.1  4305188   5592   ??  S    11:00AM   0:00.09 /System/Library/\n",
      "zzz          7819   0.1  2.1 89804352 172428   ??  Ss    8:25PM   0:49.16 /System/Library/\n",
      "zzz           429   0.1  0.3  4336300  29272   ??  S    11:00AM   0:01.93 /System/Library/\n",
      "root               355   0.1  0.7  5273640  58460   ??  Ss   11:00AM   5:57.11 /System/Library/\n",
      "zzz          7715   0.1  1.2 106544148  96508   ??  Ss    8:21PM   0:04.69 /System/Library/\n",
      "root               120   0.1  0.0  4307328   3336   ??  Ss   10:59AM   0:05.38 /usr/sbin/cfpref\n",
      "root               118   0.1  0.0  4289004   2224   ??  Ss   10:59AM   0:13.76 /usr/sbin/notify\n",
      "zzz          7825   0.0  0.2  4354468  16988   ??  S     8:28PM   0:00.38 /System/Library/\n",
      "zzz          7824   0.0  0.2  4335988  12696   ??  S     8:28PM   0:00.41 /Applications/iT\n",
      "zzz          7821   0.0  0.4 106062932  29656   ??  Ss    8:25PM   0:00.19 /System/Library/\n",
      "zzz          7820   0.0  0.2  4843672  16620   ??  Ss    8:25PM   0:00.26 /System/Library/\n",
      "zzz          7817   0.0  0.5 106353992  43636   ??  Ss    8:25PM   0:00.69 /System/Library/\n",
      "zzz          7726   0.0  0.2  4843608  14800   ??  Ss    8:22PM   0:00.14 /System/Library/\n",
      "zzz          7725   0.0  0.4 89304724  31692   ??  Ss    8:22PM   0:00.20 /System/Library/\n",
      "zzz          7724   0.0  0.4 106111148  34316   ??  Ss    8:22PM   0:00.29 /System/Library/\n",
      "zzz          7723   0.0  0.1  4843672  11008   ??  Ss    8:22PM   0:00.12 /System/Library/\n",
      "zzz          7722   0.0  0.4 89333932  34460   ??  Ss    8:22PM   0:00.29 /System/Library/\n",
      "zzz          7721   0.0  0.5 106190312  40532   ??  Ss    8:22PM   0:00.73 /System/Library/\n",
      "zzz          7720   0.0  0.2  4843528  15528   ??  Ss    8:22PM   0:00.17 /System/Library/\n",
      "zzz          7714   0.0  0.1  4842848  12540   ??  Ss    8:21PM   0:00.09 /System/Library/\n",
      "zzz          7713   0.0  1.3 106443152 109748   ??  Ss    8:21PM   0:05.39 /System/Library/\n",
      "zzz          7712   0.0  0.8 106516840  65092   ??  Ss    8:21PM   0:01.73 /System/Library/\n",
      "zzz          7653   0.0  0.1  4842848  11332   ??  Ss    8:19PM   0:00.06 /System/Library/\n",
      "zzz          7652   0.0  0.4 89343528  36420   ??  Ss    8:19PM   0:00.53 /System/Library/\n",
      "zzz          7651   0.0  0.1  4296676   8612   ??  Ss    8:19PM   0:00.02 /System/Library/\n",
      "zzz          7589   0.0  0.2  4843672  15840   ??  Ss    8:17PM   0:00.42 /System/Library/\n",
      "zzz          7511   0.0  1.1 106530324  91048   ??  Ss    8:14PM   0:02.22 /System/Library/\n",
      "zzz          7408   0.0  0.2  4568928  19412   ??  Ss    8:08PM   0:02.06 //anaconda3/bin/\n",
      "zzz          7401   0.0  0.3  4605732  24652   ??  Ss    8:07PM   0:02.81 //anaconda3/bin/\n",
      "zzz          7398   0.0  0.4  5112064  34460   ??  S     8:07PM   0:00.43 /anaconda3/libex\n",
      "zzz          7395   0.0  0.1  4494896   8816   ??  S     8:07PM   0:00.59 //anaconda3/bin/\n",
      "zzz          7388   0.0  0.1  4842848   9900   ??  Ss    8:07PM   0:00.09 /System/Library/\n",
      "zzz          7386   0.0  0.3  5084424  27064   ??  S     8:07PM   0:00.28 /anaconda3/libex\n",
      "zzz          7385   0.0  0.5 106490052  43880   ??  Ss    8:07PM   0:09.75 /System/Library/\n",
      "zzz          7384   0.0  0.3  4599700  25720   ??  S     8:07PM   0:02.11 //anaconda3/bin/\n",
      "zzz          7383   0.0  0.3  4659192  25776   ??  S     8:07PM   0:03.94 //anaconda3/bin/\n",
      "zzz          7382   0.0  0.3  4607260  25976   ??  S     8:07PM   0:06.46 //anaconda3/bin/\n",
      "zzz          7381   0.0  0.3  5086472  27856   ??  S     8:07PM   0:00.26 /anaconda3/libex\n",
      "zzz          7374   0.0  0.2  4304552  13432 s003  S+    8:07PM   0:02.75 //anaconda3/bin/\n",
      "zzz          7372   0.0  0.0  4296272    356 s003  S+    8:07PM   0:00.00 -bash\n",
      "zzz          7354   0.0  0.0  4296528    840 s003  S     8:07PM   0:00.02 -bash\n",
      "root              7353   0.0  0.1  4304648   4784 s003  Ss    8:07PM   0:00.04 login -pf atang1\n",
      "zzz          7344   0.0  1.9  5111060 156352   ??  S     8:07PM   0:21.15 //anaconda3/pyth\n",
      "zzz          7343   0.0  0.0  4268620    696   ??  S     8:07PM   0:00.00 /bin/bash //anac\n",
      "zzz          7336   0.0  0.0  4271692    748   ??  S     8:07PM   0:00.01 bash /Users/atan\n",
      "zzz          7327   0.0  0.2  4314620  15944   ??  S     8:02PM   0:00.10 /System/Library/\n",
      "zzz          7261   0.0  0.9  5463644  79124   ??  S     7:58PM   1:19.35 /Applications/RS\n",
      "zzz          7123   0.0  0.1  4842848  11820   ??  Ss    7:49PM   0:00.08 /System/Library/\n",
      "zzz          6968   0.0  0.7 106279044  55064   ??  Ss    7:41PM   0:06.53 /System/Library/\n",
      "zzz          6966   0.0  0.8 106362152  66212   ??  Ss    7:41PM   0:04.91 /System/Library/\n",
      "zzz          6957   0.0  0.1  4842848  10492   ??  Ss    7:40PM   0:00.07 /System/Library/\n",
      "zzz          6956   0.0  0.6  5046028  53516   ??  S     7:40PM   0:06.46 /Applications/No\n",
      "zzz          6952   0.0  0.2  4347332  20616   ??  S     7:39PM   0:00.53 /System/Library/\n",
      "zzz          6907   0.0  0.3  4345840  21448   ??  S     7:37PM   0:00.82 /System/Library/\n",
      "zzz          6904   0.0  0.2  4319448  16492   ??  S     7:37PM   0:00.35 /System/Library/\n",
      "zzz          6903   0.0  0.2  4319276  19528   ??  S     7:37PM   0:00.72 /System/Library/\n",
      "zzz          6660   0.0  0.2  4358972  13976   ??  S     7:15PM   0:00.60 /System/Library/\n",
      "zzz          6500   0.0  0.1  4843536  10612   ??  Ss    6:57PM   0:00.14 /System/Library/\n",
      "zzz          6498   0.0  0.7 89884272  56924   ??  Ss    6:56PM   0:10.44 /System/Library/\n",
      "zzz          6497   0.0  0.1  4841824  10492   ??  Ss    6:56PM   0:00.06 /System/Library/\n",
      "zzz          6486   0.0  0.2  4568788  19288   ??  Ss    6:52PM   0:04.97 //anaconda3/bin/\n",
      "zzz          6446   0.0  0.2  4596660  20492   ??  Ss    6:49PM   4:07.15 //anaconda3/bin/\n",
      "zzz          6440   0.0  0.1  4311668  10300   ??  Ss    6:49PM   0:01.34 //anaconda3/bin/\n",
      "zzz          6437   0.0  0.1  4842848  11324   ??  Ss    6:49PM   0:00.08 /System/Library/\n",
      "zzz          6430   0.0  0.8  4357744  64580   ??  S     6:49PM   0:21.93 //anaconda3/bin/\n",
      "zzz          6423   0.0  0.0  4278860    748   ??  S     6:49PM   0:00.01 bash /Users/atan\n",
      "zzz          6079   0.0  0.2  4377580  16492   ??  Ss    6:44PM   0:03.87 /Applications/Dr\n",
      "zzz          6068   0.0  0.1  4833864  10896   ??  Ss    6:43PM   0:00.13 /System/Library/\n",
      "zzz          6006   0.0  0.1  4335172   5812   ??  Ss    6:42PM   0:00.12 /System/Library/\n",
      "zzz          6005   0.0  0.1  4843236  11076   ??  Ss    6:42PM   0:00.37 /System/Library/\n",
      "zzz          6004   0.0  1.4  5242624 116300   ??  S     6:42PM   0:49.68 /private/var/fol\n",
      "zzz          6003   0.0  0.4  4587720  29968   ??  S     6:42PM   0:15.81 /private/var/fol\n",
      "zzz          5996   0.0  0.9  5425376  74912   ??  S     6:42PM   0:42.63 /private/var/fol\n",
      "zzz          5990   0.0  0.3  4868836  28848   ??  Ss    6:42PM   0:02.84 /Applications/Sa\n",
      "zzz          5987   0.0  0.5  4918516  42820   ??  Ss    6:41PM   0:01.90 /System/Library/\n",
      "zzz          5979   0.0  0.3  4937024  23932   ??  S     6:41PM   0:02.39 /Applications/Sy\n",
      "zzz          5978   0.0  0.1  4267916   4208 s002  S+    6:41PM   0:00.01 /Applications/Xc\n",
      "zzz          5977   0.0  0.0  4281812    856 s002  S+    6:41PM   0:00.01 /Applications/Xc\n",
      "zzz          5834   0.0  0.0  4296528    840 s002  S     6:35PM   0:00.03 -bash\n",
      "root              5833   0.0  0.1  4304648   4784 s002  Ss    6:35PM   0:00.02 login -pf atang1\n",
      "zzz          5776   0.0  0.2  4387824  16432   ??  Ss    6:31PM   0:04.07 /Applications/Dr\n",
      "zzz          5774   0.0  0.1  4842912  10592   ??  Ss    6:31PM   0:00.09 /System/Library/\n",
      "zzz          5773   0.0  0.4  4941576  31984   ??  S     6:31PM   0:02.29 /Applications/Te\n",
      "zzz          5750   0.0  1.1 106343036  91788   ??  Ss    6:29PM   0:03.17 /System/Library/\n",
      "zzz          5745   0.0  0.3  4341436  28252   ??  Ss    6:28PM   0:00.63 /System/Library/\n",
      "zzz          5742   0.0  0.2  4333788  12984   ??  Ss    6:28PM   0:00.17 /System/Library/\n",
      "zzz          5734   0.0  0.4  4373972  37272   ??  Ss    6:28PM   0:31.69 /System/Library/\n",
      "zzz          5688   0.0  0.0  4296528    840 s001  S+    6:26PM   0:00.03 -bash\n",
      "root              5687   0.0  0.1  4304648   4784 s001  Ss    6:26PM   0:00.04 login -pf atang1\n",
      "zzz          5595   0.0  0.1  4312600  10368   ??  Ss    6:20PM   0:01.49 //anaconda3/bin/\n",
      "zzz          5588   0.0  0.1  4311668  10296   ??  Ss    6:20PM   0:01.20 //anaconda3/bin/\n",
      "zzz          5579   0.0  0.2  4311400  13004   ??  S     6:20PM   0:05.36 //anaconda3/bin/\n",
      "zzz          5572   0.0  0.0  4288076    748   ??  S     6:20PM   0:00.02 bash /Users/atan\n",
      "zzz          5532   0.0  0.3  4334012  26060   ??  Ss    6:14PM   0:00.07 /System/Library/\n",
      "_spotlight        5515   0.0  0.1  4315804  10536   ??  S     6:12PM   0:00.09 /System/Library/\n",
      "root              5241   0.0  0.1  4333668  11084   ??  Ss    6:02PM   0:02.14 /usr/libexec/Per\n",
      "_netbios          5207   0.0  0.1  4306792   8680   ??  SNs   5:01PM   0:00.13 /usr/sbin/netbio\n",
      "_usbmuxd          5198   0.0  0.1  4332480   6900   ??  Ss    4:42PM   0:01.62 /System/Library/\n",
      "zzz          4212   0.0  0.1  4304920   8984   ??  Ss    2:02PM   0:00.16 /Applications/Dr\n",
      "root              4194   0.0  0.1  4297248   4496   ??  Ss    2:01PM   0:00.03 /System/Library/\n",
      "root              4006   0.0  0.1  4353576   8692   ??  Ss    1:07PM   0:06.44 /usr/libexec/san\n",
      "root              3997   0.0  0.1  4842912  10704   ??  Ss    1:06PM   0:00.10 /System/Library/\n",
      "zzz          3869   0.0  0.1  4867216  12136   ??  S    12:58PM   0:00.84 /Library/Develop\n",
      "zzz          3868   0.0  0.2  4868328  14936   ??  S    12:58PM   0:01.34 /Library/Develop\n",
      "zzz          3395   0.0  0.2  4376564  16428   ??  Ss   12:48PM   0:05.11 /Applications/Dr\n",
      "zzz          3394   0.0  0.2  4368092  17688   ??  Ss   12:48PM   0:01.41 /Applications/On\n",
      "zzz          3393   0.0  0.1  4842912  10728   ??  Ss   12:48PM   0:00.13 /System/Library/\n",
      "zzz          3390   0.0  0.4  4995840  33504   ??  Ss   12:48PM   0:15.13 /System/Library/\n",
      "zzz          3353   0.0  0.1  4341088   9808   ??  S    12:45PM   0:00.40 /System/Library/\n",
      "zzz          2915   0.0  0.1  4842848  10492   ??  Ss   12:31PM   0:00.06 /System/Library/\n",
      "zzz          2810   0.0  0.1  4305064   4388   ??  S    12:25PM   0:00.02 /System/Library/\n",
      "zzz          2581   0.0  0.4  5005200  32864   ??  S    12:20PM   0:20.10 /Applications/La\n",
      "zzz          2522   0.0  0.1  4352032   6412   ??  Ss   12:17PM   0:04.61 /System/Library/\n",
      "root              2520   0.0  0.1  4305220   4948   ??  Ss   12:17PM   0:00.06 /System/Library/\n",
      "zzz          2504   0.0  0.1  4311156  10292   ??  Ss   12:16PM   0:01.49 //anaconda3/bin/\n",
      "zzz          2486   0.0  0.1  4312036  10344   ??  Ss   12:16PM   0:01.91 //anaconda3/bin/\n",
      "zzz          2283   0.0  0.1  4310644  10292   ??  Ss   12:06PM   0:01.69 //anaconda3/bin/\n",
      "zzz          2269   0.0  0.2  4307564  13188 s000  S+   12:06PM   0:07.59 //anaconda3/bin/\n",
      "zzz          2267   0.0  0.0  4296272    356 s000  S+   12:06PM   0:00.00 -bash\n",
      "zzz          2249   0.0  0.0  4296528    840 s000  S    12:06PM   0:00.02 -bash\n",
      "root              2248   0.0  0.1  4304648   4764 s000  Ss   12:06PM   0:00.03 login -pf atang1\n",
      "zzz          2246   0.0  0.3  4952492  28392   ??  S    12:06PM   0:05.14 /Applications/Ut\n",
      "zzz          2234   0.0  0.2  4307984  12896   ??  S    12:06PM   0:04.86 //anaconda3/bin/\n",
      "zzz          2227   0.0  0.0  4288076    748   ??  S    12:06PM   0:00.02 bash /Users/atan\n",
      "zzz          1994   0.0  0.2  4354812  18060   ??  S    11:55AM   0:01.06 /System/Library/\n",
      "_softwareupdate   1983   0.0  0.0  4305884    984   ??  S    11:55AM   0:00.06 /usr/sbin/distno\n",
      "_softwareupdate   1982   0.0  0.0  4296912   1064   ??  S    11:55AM   0:00.05 /usr/sbin/cfpref\n",
      "zzz          1940   0.0  0.1  4305448   8980   ??  S    11:54AM   0:00.05 /System/Library/\n",
      "zzz          1620   0.0  0.1  4842848   9292   ??  Ss   11:38AM   0:00.07 /System/Library/\n",
      "zzz          1619   0.0  0.2  4898368  17028   ??  Ss   11:38AM   0:01.30 /System/Library/\n",
      "zzz          1511   0.0  0.1  4842988  10564   ??  Ss   11:36AM   0:00.07 /System/Library/\n",
      "zzz          1500   0.0  0.8  4845792  63200   ??  S    11:35AM   2:29.34 //anaconda3/bin/\n",
      "zzz          1489   0.0  0.0  4803060    748   ??  S    11:35AM   0:00.01 /bin/sh /anacond\n",
      "zzz          1453   0.0  0.1  4842876  10576   ??  Ss   11:32AM   0:00.07 /System/Library/\n",
      "zzz          1381   0.0  0.1  4306296   8184   ??  S    11:29AM   0:00.05 /usr/libexec/USB\n",
      "zzz          1378   0.0  0.2  4332452  12944   ??  S    11:22AM   0:00.10 /usr/libexec/sir\n",
      "zzz          1361   0.0  0.2  4343560  15360   ??  Ss   11:20AM   0:01.69 /System/Library/\n",
      "zzz          1329   0.0  0.1  4305220   4896   ??  S    11:16AM   0:00.07 /System/Library/\n",
      "root              1327   0.0  0.1  4304732  11364   ??  Ss   11:16AM   0:00.05 /System/Library/\n",
      "zzz          1270   0.0  0.1  4842848  10496   ??  Ss   11:14AM   0:00.05 /System/Library/\n",
      "zzz          1267   0.0  0.2  4397332  14184   ??  S    11:14AM   0:01.27 /System/Library/\n",
      "zzz          1262   0.0  0.1  4335740   7572   ??  S    11:13AM   0:00.24 /System/Library/\n",
      "zzz          1260   0.0  0.2  4351984  20308   ??  S    11:13AM   0:09.68 /System/Library/\n",
      "zzz          1239   0.0  0.1  4334932   7856   ??  S    11:13AM   0:00.22 /System/Library/\n",
      "_fpsd             1210   0.0  0.1  4305780   5492   ??  Ss   11:12AM   0:00.42 /System/Library/\n",
      "zzz          1207   0.0  0.2  4334612  17364   ??  S    11:12AM   0:00.23 /System/Library/\n",
      "zzz          1197   0.0  0.2  4358520  18148   ??  S    11:11AM   0:01.32 /System/Library/\n",
      "zzz          1181   0.0  0.3  4332360  24128   ??  S    11:11AM   0:05.18 /usr/libexec/Saf\n",
      "zzz          1122   0.0  0.1  4334400  10460   ??  S    11:10AM   0:00.47 /System/Library/\n",
      "zzz          1121   0.0  0.2  4335940  13340   ??  S    11:10AM   0:00.22 /usr/libexec/key\n",
      "zzz          1120   0.0  0.6  4562652  49468   ??  S    11:10AM   0:05.43 /System/Library/\n",
      "passwordx         1045   0.0  0.1  4337292  10504   ??  S    11:09AM   0:00.13 /System/Library/\n",
      "zzz          1044   0.0  0.1  4335500  10540   ??  S    11:09AM   0:02.84 /System/Library/\n",
      "_spotlight        1043   0.0  0.1  4333692  10604   ??  S    11:09AM   1:23.62 /System/Library/\n",
      "zzz          1042   0.0  0.2  4360920  20648   ??  Ss   11:08AM   0:00.21 /System/Library/\n",
      "zzz          1032   0.0  0.1  4336128   9948   ??  Ss   11:08AM   0:00.23 /System/Library/\n",
      "zzz          1031   0.0  0.2  4411548  15408   ??  Ss   11:08AM   0:00.11 /System/Library/\n",
      "zzz          1030   0.0  0.2  4331928  17756   ??  S    11:08AM   0:00.09 /System/Library/\n",
      "root               959   0.0  0.2  4332676  15620   ??  Ss   11:08AM   0:00.13 /usr/libexec/dmd\n",
      "zzz           949   0.0  0.2  4358276  19872   ??  S    11:08AM   0:01.23 /System/Library/\n",
      "zzz           948   0.0  0.1  4307348  11044   ??  S    11:08AM   0:00.29 /usr/libexec/sil\n",
      "root               947   0.0  0.0  4287656    420   ??  SNs  11:08AM   0:00.01 /usr/libexec/per\n",
      "zzz           941   0.0  0.1  4869660  12576   ??  Ss   11:08AM   0:02.19 /Applications/Dr\n",
      "zzz           939   0.0  0.4  4789424  37588   ??  S    11:08AM   0:08.36 /Applications/Dr\n",
      "zzz           938   0.0  0.2  4332492  15032   ??  S    11:08AM   0:00.09 /System/Library/\n",
      "root               935   0.0  0.0  4273140   1560   ??  S    11:08AM   0:12.88 /Library/Dropbox\n",
      "root               934   0.0  0.0  4273140    532   ??  S    11:08AM   0:02.11 /Library/Dropbox\n",
      "zzz           933   0.0  0.1  4335172   5756   ??  Ss   11:08AM   0:00.11 /System/Library/\n",
      "zzz           930   0.0  0.2  4580124  19744   ??  S    11:08AM   0:02.03 /Applications/Dr\n",
      "zzz           929   0.0  0.4  4791980  31724   ??  S    11:08AM   0:01.67 /Applications/Dr\n",
      "zzz           927   0.0  0.1  4842912  11980   ??  Ss   11:08AM   0:00.07 /System/Library/\n",
      "_gamecontrollerd   922   0.0  0.1  4305328   9492   ??  Ss   11:08AM   0:01.40 /usr/libexec/gam\n",
      "zzz           915   0.0  0.1  4842848  10492   ??  Ss   11:08AM   0:00.06 /System/Library/\n",
      "zzz           914   0.0  0.2  4305956  13884   ??  S    11:08AM   0:00.08 /usr/libexec/fin\n",
      "zzz           910   0.0  0.2  4307732  14836   ??  S    11:07AM   0:00.05 /System/Library/\n",
      "zzz           904   0.0  0.1  4334664   9544   ??  S    11:07AM   0:00.05 /Applications/Dr\n",
      "zzz           903   0.0  0.1  4311100   9068   ??  S    11:07AM   0:00.05 /Applications/Dr\n",
      "zzz           901   0.0  0.4  4995568  31508   ??  S    11:07AM   0:14.32 /Applications/On\n",
      "zzz           898   0.0  0.2  4332908  18844   ??  S    11:07AM   0:04.18 /System/Library/\n",
      "zzz           897   0.0  0.2  4869500  12860   ??  S    11:07AM   0:01.20 /System/Library/\n",
      "zzz           892   0.0  0.2  4335068  15136   ??  S    11:07AM   0:00.44 /System/Library/\n",
      "zzz           891   0.0  0.1  4336924  10340   ??  S    11:07AM   0:00.83 /System/Library/\n",
      "zzz           890   0.0  0.2  4334784  16280   ??  S    11:07AM   0:00.19 /usr/libexec/dmd\n",
      "zzz           887   0.0  0.2  4331360  12656   ??  S    11:07AM   0:00.08 /System/Library/\n",
      "zzz           885   0.0  0.2  4304832  15540   ??  S    11:07AM   0:00.03 /System/Library/\n",
      "zzz           883   0.0  0.1  4337552  12416   ??  Ss   11:07AM   0:00.10 /System/Library/\n",
      "zzz           877   0.0  0.1  4334028   9504   ??  S    11:07AM   0:00.06 /System/Library/\n",
      "zzz           875   0.0  0.2  4377148  16652   ??  Ss   11:07AM   0:06.58 /Applications/Dr\n",
      "zzz           874   0.0  0.1  4306484   8708   ??  S    11:07AM   0:00.04 /System/Library/\n",
      "zzz           873   0.0  0.1  4306048   8760   ??  S    11:07AM   0:00.06 /System/Library/\n",
      "root               872   0.0  0.1  4305928   8212   ??  Ss   11:07AM   0:00.04 /System/Library/\n",
      "zzz           870   0.0  0.1  4842876  10728   ??  Ss   11:07AM   0:00.21 /System/Library/\n",
      "zzz           863   0.0  0.1  4334592   9332   ??  S    11:07AM   0:00.06 /System/Library/\n",
      "zzz           862   0.0  0.1  4821256   7968   ??  S    11:07AM   0:00.02 SafeEjectGPUAgen\n",
      "root               859   0.0  0.1  4296296   5688   ??  Ss   11:07AM   0:03.04 /usr/libexec/tas\n",
      "zzz           853   0.0  0.3  4871384  26848   ??  Ss   11:07AM   0:01.42 /System/Library/\n",
      "zzz           848   0.0  0.3  4391124  27304   ??  S    11:07AM   0:04.94 /usr/libexec/stu\n",
      "zzz           843   0.0  0.3  4339584  27332   ??  S    11:07AM   0:06.27 /System/Library/\n",
      "zzz           842   0.0  0.1  4305100   4220   ??  Ss   11:07AM   0:00.02 /System/Library/\n",
      "zzz           834   0.0  0.1  4842848  10864   ??  Ss   11:07AM   0:00.19 /System/Library/\n",
      "zzz           833   0.0  0.1  4305252  12044   ??  Ss   11:07AM   0:00.73 /System/Library/\n",
      "zzz           830   0.0  0.1  4338184   6968   ??  Ss   11:07AM   0:01.60 /System/Library/\n",
      "zzz           827   0.0  0.2  4393656  17584   ??  Ss   11:07AM   0:13.69 /Applications/Dr\n",
      "zzz           826   0.0  0.2  4372524  17640   ??  Ss   11:07AM   0:02.11 /Applications/On\n",
      "zzz           825   0.0  0.1  4842848  10496   ??  Ss   11:07AM   0:00.08 /System/Library/\n",
      "zzz           815   0.0  0.8  5128676  65516   ??  S    11:07AM   0:36.82 /System/Library/\n",
      "zzz           812   0.0  2.1  6805684 175880   ??  S    11:07AM  11:36.03 /System/Library/\n",
      "zzz           811   0.0  0.4  4921520  36000   ??  S    11:07AM   0:14.53 /System/Library/\n",
      "zzz           810   0.0  0.3  4930552  24168   ??  S    11:07AM   0:26.00 /System/Library/\n",
      "zzz           764   0.0  0.1  4334536  10244   ??  S    11:07AM   0:00.08 /System/Library/\n",
      "zzz           734   0.0  0.2  4336256  13232   ??  S    11:07AM   0:00.31 /System/Library/\n",
      "root               733   0.0  0.1  4337692   6444   ??  Ss   11:07AM   0:00.20 /usr/libexec/dpr\n",
      "zzz           732   0.0  0.2  4362424  19076   ??  S    11:07AM   0:01.93 /System/Library/\n",
      "zzz           730   0.0  0.2  4338456  18492   ??  S    11:06AM   0:01.32 /System/Library/\n",
      "zzz           727   0.0  0.2  4339680  17800   ??  S    11:06AM   0:01.96 /System/Library/\n",
      "root               726   0.0  0.1  4332196  10364   ??  Ss   11:06AM   0:00.57 /usr/libexec/tzd\n",
      "zzz           706   0.0  0.1  4369056   6008   ??  S    11:06AM   0:12.01 /System/Library/\n",
      "root               698   0.0  0.1  4305088   4300   ??  Ss   11:04AM   0:00.01 /System/Library/\n",
      "_datadetectors     636   0.0  0.1  4315640   5272   ??  Ss   11:02AM   0:02.92 /usr/libexec/Dat\n",
      "zzz           635   0.0  0.1  4842848  10496   ??  Ss   11:02AM   0:00.04 /System/Library/\n",
      "zzz           634   0.0  0.2  4895788  15856   ??  S    11:02AM   0:04.39 /System/Library/\n",
      "zzz           633   0.0  0.2  4305704  15696   ??  Ss   11:02AM   0:00.06 /System/Library/\n",
      "passwordx          632   0.0  0.1  4339320  10188   ??  S    11:02AM   0:00.19 /usr/libexec/sec\n",
      "_spotlight         625   0.0  0.0  4305884   1104   ??  S    11:01AM   0:00.15 /usr/sbin/distno\n",
      "_spotlight         616   0.0  0.1  4336452   8288   ??  S    11:01AM   0:03.50 /usr/libexec/tru\n",
      "passwordx          615   0.0  0.0  4305884   1128   ??  S    11:01AM   0:00.10 /usr/sbin/distno\n",
      "passwordx          614   0.0  0.1  4336960   8732   ??  S    11:01AM   0:03.38 /usr/libexec/tru\n",
      "passwordx          613   0.0  0.1  4345120   8240   ??  S    11:01AM   0:09.66 /usr/libexec/lsd\n",
      "passwordx          612   0.0  0.0  4305104   1376   ??  S    11:01AM   0:00.17 /usr/sbin/cfpref\n",
      "root               611   0.0  0.1  4305988   4372   ??  Ss   11:01AM   0:00.04 /usr/libexec/mob\n",
      "zzz           607   0.0  0.8  4454712  66288   ??  S    11:01AM   0:18.07 /System/Library/\n",
      "zzz           606   0.0  0.2  4337460  18324   ??  S    11:01AM   0:01.18 /usr/libexec/adp\n",
      "zzz           600   0.0  0.1  4331864   5444   ??  S    11:01AM   0:00.06 /System/Library/\n",
      "zzz           596   0.0  0.2  4331920  20496   ??  Ss   11:01AM   0:00.05 /System/Library/\n",
      "zzz           593   0.0  0.1  4304708   5464   ??  S    11:01AM   0:00.05 /System/Library/\n",
      "zzz           592   0.0  0.1  4332572  10240   ??  S    11:01AM   0:02.98 /usr/libexec/vid\n",
      "root               589   0.0  0.1  4334852   7024   ??  Ss   11:01AM   0:00.36 /System/Library/\n",
      "zzz           572   0.0  0.3  4395956  24992   ??  Ss   11:01AM   0:00.86 /System/Library/\n",
      "_applepay          569   0.0  0.1  4332556   6152   ??  Ss   11:01AM   0:00.07 /usr/libexec/nfc\n",
      "zzz           568   0.0  0.1  4348596  10264   ??  S    11:01AM   0:02.73 /System/Library/\n",
      "zzz           567   0.0  0.1  4305932  10808   ??  S    11:01AM   0:00.08 /System/Library/\n",
      "_softwareupdate    566   0.0  0.1  4332408   9912   ??  Ss   11:01AM   0:00.08 /System/Library/\n",
      "zzz           560   0.0  0.2  4333156  17932   ??  S    11:01AM   0:01.11 /System/Library/\n",
      "root               559   0.0  0.1  4358728  11336   ??  Ss   11:01AM   0:05.51 /System/Library/\n",
      "zzz           558   0.0  0.2  4334752  15756   ??  S    11:01AM   0:00.18 /System/Library/\n",
      "zzz           557   0.0  0.1  4331936  10936   ??  Ss   11:01AM   0:01.16 /System/Library/\n",
      "zzz           548   0.0  0.3  4346312  22768   ??  S    11:01AM   0:16.12 /System/Library/\n",
      "zzz           547   0.0  0.2  4304740  15760   ??  Ss   11:01AM   0:00.06 /System/Library/\n",
      "zzz           546   0.0  0.3  4335060  22448   ??  S    11:01AM   0:00.48 /System/Library/\n",
      "zzz           545   0.0  0.1  4304900   8476   ??  S    11:01AM   0:00.04 /System/Library/\n",
      "root               544   0.0  0.1  4336496   7076   ??  Ss   11:01AM   0:00.68 /usr/libexec/rtc\n",
      "zzz           543   0.0  0.4  4337940  29432   ??  S    11:01AM   0:09.40 /System/Library/\n",
      "zzz           542   0.0  0.1  4334636  10468   ??  S    11:01AM   0:00.17 /System/Library/\n",
      "root               540   0.0  0.1  4295452   4352   ??  Ss   11:01AM   0:00.02 /System/Library/\n",
      "root               539   0.0  0.3  4334724  21932   ??  Ss   11:01AM   0:00.63 /usr/libexec/fin\n",
      "root               538   0.0  0.1  4305564   9520   ??  Ss   11:01AM   0:00.07 /System/Library/\n",
      "zzz           537   0.0  0.1  4842848  10496   ??  Ss   11:01AM   0:00.08 /System/Library/\n",
      "_softwareupdate    536   0.0  0.3  4428748  21340   ??  Ss   11:01AM   0:12.45 /System/Library/\n",
      "root               535   0.0  0.1  4333064   6412   ??  Ss   11:01AM   0:00.08 /usr/bin/sysdiag\n",
      "root               534   0.0  0.1  4351560  10944   ??  Ss   11:01AM   0:03.19 /System/Library/\n",
      "zzz           533   0.0  0.1  4331540   6468   ??  S    11:01AM   0:00.10 /System/Library/\n",
      "zzz           532   0.0  0.2  4306488  15624   ??  S    11:01AM   0:00.92 /System/Library/\n",
      "zzz           530   0.0  0.4  4371680  32708   ??  S    11:01AM   0:02.12 /System/Library/\n",
      "zzz           529   0.0  0.3  4394516  29200   ??  S    11:01AM   0:03.41 /System/Library/\n",
      "zzz           528   0.0  0.3  4361352  21192   ??  Ss   11:01AM   0:00.21 /System/Library/\n",
      "zzz           527   0.0  0.1  4333520   6768   ??  S    11:01AM   0:00.35 /System/Library/\n",
      "zzz           526   0.0  0.1  4336504   6800   ??  S    11:01AM   0:00.60 /System/Library/\n",
      "zzz           525   0.0  0.3  4371324  23076   ??  S    11:01AM   0:01.02 /System/Library/\n",
      "zzz           522   0.0  0.1  4333692   7400   ??  S    11:01AM   0:00.29 /System/Library/\n",
      "zzz           515   0.0  0.3  4360448  23104   ??  S    11:01AM   0:00.73 /System/Library/\n",
      "zzz           514   0.0  0.1  4305552   6376   ??  S    11:01AM   0:00.09 /usr/libexec/Sid\n",
      "zzz           510   0.0  0.2  4905644  19448   ??  S    11:01AM   0:02.03 /System/Library/\n",
      "zzz           508   0.0  0.1  4333188  11460   ??  S    11:01AM   0:04.02 /System/Library/\n",
      "_locationd         507   0.0  0.0  4305884   1096   ??  S    11:01AM   0:00.09 /usr/sbin/distno\n",
      "zzz           506   0.0  0.1  4338700  11616   ??  S    11:01AM   0:17.23 /System/Library/\n",
      "zzz           505   0.0  0.2  4377216  13368   ??  S    11:01AM   0:01.58 /System/Library/\n",
      "zzz           504   0.0  0.1  4305744   5484   ??  S    11:01AM   0:01.44 /usr/libexec/pbo\n",
      "root               502   0.0  0.1  4309348   7140   ??  Ss   11:01AM   0:01.16 /usr/sbin/fileco\n",
      "zzz           501   0.0  0.2  4336256  14096   ??  S    11:01AM   0:15.34 /usr/libexec/pkd\n",
      "_cmiodalassistants   499   0.0  0.1  4298008   4684   ??  Ss   11:01AM   0:00.07 /Library/CoreMed\n",
      "zzz           498   0.0  0.1  4332756  10704   ??  Ss   11:01AM   0:00.28 /System/Library/\n",
      "root               496   0.0  0.0  4305208   1164   ??  Ss   11:01AM   0:00.02 /System/Library/\n",
      "zzz           494   0.0  0.1  4334288   6620   ??  S    11:01AM   0:01.76 /System/Library/\n",
      "zzz           493   0.0  0.2  4338528  17280   ??  S    11:01AM   0:00.82 /System/Library/\n",
      "_fpsd              490   0.0  0.1  4308940   8120   ??  Ss   11:01AM   0:01.42 /System/Library/\n",
      "root               489   0.0  0.1  4332964   6060   ??  S    11:01AM   0:00.20 /usr/sbin/system\n",
      "zzz           488   0.0  0.1  4304624   4664   ??  Ss   11:01AM   0:00.07 /System/Library/\n",
      "root               487   0.0  0.1  4305104   4760   ??  Ss   11:01AM   0:02.39 /usr/libexec/sys\n",
      "zzz           486   0.0  0.1  4338244   8028   ??  S    11:01AM   0:01.08 /System/Library/\n",
      "zzz           485   0.0  0.2  4573488  20524   ??  S    11:01AM   0:28.40 /System/Library/\n",
      "root               484   0.0  0.1  4305288   7960   ??  Ss   11:01AM   0:00.03 /System/Library/\n",
      "zzz           482   0.0  0.2  4356760  13060   ??  S    11:01AM   0:01.73 /System/Library/\n",
      "root               481   0.0  0.1  4336356   6964   ??  Ss   11:01AM   0:00.63 /usr/sbin/system\n",
      "zzz           477   0.0  0.3  4368160  23052   ??  S    11:01AM   0:14.48 /System/Library/\n",
      "zzz           475   0.0  0.3  4338764  22412   ??  S    11:01AM   0:09.30 /System/Library/\n",
      "zzz           474   0.0  0.1  4333992   7504   ??  S    11:01AM   0:00.54 /usr/libexec/swc\n",
      "zzz           472   0.0  0.5  4643148  37868   ??  S    11:01AM   0:03.70 /System/Library/\n",
      "zzz           471   0.0  0.1  4333656   8948   ??  S    11:01AM   0:03.41 /System/Library/\n",
      "zzz           470   0.0  0.2  4345904  14484   ??  S    11:01AM   0:03.95 /usr/libexec/kno\n",
      "root               468   0.0  0.1  4304948   9608   ??  Ss   11:01AM   0:00.06 /System/Library/\n",
      "zzz           467   0.0  0.1  4305848   5348   ??  S    11:01AM   0:00.05 /usr/libexec/spi\n",
      "root               466   0.0  0.5  4359332  41912   ??  Ss   11:01AM   0:06.79 /usr/sbin/spindu\n",
      "zzz           464   0.0  0.4  4343824  33040   ??  Ss   11:00AM   0:05.59 /System/Library/\n",
      "root               463   0.0  0.1  4304684   5292   ??  Ss   11:00AM   0:00.04 /System/Library/\n",
      "_locationd         462   0.0  0.1  4337548   6760   ??  S    11:00AM   0:00.39 /usr/libexec/tru\n",
      "_locationd         461   0.0  0.0  4305104   1220   ??  S    11:00AM   0:00.09 /usr/sbin/cfpref\n",
      "_locationd         460   0.0  0.1  4333576   6736   ??  S    11:00AM   0:00.50 /usr/libexec/sec\n",
      "_locationd         459   0.0  0.1  4344076   8928   ??  S    11:00AM   0:00.82 /System/Library/\n",
      "zzz           458   0.0  0.1  4333504   9580   ??  S    11:00AM   0:05.77 /System/Library/\n",
      "zzz           457   0.0  0.4  4349948  33152   ??  S    11:00AM   1:50.74 /System/Library/\n",
      "zzz           455   0.0  0.1  4338072  11044   ??  Ss   11:00AM   0:00.60 /System/Library/\n",
      "zzz           454   0.0  0.1  4331992   5472   ??  S    11:00AM   0:00.59 /System/Library/\n",
      "zzz           452   0.0  0.2  4339208  20868   ??  S    11:00AM   0:00.75 /usr/libexec/fmf\n",
      "zzz           451   0.0  0.2  4332920  16784   ??  S    11:00AM   0:00.12 /System/Library/\n",
      "zzz           450   0.0  0.4  4351416  29640   ??  S    11:00AM   0:01.23 /System/Library/\n",
      "zzz           449   0.0  0.3  4304924  26300   ??  S    11:00AM   0:00.07 /System/Library/\n",
      "zzz           448   0.0  0.2  4331920  13768   ??  S    11:00AM   0:00.12 /System/Library/\n",
      "zzz           447   0.0  0.1  4304660   9228   ??  S    11:00AM   0:00.09 /System/Library/\n",
      "zzz           445   0.0  0.1  4307140   6612   ??  S    11:00AM   0:00.21 /System/Library/\n",
      "zzz           443   0.0  0.4  4350644  34624   ??  S    11:00AM   0:15.06 /usr/libexec/sha\n",
      "root               442   0.0  0.1  4305392   8344   ??  Ss   11:00AM   0:00.02 /System/Library/\n",
      "zzz           441   0.0  0.2  4357132  13008   ??  S    11:00AM   0:01.58 /System/Library/\n",
      "zzz           440   0.0  0.1  4305244   5188   ??  S    11:00AM   0:00.03 /System/Library/\n",
      "zzz           439   0.0  0.1  4342800  10588   ??  S    11:00AM   0:07.94 /usr/libexec/nsu\n",
      "zzz           438   0.0  0.1  4339388  10132   ??  S    11:00AM   0:02.30 /System/Library/\n",
      "root               437   0.0  0.1  4332740   6680   ??  Ss   11:00AM   0:05.46 /usr/sbin/wirele\n",
      "root               436   0.0  0.1  4333400   6580   ??  Ss   11:00AM   0:00.22 /usr/libexec/sec\n",
      "root               435   0.0  0.1  4333360   9672   ??  Ss   11:00AM   0:04.44 /System/Library/\n",
      "zzz           434   0.0  0.5  4940460  41516   ??  S    11:00AM   0:06.11 /System/Library/\n",
      "zzz           433   0.0  0.1  4335836  10060   ??  S    11:00AM   0:00.42 /usr/libexec/net\n",
      "zzz           432   0.0  0.6  4411048  49516   ??  S    11:00AM   0:18.84 /System/Library/\n",
      "zzz           431   0.0  0.2  4335676  15680   ??  S    11:00AM   0:01.44 /usr/sbin/userno\n",
      "zzz           430   0.0  0.4  4345976  34784   ??  S    11:00AM   0:04.86 /usr/libexec/rou\n",
      "zzz           427   0.0  0.2  4340860  18612   ??  S    11:00AM   0:09.93 /usr/libexec/nsu\n",
      "zzz           426   0.0  0.2  4334056  17684   ??  S    11:00AM   0:01.36 /usr/libexec/rap\n",
      "zzz           425   0.0  0.2  4304816  17392   ??  S    11:00AM   0:01.12 /System/Library/\n",
      "_analyticsd        424   0.0  0.1  4333528   8484   ??  Ss   11:00AM   0:02.18 /System/Library/\n",
      "zzz           423   0.0  0.4  4359568  36468   ??  S    11:00AM   0:29.69 /System/Library/\n",
      "zzz           422   0.0  0.2  4306196  15860   ??  S    11:00AM   0:00.29 /System/Library/\n",
      "zzz           421   0.0  0.1  4338360  11396   ??  S    11:00AM   0:20.11 /System/Library/\n",
      "zzz           420   0.0  0.2  4334176  20224   ??  S    11:00AM   0:00.89 /System/Library/\n",
      "zzz           419   0.0  0.3  4344676  26720   ??  S    11:00AM   0:03.11 /System/Library/\n",
      "zzz           418   0.0  0.6  4412480  48212   ??  S    11:00AM   0:31.99 /System/Library/\n",
      "zzz           416   0.0  0.4  4353872  32084   ??  S    11:00AM   1:50.05 /System/Library/\n",
      "root               415   0.0  0.1  4332388  11360   ??  Ss   11:00AM   0:00.12 /usr/sbin/Wirele\n",
      "zzz           414   0.0  0.2  4347740  14776   ??  S    11:00AM   0:11.71 /usr/libexec/sec\n",
      "root               413   0.0  0.3  4413704  24380   ??  Ss   11:00AM   0:00.73 /System/Library/\n",
      "zzz           412   0.0  0.1  4338692   9592   ??  S    11:00AM   0:24.82 /usr/libexec/sec\n",
      "zzz           410   0.0  0.1  4336732   6552   ??  S    11:00AM   0:00.72 /usr/libexec/lan\n",
      "zzz           409   0.0  0.1  4346100  11240   ??  S    11:00AM   0:15.66 /usr/libexec/lsd\n",
      "zzz           408   0.0  0.2  4375252  19220   ??  S    11:00AM   0:39.74 /usr/libexec/tru\n",
      "zzz           407   0.0  0.3  4345536  27200   ??  S    11:00AM   0:03.32 /System/Library/\n",
      "zzz           404   0.0  0.1  4305884   4652   ??  S    11:00AM   0:07.40 /usr/sbin/distno\n",
      "zzz           402   0.0  0.4  4334364  34144   ??  S    11:00AM   0:10.73 /usr/libexec/Use\n",
      "zzz           400   0.0  0.0  4306808   3896   ??  S    11:00AM   0:08.02 /usr/sbin/cfpref\n",
      "root               399   0.0  0.0  4306316   4192   ??  Ss   11:00AM   0:00.06 /usr/libexec/sec\n",
      "zzz           398   0.0  0.1  4332212  11068   ??  S    11:00AM   0:00.45 /System/Library/\n",
      "root               397   0.0  0.0  4305884   1108   ??  S    11:00AM   0:00.10 /usr/sbin/distno\n",
      "root               396   0.0  0.1  4305100   8944   ??  Ss   11:00AM   0:00.07 /System/Library/\n",
      "root               395   0.0  0.1  4332860   9692   ??  S    11:00AM   0:03.20 /System/Library/\n",
      "root               392   0.0  0.1  4305136   4976   ??  Ss   11:00AM   0:00.09 /System/Library/\n",
      "root               391   0.0  0.1  4309700   7768   ??  Ss   11:00AM   0:02.69 /System/Library/\n",
      "root               386   0.0  0.1  4305536   8748   ??  Ss   11:00AM   0:00.04 /usr/libexec/boo\n",
      "_captiveagent      376   0.0  0.1  4306968   5704   ??  Ss   11:00AM   0:00.21 /usr/libexec/cap\n",
      "root               373   0.0  0.1  4307384   6596   ??  Ss   11:00AM   0:01.10 /System/Library/\n",
      "_windowserver      364   0.0  0.1  4843524  11280   ??  Ss   11:00AM   0:01.86 /System/Library/\n",
      "root               363   0.0  0.1  4305476   4548   ??  Ss   11:00AM   0:00.04 /usr/libexec/col\n",
      "root               362   0.0  0.1  4304708   5516   ??  Ss   11:00AM   0:00.06 /usr/libexec/col\n",
      "root               361   0.0  0.1  4331156   4720   ??  Ss   11:00AM   0:00.11 /System/Library/\n",
      "_coreaudiod        351   0.0  0.1  4304868   8344   ??  Ss   11:00AM   0:00.02 /System/Library/\n",
      "root               350   0.0  0.1  4306592   5444   ??  Ss   11:00AM   0:00.06 /System/Library/\n",
      "root               347   0.0  0.1  4288276   8540   ??  Ss   11:00AM   0:00.10 /usr/libexec/the\n",
      "root               341   0.0  0.1  4332308   9276   ??  Ss   11:00AM   0:00.05 /System/Library/\n",
      "root               340   0.0  0.1  4289232   4212   ??  Ss   11:00AM   0:00.19 /usr/libexec/wat\n",
      "root               339   0.0  0.1  4306344   4596   ??  Ss   11:00AM   0:01.66 /System/Library/\n",
      "root               337   0.0  0.1  4333424   5708   ??  Ss   11:00AM   0:00.30 /System/Library/\n",
      "_atsserver         325   0.0  0.1  4338252   6184   ??  Ss   11:00AM   0:01.12 /System/Library/\n",
      "root               258   0.0  0.1  4338300  11652   ??  Ss   11:00AM   0:09.07 /System/Library/\n",
      "root               249   0.0  0.0  4296068    752   ??  Ss   11:00AM   0:00.06 /usr/sbin/cron\n",
      "_assetcache        242   0.0  0.1  4335124   9928   ??  Ss   11:00AM   0:00.14 /usr/libexec/Ass\n",
      "root               241   0.0  0.1  4358552   7920   ??  Ss   11:00AM   0:03.25 /System/Library/\n",
      "_nsurlstoraged     240   0.0  0.1  4305348   5984   ??  Ss   11:00AM   0:00.27 /usr/libexec/nsu\n",
      "_assetcache        239   0.0  0.1  4336360   7076   ??  Ss   11:00AM   0:00.57 /System/Library/\n",
      "root               238   0.0  0.1  4334232   8752   ??  Ss   11:00AM   0:19.00 /usr/libexec/App\n",
      "root               232   0.0  0.2  4345444  13024   ??  Ss   10:59AM   0:34.83 /usr/libexec/air\n",
      "root               231   0.0  0.1  4331968   6592   ??  Ss   10:59AM   0:00.08 /System/Library/\n",
      "root               230   0.0  0.0  4304840   4124   ??  Ss   10:59AM   0:00.02 /usr/libexec/smd\n",
      "root               227   0.0  0.1  4332532   9376   ??  Ss   10:59AM   0:04.92 /usr/libexec/usb\n",
      "root               226   0.0  0.1  4304660   5028   ??  Ss   10:59AM   0:00.07 /usr/libexec/apf\n",
      "root               224   0.0  0.1  4296512   9028   ??  Ss   10:59AM   0:00.05 /System/Library/\n",
      "root               205   0.0  0.1  4333044   7908   ??  Ss   10:59AM   0:00.51 /System/Library/\n",
      "root               182   0.0  0.1  4332456   5452   ??  Ss   10:59AM   0:01.28 /usr/sbin/mDNSRe\n",
      "root               178   0.0  0.2  4351956  17676   ??  Ss   10:59AM   1:01.53 /usr/libexec/sys\n",
      "_mdnsresponder     176   0.0  0.1  4334088   7372   ??  Ss   10:59AM   0:08.11 /usr/sbin/mDNSRe\n",
      "root               175   0.0  0.1  4354004  10124   ??  Ss   10:59AM   0:13.24 /usr/libexec/lsd\n",
      "_nsurlsessiond     174   0.0  0.2  4341264  15340   ??  Ss   10:59AM   0:05.38 /usr/libexec/nsu\n",
      "root               167   0.0  0.2  4363296  14824   ??  Ss   10:59AM   0:13.77 /usr/libexec/mob\n",
      "_networkd          165   0.0  0.1  4340980  11836   ??  Ss   10:59AM   0:06.75 /usr/libexec/sym\n",
      "_coreaudiod        164   0.0  0.1  4332020   5940   ??  Ss   10:59AM   0:00.24 /System/Library/\n",
      "_ctkd              160   0.0  0.1  4306376   8128   ??  Ss   10:59AM   0:00.04 /System/Library/\n",
      "root               153   0.0  0.1  4305172   8084   ??  Ss   10:59AM   0:00.03 /System/Library/\n",
      "_coreaudiod        136   0.0  0.2  4328100  12932   ??  Ss   10:59AM   0:35.46 /usr/sbin/coreau\n",
      "root               134   0.0  0.1  4353960  10204   ??  Ss   10:59AM   0:53.87 /usr/libexec/tru\n",
      "root               133   0.0  0.1  4336632   7092   ??  Ss   10:59AM   0:01.43 /usr/libexec/neh\n",
      "root               128   0.0  0.2  4338100  15644   ??  Ss   10:59AM   0:09.10 /System/Library/\n",
      "root               126   0.0  0.1  4358928   8648   ??  Ss   10:59AM   0:07.45 /System/Library/\n",
      "root               125   0.0  0.1  4305224   4324   ??  Ss   10:59AM   0:00.10 aslmanager\n",
      "root               124   0.0  0.1  4335612   8984   ??  Ss   10:59AM   0:04.17 /System/Library/\n",
      "root               122   0.0  0.1  4337264   7520   ??  Ss   10:59AM   0:02.71 /usr/libexec/amf\n",
      "_distnote          119   0.0  0.0  4305884   1720   ??  Ss   10:59AM   0:00.87 /usr/sbin/distno\n",
      "root               117   0.0  0.2  4335640  12588   ??  Ss   10:59AM   0:00.76 /usr/libexec/Air\n",
      "root               116   0.0  0.1  4332764  10928   ??  Ss   10:59AM   0:01.58 /usr/libexec/cor\n",
      "root               113   0.0  0.1  4336232   9172   ??  Ss   10:59AM   0:25.30 /usr/sbin/blueto\n",
      "root               111   0.0  0.0  4304836   4136   ??  Ss   10:59AM   0:00.02 /usr/sbin/Kernel\n",
      "root               110   0.0  0.1  4344000   6512   ??  Ss   10:59AM   0:00.89 /System/Library/\n",
      "root               109   0.0  0.1  4304792   5520   ??  Ss   10:59AM   0:00.06 /System/Library/\n",
      "root               102   0.0  0.2  4336700  12932   ??  Ss   10:59AM   0:05.77 /usr/libexec/das\n",
      "_displaypolicyd    100   0.0  0.1  4307848   8908   ??  Ss   10:59AM   0:00.12 /usr/libexec/dis\n",
      "root                99   0.0  0.1  4304940   4688   ??  Ss   10:59AM   0:00.03 autofsd\n",
      "_locationd          97   0.0  0.2  4344068  14652   ??  Ss   10:59AM   0:23.99 /usr/libexec/loc\n",
      "root                94   0.0  0.1  4335368   9096   ??  Ss   10:59AM   0:10.01 /usr/sbin/securi\n",
      "root                93   0.0  0.1  4288848   4480   ??  Ss   10:59AM   0:00.04 /Applications/On\n",
      "_timed              91   0.0  0.1  4331572   6504   ??  Ss   10:59AM   0:00.53 /usr/libexec/tim\n",
      "root                89   0.0  0.1  4332812   6104   ??  Ss   10:59AM   0:00.22 /System/Library/\n",
      "root                88   0.0  0.1  4279464   4204   ??  Ss   10:59AM   0:00.02 /Library/Privile\n",
      "root                87   0.0  0.2  4336224  18688   ??  Ss   10:59AM   0:03.01 /System/Library/\n",
      "root                83   0.0  0.2  4339256  14440   ??  Ss   10:59AM   0:02.89 /usr/libexec/cor\n",
      "root                82   0.0  0.4  4305636  30128   ??  Ss   10:59AM   0:00.19 /System/Library/\n",
      "root                78   0.0  0.1  4331388   6648   ??  Ss   10:59AM   0:08.59 /usr/libexec/dis\n",
      "_iconservices       77   0.0  0.1  4333416   7552   ??  Ss   10:59AM   0:00.93 /System/Library/\n",
      "root                70   0.0  0.0  4304808   4156   ??  Ss   10:59AM   0:00.02 /usr/libexec/key\n",
      "root                64   0.0  0.1  4338844  10308   ??  Ss   10:59AM   0:03.36 /usr/libexec/con\n",
      "root                62   0.0  0.2  4343464  16340   ??  Ss   10:59AM   0:15.34 /usr/sbin/system\n",
      "_appleevents        61   0.0  0.1  4333868   7064   ??  Ss   10:59AM   0:01.17 /System/Library/\n",
      "root                56   0.0  0.1  4382680   8544   ??  Ss   10:59AM   0:23.41 /System/Library/\n",
      "root                55   0.0  0.2  4349700  13428   ??  Ss   10:59AM   0:55.26 /usr/libexec/kex\n",
      "root                54   0.0  0.1  4296656   4760   ??  Ss   10:59AM   0:00.89 /System/Library/\n",
      "root                51   0.0  0.2  4333996  16920   ??  Ss   10:59AM   0:04.43 /usr/libexec/Use\n",
      "root                50   0.0  0.0  4306852   1016   ??  Ss   10:59AM   0:02.47 /usr/sbin/syslog\n",
      "root              7947   0.0  0.0  4277816   1132 s004  Rs+   8:48PM   0:00.01 ps aux\n",
      "zzz          7345   0.0  0.0        0      0   ??  Z     8:07PM   0:00.00 (bash)\n",
      "zzz          7920   0.0  0.2  4332376  15576   ??  S     8:41PM   0:00.16 /System/Library/\n",
      "zzz          7914   0.0  0.6  4317964  46560   ??  Ss    8:39PM   0:02.17 //anaconda3/bin/\n",
      "zzz          7913   0.0  0.2  4320208  18708   ??  S     8:39PM   0:00.10 /System/Library/\n",
      "zzz          7912   0.0  0.5  4404272  45956   ??  Ss    8:38PM   0:01.06 /System/Library/\n",
      "zzz          7910   0.0  0.2  4853996  18420   ??  S     8:38PM   0:00.42 /System/Library/\n",
      "zzz          7903   0.0  0.2  4335864  16328   ??  S     8:37PM   0:00.18 /System/Library/\n",
      "zzz          7902   0.0  0.5  4395356  39776   ??  Ss    8:37PM   0:00.62 /System/Library/\n",
      "zzz          7901   0.0  0.1  4334960   6980   ??  S     8:37PM   0:00.10 /System/Library/\n",
      "zzz          7899   0.0  0.1  4308876  10896   ??  Ss    8:37PM   0:00.05 /Applications/Xc\n",
      "zzz          7898   0.0  0.1  4331576  10996   ??  Ss    8:37PM   0:00.06 /Applications/Xc\n",
      "zzz          7897   0.0  0.1  4331572  10672   ??  Ss    8:37PM   0:00.05 /Applications/Xc\n",
      "zzz          7896   0.0  0.1  4337472  12200   ??  S     8:37PM   0:00.10 /Applications/Xc\n",
      "zzz          7895   0.0  0.1  4332164  11100   ??  Ss    8:37PM   0:00.08 /Applications/Xc\n",
      "zzz          7894   0.0  0.1  4332104  11124   ??  Ss    8:37PM   0:00.07 /Applications/Xc\n",
      "zzz          7893   0.0  0.1  4332200  11124   ??  Ss    8:37PM   0:00.06 /Applications/Xc\n",
      "zzz          7892   0.0  0.1  4332188  11088   ??  Ss    8:37PM   0:00.07 /Applications/Xc\n",
      "zzz          7891   0.0  0.1  4332120  11080   ??  Ss    8:37PM   0:00.07 /Applications/Xc\n",
      "zzz          7890   0.0  0.1  4332128  11088   ??  Ss    8:37PM   0:00.07 /Applications/Xc\n",
      "root              7888   0.0  0.1  4331556   6780   ??  Ss    8:37PM   0:00.05 /usr/sbin/ocspd\n",
      "zzz          7887   0.0  2.1  5995480 180320   ??  S     8:37PM   0:07.67 /Applications/Xc\n",
      "zzz          7875   0.0  0.1  4342572  11512   ??  S     8:33PM   0:00.20 /System/Library/\n",
      "zzz          7870   0.0  0.5  4317964  41052   ??  Ss    8:33PM   0:04.51 //anaconda3/bin/\n",
      "zzz          7865   0.0  0.5  4311668  38292   ??  Ss    8:33PM   0:00.69 //anaconda3/bin/\n",
      "zzz          7860   0.0  0.5  4311668  39592   ??  Ss    8:33PM   0:00.97 //anaconda3/bin/\n",
      "zzz          7834   0.0  0.2  4842956  17236   ??  Ss    8:28PM   0:00.26 /System/Library/\n",
      "zzz          7833   0.0  0.2  4877512  15448   ??  Ss    8:28PM   0:00.19 /Applications/iT\n",
      "zzz          7827   0.0  0.1  4305268   9912   ??  Ss    8:28PM   0:00.28 /System/Library/\n",
      "zzz          7826   0.0  0.3  4871988  22120   ??  S     8:28PM   0:00.41 /System/Library/\n"
     ]
    }
   ],
   "source": [
    "!ps aux"
   ]
  }
 ],
 "metadata": {
  "kernelspec": {
   "display_name": "Python 3",
   "language": "python",
   "name": "python3"
  },
  "language_info": {
   "codemirror_mode": {
    "name": "ipython",
    "version": 3
   },
   "file_extension": ".py",
   "mimetype": "text/x-python",
   "name": "python",
   "nbconvert_exporter": "python",
   "pygments_lexer": "ipython3",
   "version": "3.7.3"
  }
 },
 "nbformat": 4,
 "nbformat_minor": 4
}
