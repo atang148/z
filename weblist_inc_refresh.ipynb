{
 "cells": [
  {
   "cell_type": "markdown",
   "metadata": {},
   "source": [
    "file system inventory\n",
    "================\n"
   ]
  },
  {
   "cell_type": "code",
   "execution_count": 1,
   "metadata": {},
   "outputs": [
    {
     "name": "stdout",
     "output_type": "stream",
     "text": [
      "## [./weblist_inc_refresh.html](./weblist_inc_refresh.html)\n",
      "\n",
      "## [./test/TEST copy.nb.html](./test/TEST copy.nb.html)\n",
      "\n",
      "## [./test/TEST.nb.html](./test/TEST.nb.html)\n",
      "\n",
      "## [./healthcare/cms_play.html](./healthcare/cms_play.html)\n",
      "\n",
      "## [./web-scrape/Nguoi-Viet/nguoiviet-webscrape-Copy1.html](./web-scrape/Nguoi-Viet/nguoiviet-webscrape-Copy1.html)\n",
      "\n",
      "## [./html/dl/viec-van-phong-office-clerical-jobs.htm](./html/dl/viec-van-phong-office-clerical-jobs.htm)\n",
      "\n",
      "## [./html/dl/UNH_zacks.htm](./html/dl/UNH_zacks.htm)\n",
      "\n",
      "## [./html/dl/UNH_googlefinance.htm](./html/dl/UNH_googlefinance.htm)\n",
      "\n",
      "## [./html/dl/UNH_marketwatch_summary.htm](./html/dl/UNH_marketwatch_summary.htm)\n",
      "\n",
      "## [./html/dl/sinh-hoat-cong-dong.htm](./html/dl/sinh-hoat-cong-dong.htm)\n",
      "\n",
      "## [./html/dl/sang-nhuong-co-so-business-opportunities.htm](./html/dl/sang-nhuong-co-so-business-opportunities.htm)\n",
      "\n",
      "## [./html/dl/dam-bop-thu-gian-massage-relax.htm](./html/dl/dam-bop-thu-gian-massage-relax.htm)\n",
      "\n",
      "## [./html/dl/UNH_marketwatch.htm](./html/dl/UNH_marketwatch.htm)\n",
      "\n",
      "## [./system-admin/kaleinfo_local_sysinfo.htm](./system-admin/kaleinfo_local_sysinfo.htm)\n",
      "\n",
      "## [./system-admin/sysadmin.html](./system-admin/sysadmin.html)\n",
      "\n",
      "## [./TODO.txt](./TODO.txt)\n",
      "\n",
      "## [./test/test_log.txt](./test/test_log.txt)\n",
      "\n",
      "## [./web-scrape/qstockvfiaxiaweb.txt](./web-scrape/qstockvfiaxiaweb.txt)\n",
      "\n",
      "## [./web-scrape/Nguoi-Viet/viec-hair-nail-job-browse-96aspx.txt](./web-scrape/Nguoi-Viet/viec-hair-nail-job-browse-96aspx.txt)\n",
      "\n",
      "## [./web-scrape/Nguoi-Viet/dich-vu-services-browse-100aspx.txt](./web-scrape/Nguoi-Viet/dich-vu-services-browse-100aspx.txt)\n",
      "\n",
      "## [./web-scrape/Nguoi-Viet/tim-nguoi-than-search-for-family-friends-browse-120aspx.txt](./web-scrape/Nguoi-Viet/tim-nguoi-than-search-for-family-friends-browse-120aspx.txt)\n",
      "\n",
      "## [./web-scrape/Nguoi-Viet/lam-vuon-landscaping-browse-108aspx.txt](./web-scrape/Nguoi-Viet/lam-vuon-landscaping-browse-108aspx.txt)\n",
      "\n",
      "## [./web-scrape/Nguoi-Viet/com-thang-meal-delivery-browse-116aspx.txt](./web-scrape/Nguoi-Viet/com-thang-meal-delivery-browse-116aspx.txt)\n",
      "\n",
      "## [./web-scrape/Nguoi-Viet/phong-cho-thue-rooms-to-share-browse-88aspx.txt](./web-scrape/Nguoi-Viet/phong-cho-thue-rooms-to-share-browse-88aspx.txt)\n",
      "\n",
      "## [./web-scrape/Nguoi-Viet/sua-ong-nuoc-plumbing-browse-107aspx.txt](./web-scrape/Nguoi-Viet/sua-ong-nuoc-plumbing-browse-107aspx.txt)\n",
      "\n",
      "## [./web-scrape/Nguoi-Viet/viec-lam-employment-browse-93aspx.txt](./web-scrape/Nguoi-Viet/viec-lam-employment-browse-93aspx.txt)\n",
      "\n",
      "## [./web-scrape/Nguoi-Viet/ban-cac-loai-items-for-sale-browse-118aspx.txt](./web-scrape/Nguoi-Viet/ban-cac-loai-items-for-sale-browse-118aspx.txt)\n",
      "\n",
      "## [./web-scrape/Nguoi-Viet/tim-ban-bon-phuong-connecting-with-people-browse-121aspx.txt](./web-scrape/Nguoi-Viet/tim-ban-bon-phuong-connecting-with-people-browse-121aspx.txt)\n",
      "\n",
      "## [./web-scrape/Nguoi-Viet/viec-nha-domestic-assistance-browse-94aspx.txt](./web-scrape/Nguoi-Viet/viec-nha-domestic-assistance-browse-94aspx.txt)\n",
      "\n",
      "## [./web-scrape/Nguoi-Viet/nha-cho-thue-house-for-rent-browse-86aspx.txt](./web-scrape/Nguoi-Viet/nha-cho-thue-house-for-rent-browse-86aspx.txt)\n",
      "\n",
      "## [./web-scrape/Nguoi-Viet/nha-ban-house-for-sale-browse-90aspx.txt](./web-scrape/Nguoi-Viet/nha-ban-house-for-sale-browse-90aspx.txt)\n",
      "\n",
      "## [./web-scrape/Nguoi-Viet/giu-tre-child-care-babysitter-browse-117aspx.txt](./web-scrape/Nguoi-Viet/giu-tre-child-care-babysitter-browse-117aspx.txt)\n",
      "\n",
      "## [./web-scrape/Nguoi-Viet/raovatnguoi-vietcom.txt](./web-scrape/Nguoi-Viet/raovatnguoi-vietcom.txt)\n",
      "\n",
      "## [./web-scrape/Nguoi-Viet/vay-muon-dau-tu-financing-investments-browse-111aspx.txt](./web-scrape/Nguoi-Viet/vay-muon-dau-tu-financing-investments-browse-111aspx.txt)\n",
      "\n",
      "## [./web-scrape/Nguoi-Viet/xe-ban-auto-for-sale-browse-91aspx.txt](./web-scrape/Nguoi-Viet/xe-ban-auto-for-sale-browse-91aspx.txt)\n",
      "\n",
      "## [./web-scrape/Nguoi-Viet/suc-khoe-tham-my-health-beauty-browse-112aspx.txt](./web-scrape/Nguoi-Viet/suc-khoe-tham-my-health-beauty-browse-112aspx.txt)\n",
      "\n",
      "## [./web-scrape/Nguoi-Viet/giat-tham-carpet-cleaning-browse-109aspx.txt](./web-scrape/Nguoi-Viet/giat-tham-carpet-cleaning-browse-109aspx.txt)\n",
      "\n",
      "## [./web-scrape/Nguoi-Viet/viec-cho-nha-hang-restaurants-market-jobs-browse-98aspx.txt](./web-scrape/Nguoi-Viet/viec-cho-nha-hang-restaurants-market-jobs-browse-98aspx.txt)\n",
      "\n",
      "## [./web-scrape/Nguoi-Viet/dam-bop-thu-gian-massage-relax-browse-123aspx.txt](./web-scrape/Nguoi-Viet/dam-bop-thu-gian-massage-relax-browse-123aspx.txt)\n",
      "\n",
      "## [./web-scrape/Nguoi-Viet/sang-nhuong-co-so-business-opportunities-browse-92aspx.txt](./web-scrape/Nguoi-Viet/sang-nhuong-co-so-business-opportunities-browse-92aspx.txt)\n",
      "\n",
      "## [./web-scrape/Nguoi-Viet/loi-nguyen-ton-giao-religious-prayers-browse-115aspx.txt](./web-scrape/Nguoi-Viet/loi-nguyen-ton-giao-religious-prayers-browse-115aspx.txt)\n",
      "\n",
      "## [./web-scrape/Nguoi-Viet/sua-xe-auto-repair-browse-104aspx.txt](./web-scrape/Nguoi-Viet/sua-xe-auto-repair-browse-104aspx.txt)\n",
      "\n",
      "## [./web-scrape/Nguoi-Viet/bang-hieu-sign-banners-browse-102aspx.txt](./web-scrape/Nguoi-Viet/bang-hieu-sign-banners-browse-102aspx.txt)\n",
      "\n",
      "## [./web-scrape/Nguoi-Viet/nhan-tin-thong-bao-annoucements-browse-119aspx.txt](./web-scrape/Nguoi-Viet/nhan-tin-thong-bao-annoucements-browse-119aspx.txt)\n",
      "\n",
      "## [./web-scrape/Nguoi-Viet/rao-vat-co-danh-thiep-business-cards-size-ads-browse-122aspx.txt](./web-scrape/Nguoi-Viet/rao-vat-co-danh-thiep-business-cards-size-ads-browse-122aspx.txt)\n",
      "\n",
      "## [./web-scrape/Nguoi-Viet/viec-hang-xuong-manufacturing-jobs-browse-95aspx.txt](./web-scrape/Nguoi-Viet/viec-hang-xuong-manufacturing-jobs-browse-95aspx.txt)\n",
      "\n",
      "## [./web-scrape/Nguoi-Viet/linh-tinh-miscellaneous-browse-114aspx.txt](./web-scrape/Nguoi-Viet/linh-tinh-miscellaneous-browse-114aspx.txt)\n",
      "\n",
      "## [./web-scrape/Nguoi-Viet/du-lich-travel-browse-101aspx.txt](./web-scrape/Nguoi-Viet/du-lich-travel-browse-101aspx.txt)\n",
      "\n",
      "## [./web-scrape/Nguoi-Viet/viec-tho-may-sewing-jobs-browse-99aspx.txt](./web-scrape/Nguoi-Viet/viec-tho-may-sewing-jobs-browse-99aspx.txt)\n",
      "\n",
      "## [./web-scrape/Nguoi-Viet/Do-dung-mien-phi-free-browse-124aspx.txt](./web-scrape/Nguoi-Viet/Do-dung-mien-phi-free-browse-124aspx.txt)\n",
      "\n",
      "## [./web-scrape/Nguoi-Viet/sua-nha-tiem-construction-browse-105aspx.txt](./web-scrape/Nguoi-Viet/sua-nha-tiem-construction-browse-105aspx.txt)\n",
      "\n",
      "## [./web-scrape/Nguoi-Viet/day-kem-huan-luyen-tutoring-training-browse-110aspx.txt](./web-scrape/Nguoi-Viet/day-kem-huan-luyen-tutoring-training-browse-110aspx.txt)\n",
      "\n",
      "## [./web-scrape/Nguoi-Viet/apartment-condo-cho-thue-for-rent-browse-87aspx.txt](./web-scrape/Nguoi-Viet/apartment-condo-cho-thue-for-rent-browse-87aspx.txt)\n",
      "\n",
      "## [./web-scrape/Nguoi-Viet/don-nha-moving-browse-106aspx.txt](./web-scrape/Nguoi-Viet/don-nha-moving-browse-106aspx.txt)\n",
      "\n",
      "## [./web-scrape/Nguoi-Viet/tu-vi-chiem-tinh-psychics-astrologers-browse-113aspx.txt](./web-scrape/Nguoi-Viet/tu-vi-chiem-tinh-psychics-astrologers-browse-113aspx.txt)\n",
      "\n",
      "## [./web-scrape/Nguoi-Viet/viec-van-phong-office-clerical-jobs-browse-97aspx.txt](./web-scrape/Nguoi-Viet/viec-van-phong-office-clerical-jobs-browse-97aspx.txt)\n",
      "\n",
      "## [./web-scrape/Nguoi-Viet/sua-may-moc-appliances-repair-browse-103aspx.txt](./web-scrape/Nguoi-Viet/sua-may-moc-appliances-repair-browse-103aspx.txt)\n",
      "\n",
      "## [./system-admin/html_tail.txt](./system-admin/html_tail.txt)\n",
      "\n",
      "## [./system-admin/output_doadmin_kaleinfo.local.txt](./system-admin/output_doadmin_kaleinfo.local.txt)\n",
      "\n",
      "## [./system-admin/html_header.txt](./system-admin/html_header.txt)\n",
      "\n",
      "## [./system-admin/sysadmin_rpt.txt](./system-admin/sysadmin_rpt.txt)\n",
      "\n",
      "## [./file-system/_kaleinfo.local_bash.txt](./file-system/_kaleinfo.local_bash.txt)\n",
      "\n",
      "## [./weblist_inc.md](./weblist_inc.md)\n",
      "\n",
      "## [./README.md](./README.md)\n",
      "\n",
      "## [./weblist.md](./weblist.md)\n",
      "\n",
      "## [./file-system/fn_inc.md](./file-system/fn_inc.md)\n",
      "\n"
     ]
    }
   ],
   "source": [
    "%run weblist_inc_mk.py"
   ]
  },
  {
   "cell_type": "markdown",
   "metadata": {},
   "source": [
    "#not used:\n",
    "\n",
    "import folderstats\n",
    "dfstats=\"\"\n",
    "dfstats = folderstats.folderstats('.', ignore_hidden=True )\n",
    "display(dfstats.tail(10))"
   ]
  },
  {
   "cell_type": "markdown",
   "metadata": {},
   "source": [
    "import os\n",
    "for (dirpath, dirnames, filenames) in os.walk('.'):\n",
    "    for f in filenames:\n",
    "        print('FILE :', os.path.join(dirpath, f))\n",
    "    for d in dirnames:\n",
    "        print('DIRECTORY :', os.path.join(dirpath, d))"
   ]
  },
  {
   "cell_type": "code",
   "execution_count": 25,
   "metadata": {},
   "outputs": [
    {
     "name": "stdout",
     "output_type": "stream",
     "text": [
      "Pretty printing has been turned OFF\n"
     ]
    }
   ],
   "source": [
    "%pprint"
   ]
  }
 ],
 "metadata": {
  "kernelspec": {
   "display_name": "Python 3",
   "language": "python",
   "name": "python3"
  },
  "language_info": {
   "codemirror_mode": {
    "name": "ipython",
    "version": 3
   },
   "file_extension": ".py",
   "mimetype": "text/x-python",
   "name": "python",
   "nbconvert_exporter": "python",
   "pygments_lexer": "ipython3",
   "version": "3.7.3"
  }
 },
 "nbformat": 4,
 "nbformat_minor": 4
}
