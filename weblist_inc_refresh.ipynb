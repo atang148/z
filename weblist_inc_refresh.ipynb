{
 "cells": [
  {
   "cell_type": "markdown",
   "metadata": {},
   "source": [
    "file system inventory\n",
    "================\n"
   ]
  },
  {
   "cell_type": "code",
   "execution_count": 13,
   "metadata": {},
   "outputs": [
    {
     "name": "stdout",
     "output_type": "stream",
     "text": [
      "rm: *no-data.txt: No such file or directory\n"
     ]
    }
   ],
   "source": [
    "!rm -R *no-data.txt"
   ]
  },
  {
   "cell_type": "code",
   "execution_count": 12,
   "metadata": {},
   "outputs": [
    {
     "name": "stdout",
     "output_type": "stream",
     "text": [
      "#### [./weblist_inc.html](./weblist_inc.html)\n",
      "\n",
      "#### [./healthcare/cms_play.html](./healthcare/cms_play.html)\n",
      "\n",
      "#### [./social/ads/advertisers_who_uploaded_a_contact_list_with_your_information.html](./social/ads/advertisers_who_uploaded_a_contact_list_with_your_information.html)\n",
      "\n",
      "#### [./social/ads/ads_interests.html](./social/ads/ads_interests.html)\n",
      "\n",
      "#### [./social/ads/advertisers_you've_interacted_with.html](./social/ads/advertisers_you've_interacted_with.html)\n",
      "\n",
      "#### [./social/tintuc/MyActivity.html](./social/tintuc/MyActivity.html)\n",
      "\n",
      "#### [./social/search_history/your_search_history.html](./social/search_history/your_search_history.html)\n",
      "\n",
      "#### [./social/groups/your_posts_and_comments_in_groups.html](./social/groups/your_posts_and_comments_in_groups.html)\n",
      "\n",
      "#### [./social/groups/your_group_membership_activity.html](./social/groups/your_group_membership_activity.html)\n",
      "\n",
      "#### [./social/YouTube/MyActivity.html](./social/YouTube/MyActivity.html)\n",
      "\n",
      "#### [./social/Googletintuc/MyActivity.html](./social/Googletintuc/MyActivity.html)\n",
      "\n",
      "#### [./social/apps_and_websites/apps_and_websites.html](./social/apps_and_websites/apps_and_websites.html)\n",
      "\n",
      "#### [./social/Bookmarks/Bookmarks.html](./social/Bookmarks/Bookmarks.html)\n",
      "\n",
      "#### [./social/Finance/MyActivity.html](./social/Finance/MyActivity.html)\n",
      "\n",
      "#### [./social/following_and_followers/unfollowed_pages.html](./social/following_and_followers/unfollowed_pages.html)\n",
      "\n",
      "#### [./social/following_and_followers/following.html](./social/following_and_followers/following.html)\n",
      "\n",
      "#### [./social/following_and_followers/followed_pages.html](./social/following_and_followers/followed_pages.html)\n",
      "\n",
      "#### [./social/events/your_event_responses.html](./social/events/your_event_responses.html)\n",
      "\n",
      "#### [./social/events/event_invitations.html](./social/events/event_invitations.html)\n",
      "\n",
      "#### [./social/events/your_events.html](./social/events/your_events.html)\n",
      "\n",
      "#### [./social/your_places/places_you've_created.html](./social/your_places/places_you've_created.html)\n",
      "\n",
      "#### [./social/Developers/MyActivity.html](./social/Developers/MyActivity.html)\n",
      "\n",
      "#### [./Nguoi-Viet/nguoiviet-webscrape-Copy1.html](./Nguoi-Viet/nguoiviet-webscrape-Copy1.html)\n",
      "\n",
      "#### [./Nguoi-Viet/sinh-hoat-cong-dong.htm](./Nguoi-Viet/sinh-hoat-cong-dong.htm)\n",
      "\n",
      "#### [./Nguoi-Viet/sang-nhuong-co-so-business-opportunities.htm](./Nguoi-Viet/sang-nhuong-co-so-business-opportunities.htm)\n",
      "\n",
      "#### [./Nguoi-Viet/dam-bop-thu-gian-massage-relax.htm](./Nguoi-Viet/dam-bop-thu-gian-massage-relax.htm)\n",
      "\n",
      "#### [./stock-market/thestockmarketwatch.htm](./stock-market/thestockmarketwatch.htm)\n",
      "\n",
      "#### [./stock-market/zacks.htm](./stock-market/zacks.htm)\n",
      "\n",
      "#### [./stock-market/UNH_zacks.htm](./stock-market/UNH_zacks.htm)\n",
      "\n",
      "#### [./stock-market/UNH_marketwatch_summary.htm](./stock-market/UNH_marketwatch_summary.htm)\n",
      "\n",
      "#### [./stock-market/yahoofinance.htm](./stock-market/yahoofinance.htm)\n",
      "\n",
      "#### [./stock-market/reuters.htm](./stock-market/reuters.htm)\n",
      "\n",
      "#### [./stock-market/marketwatch.htm](./stock-market/marketwatch.htm)\n",
      "\n",
      "#### [./stock-market/UNH_marketwatch.htm](./stock-market/UNH_marketwatch.htm)\n",
      "\n",
      "#### [./stock-market/marketwatch_summary.htm](./stock-market/marketwatch_summary.htm)\n",
      "\n",
      "#### [./Nguoi-Viet/viec-hair-nail-job-browse-96aspx.txt](./Nguoi-Viet/viec-hair-nail-job-browse-96aspx.txt)\n",
      "\n",
      "#### [./Nguoi-Viet/dich-vu-services-browse-100aspx.txt](./Nguoi-Viet/dich-vu-services-browse-100aspx.txt)\n",
      "\n",
      "#### [./Nguoi-Viet/tim-nguoi-than-search-for-family-friends-browse-120aspx.txt](./Nguoi-Viet/tim-nguoi-than-search-for-family-friends-browse-120aspx.txt)\n",
      "\n",
      "#### [./Nguoi-Viet/lam-vuon-landscaping-browse-108aspx.txt](./Nguoi-Viet/lam-vuon-landscaping-browse-108aspx.txt)\n",
      "\n",
      "#### [./Nguoi-Viet/com-thang-meal-delivery-browse-116aspx.txt](./Nguoi-Viet/com-thang-meal-delivery-browse-116aspx.txt)\n",
      "\n",
      "#### [./Nguoi-Viet/phong-cho-thue-rooms-to-share-browse-88aspx.txt](./Nguoi-Viet/phong-cho-thue-rooms-to-share-browse-88aspx.txt)\n",
      "\n",
      "#### [./Nguoi-Viet/sua-ong-nuoc-plumbing-browse-107aspx.txt](./Nguoi-Viet/sua-ong-nuoc-plumbing-browse-107aspx.txt)\n",
      "\n",
      "#### [./Nguoi-Viet/viec-lam-employment-browse-93aspx.txt](./Nguoi-Viet/viec-lam-employment-browse-93aspx.txt)\n",
      "\n",
      "#### [./Nguoi-Viet/ban-cac-loai-items-for-sale-browse-118aspx.txt](./Nguoi-Viet/ban-cac-loai-items-for-sale-browse-118aspx.txt)\n",
      "\n",
      "#### [./Nguoi-Viet/tim-ban-bon-phuong-connecting-with-people-browse-121aspx.txt](./Nguoi-Viet/tim-ban-bon-phuong-connecting-with-people-browse-121aspx.txt)\n",
      "\n",
      "#### [./Nguoi-Viet/viec-nha-domestic-assistance-browse-94aspx.txt](./Nguoi-Viet/viec-nha-domestic-assistance-browse-94aspx.txt)\n",
      "\n",
      "#### [./Nguoi-Viet/nha-cho-thue-house-for-rent-browse-86aspx.txt](./Nguoi-Viet/nha-cho-thue-house-for-rent-browse-86aspx.txt)\n",
      "\n",
      "#### [./Nguoi-Viet/nha-ban-house-for-sale-browse-90aspx.txt](./Nguoi-Viet/nha-ban-house-for-sale-browse-90aspx.txt)\n",
      "\n",
      "#### [./Nguoi-Viet/giu-tre-child-care-babysitter-browse-117aspx.txt](./Nguoi-Viet/giu-tre-child-care-babysitter-browse-117aspx.txt)\n",
      "\n",
      "#### [./Nguoi-Viet/raovatnguoi-vietcom.txt](./Nguoi-Viet/raovatnguoi-vietcom.txt)\n",
      "\n",
      "#### [./Nguoi-Viet/vay-muon-dau-tu-financing-investments-browse-111aspx.txt](./Nguoi-Viet/vay-muon-dau-tu-financing-investments-browse-111aspx.txt)\n",
      "\n",
      "#### [./Nguoi-Viet/xe-ban-auto-for-sale-browse-91aspx.txt](./Nguoi-Viet/xe-ban-auto-for-sale-browse-91aspx.txt)\n",
      "\n",
      "#### [./Nguoi-Viet/suc-khoe-tham-my-health-beauty-browse-112aspx.txt](./Nguoi-Viet/suc-khoe-tham-my-health-beauty-browse-112aspx.txt)\n",
      "\n",
      "#### [./Nguoi-Viet/giat-tham-carpet-cleaning-browse-109aspx.txt](./Nguoi-Viet/giat-tham-carpet-cleaning-browse-109aspx.txt)\n",
      "\n",
      "#### [./Nguoi-Viet/viec-cho-nha-hang-restaurants-market-jobs-browse-98aspx.txt](./Nguoi-Viet/viec-cho-nha-hang-restaurants-market-jobs-browse-98aspx.txt)\n",
      "\n",
      "#### [./Nguoi-Viet/dam-bop-thu-gian-massage-relax-browse-123aspx.txt](./Nguoi-Viet/dam-bop-thu-gian-massage-relax-browse-123aspx.txt)\n",
      "\n",
      "#### [./Nguoi-Viet/sang-nhuong-co-so-business-opportunities-browse-92aspx.txt](./Nguoi-Viet/sang-nhuong-co-so-business-opportunities-browse-92aspx.txt)\n",
      "\n",
      "#### [./Nguoi-Viet/loi-nguyen-ton-giao-religious-prayers-browse-115aspx.txt](./Nguoi-Viet/loi-nguyen-ton-giao-religious-prayers-browse-115aspx.txt)\n",
      "\n",
      "#### [./Nguoi-Viet/sua-xe-auto-repair-browse-104aspx.txt](./Nguoi-Viet/sua-xe-auto-repair-browse-104aspx.txt)\n",
      "\n",
      "#### [./Nguoi-Viet/bang-hieu-sign-banners-browse-102aspx.txt](./Nguoi-Viet/bang-hieu-sign-banners-browse-102aspx.txt)\n",
      "\n",
      "#### [./Nguoi-Viet/nhan-tin-thong-bao-annoucements-browse-119aspx.txt](./Nguoi-Viet/nhan-tin-thong-bao-annoucements-browse-119aspx.txt)\n",
      "\n",
      "#### [./Nguoi-Viet/rao-vat-co-danh-thiep-business-cards-size-ads-browse-122aspx.txt](./Nguoi-Viet/rao-vat-co-danh-thiep-business-cards-size-ads-browse-122aspx.txt)\n",
      "\n",
      "#### [./Nguoi-Viet/viec-hang-xuong-manufacturing-jobs-browse-95aspx.txt](./Nguoi-Viet/viec-hang-xuong-manufacturing-jobs-browse-95aspx.txt)\n",
      "\n",
      "#### [./Nguoi-Viet/linh-tinh-miscellaneous-browse-114aspx.txt](./Nguoi-Viet/linh-tinh-miscellaneous-browse-114aspx.txt)\n",
      "\n",
      "#### [./Nguoi-Viet/du-lich-travel-browse-101aspx.txt](./Nguoi-Viet/du-lich-travel-browse-101aspx.txt)\n",
      "\n",
      "#### [./Nguoi-Viet/viec-tho-may-sewing-jobs-browse-99aspx.txt](./Nguoi-Viet/viec-tho-may-sewing-jobs-browse-99aspx.txt)\n",
      "\n",
      "#### [./Nguoi-Viet/Do-dung-mien-phi-free-browse-124aspx.txt](./Nguoi-Viet/Do-dung-mien-phi-free-browse-124aspx.txt)\n",
      "\n",
      "#### [./Nguoi-Viet/sua-nha-tiem-construction-browse-105aspx.txt](./Nguoi-Viet/sua-nha-tiem-construction-browse-105aspx.txt)\n",
      "\n",
      "#### [./Nguoi-Viet/day-kem-huan-luyen-tutoring-training-browse-110aspx.txt](./Nguoi-Viet/day-kem-huan-luyen-tutoring-training-browse-110aspx.txt)\n",
      "\n",
      "#### [./Nguoi-Viet/apartment-condo-cho-thue-for-rent-browse-87aspx.txt](./Nguoi-Viet/apartment-condo-cho-thue-for-rent-browse-87aspx.txt)\n",
      "\n",
      "#### [./Nguoi-Viet/don-nha-moving-browse-106aspx.txt](./Nguoi-Viet/don-nha-moving-browse-106aspx.txt)\n",
      "\n",
      "#### [./Nguoi-Viet/tu-vi-chiem-tinh-psychics-astrologers-browse-113aspx.txt](./Nguoi-Viet/tu-vi-chiem-tinh-psychics-astrologers-browse-113aspx.txt)\n",
      "\n",
      "#### [./Nguoi-Viet/viec-van-phong-office-clerical-jobs-browse-97aspx.txt](./Nguoi-Viet/viec-van-phong-office-clerical-jobs-browse-97aspx.txt)\n",
      "\n",
      "#### [./Nguoi-Viet/sua-may-moc-appliances-repair-browse-103aspx.txt](./Nguoi-Viet/sua-may-moc-appliances-repair-browse-103aspx.txt)\n",
      "\n",
      "#### [./weblist_inc.md](./weblist_inc.md)\n",
      "\n",
      "#### [./README.md](./README.md)\n",
      "\n",
      "#### [./weblist.md](./weblist.md)\n",
      "\n"
     ]
    }
   ],
   "source": [
    "%run weblist_inc_mk.py"
   ]
  },
  {
   "cell_type": "code",
   "execution_count": 10,
   "metadata": {},
   "outputs": [],
   "source": [
    "\n",
    "!find ~/Dropbox/z/ -name \"*asp*.txt\" -size -10 -delete\n"
   ]
  },
  {
   "cell_type": "markdown",
   "metadata": {},
   "source": [
    "#not used:\n",
    "\n",
    "import folderstats\n",
    "dfstats=\"\"\n",
    "dfstats = folderstats.folderstats('.', ignore_hidden=True )\n",
    "display(dfstats.tail(10))"
   ]
  },
  {
   "cell_type": "markdown",
   "metadata": {},
   "source": [
    "import os\n",
    "for (dirpath, dirnames, filenames) in os.walk('.'):\n",
    "    for f in filenames:\n",
    "        print('FILE :', os.path.join(dirpath, f))\n",
    "    for d in dirnames:\n",
    "        print('DIRECTORY :', os.path.join(dirpath, d))"
   ]
  },
  {
   "cell_type": "code",
   "execution_count": 25,
   "metadata": {},
   "outputs": [
    {
     "name": "stdout",
     "output_type": "stream",
     "text": [
      "Pretty printing has been turned OFF\n"
     ]
    }
   ],
   "source": [
    "%pprint"
   ]
  },
  {
   "cell_type": "code",
   "execution_count": 4,
   "metadata": {},
   "outputs": [
    {
     "name": "stdout",
     "output_type": "stream",
     "text": [
      "rm: illegal option -- h\n",
      "usage: rm [-f | -i] [-dPRrvW] file ...\n",
      "       unlink file\n"
     ]
    }
   ],
   "source": []
  },
  {
   "cell_type": "code",
   "execution_count": 5,
   "metadata": {},
   "outputs": [
    {
     "name": "stdout",
     "output_type": "stream",
     "text": [
      "/Users/atang148/Dropbox/z\n"
     ]
    }
   ],
   "source": [
    "!pwd"
   ]
  },
  {
   "cell_type": "code",
   "execution_count": null,
   "metadata": {},
   "outputs": [],
   "source": []
  }
 ],
 "metadata": {
  "kernelspec": {
   "display_name": "Python 3",
   "language": "python",
   "name": "python3"
  },
  "language_info": {
   "codemirror_mode": {
    "name": "ipython",
    "version": 3
   },
   "file_extension": ".py",
   "mimetype": "text/x-python",
   "name": "python",
   "nbconvert_exporter": "python",
   "pygments_lexer": "ipython3",
   "version": "3.7.3"
  }
 },
 "nbformat": 4,
 "nbformat_minor": 4
}
