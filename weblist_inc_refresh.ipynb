{
 "cells": [
  {
   "cell_type": "markdown",
   "metadata": {},
   "source": [
    "file system inventory\n",
    "================\n"
   ]
  },
  {
   "cell_type": "code",
   "execution_count": 17,
   "metadata": {},
   "outputs": [],
   "source": [
    "\n",
    "\n"
   ]
  },
  {
   "cell_type": "code",
   "execution_count": 1,
   "metadata": {},
   "outputs": [
    {
     "name": "stdout",
     "output_type": "stream",
     "text": [
      "rm: *no-data.txt: No such file or directory\n"
     ]
    }
   ],
   "source": [
    "!rm -R *no-data.txt"
   ]
  },
  {
   "cell_type": "code",
   "execution_count": 2,
   "metadata": {},
   "outputs": [
    {
     "name": "stdout",
     "output_type": "stream",
     "text": [
      "#### [./weblist_inc.html](./weblist_inc.html)\n",
      "\n",
      "#### [./healthcare/cms_play.html](./healthcare/cms_play.html)\n",
      "\n",
      "#### [./daily/nguoiviet-webscrape-Copy1.html](./daily/nguoiviet-webscrape-Copy1.html)\n",
      "\n",
      "#### [./daily/sinh-hoat-cong-dong.htm](./daily/sinh-hoat-cong-dong.htm)\n",
      "\n",
      "#### [./daily/sang-nhuong-co-so-business-opportunities.htm](./daily/sang-nhuong-co-so-business-opportunities.htm)\n",
      "\n",
      "#### [./daily/dam-bop-thu-gian-massage-relax.htm](./daily/dam-bop-thu-gian-massage-relax.htm)\n",
      "\n",
      "#### [./daily/stock-market/thestockmarketwatch.htm](./daily/stock-market/thestockmarketwatch.htm)\n",
      "\n",
      "#### [./daily/stock-market/zacks.htm](./daily/stock-market/zacks.htm)\n",
      "\n",
      "#### [./daily/stock-market/UNH_zacks.htm](./daily/stock-market/UNH_zacks.htm)\n",
      "\n",
      "#### [./daily/stock-market/UNH_marketwatch_summary.htm](./daily/stock-market/UNH_marketwatch_summary.htm)\n",
      "\n",
      "#### [./daily/stock-market/yahoofinance.htm](./daily/stock-market/yahoofinance.htm)\n",
      "\n",
      "#### [./daily/stock-market/reuters.htm](./daily/stock-market/reuters.htm)\n",
      "\n",
      "#### [./daily/stock-market/marketwatch.htm](./daily/stock-market/marketwatch.htm)\n",
      "\n",
      "#### [./daily/stock-market/UNH_marketwatch.htm](./daily/stock-market/UNH_marketwatch.htm)\n",
      "\n",
      "#### [./daily/stock-market/marketwatch_summary.htm](./daily/stock-market/marketwatch_summary.htm)\n",
      "\n",
      "#### [./social/ads/advertisers_who_uploaded_a_contact_list_with_your_information.html](./social/ads/advertisers_who_uploaded_a_contact_list_with_your_information.html)\n",
      "\n",
      "#### [./social/ads/ads_interests.html](./social/ads/ads_interests.html)\n",
      "\n",
      "#### [./social/ads/advertisers_you've_interacted_with.html](./social/ads/advertisers_you've_interacted_with.html)\n",
      "\n",
      "#### [./social/tintuc/MyActivity.html](./social/tintuc/MyActivity.html)\n",
      "\n",
      "#### [./social/search_history/your_search_history.html](./social/search_history/your_search_history.html)\n",
      "\n",
      "#### [./social/groups/your_posts_and_comments_in_groups.html](./social/groups/your_posts_and_comments_in_groups.html)\n",
      "\n",
      "#### [./social/groups/your_group_membership_activity.html](./social/groups/your_group_membership_activity.html)\n",
      "\n",
      "#### [./social/YouTube/MyActivity.html](./social/YouTube/MyActivity.html)\n",
      "\n",
      "#### [./social/Googletintuc/MyActivity.html](./social/Googletintuc/MyActivity.html)\n",
      "\n",
      "#### [./social/apps_and_websites/apps_and_websites.html](./social/apps_and_websites/apps_and_websites.html)\n",
      "\n",
      "#### [./social/Bookmarks/Bookmarks.html](./social/Bookmarks/Bookmarks.html)\n",
      "\n",
      "#### [./social/Finance/MyActivity.html](./social/Finance/MyActivity.html)\n",
      "\n",
      "#### [./social/following_and_followers/unfollowed_pages.html](./social/following_and_followers/unfollowed_pages.html)\n",
      "\n",
      "#### [./social/following_and_followers/following.html](./social/following_and_followers/following.html)\n",
      "\n",
      "#### [./social/following_and_followers/followed_pages.html](./social/following_and_followers/followed_pages.html)\n",
      "\n",
      "#### [./social/events/your_event_responses.html](./social/events/your_event_responses.html)\n",
      "\n",
      "#### [./social/events/event_invitations.html](./social/events/event_invitations.html)\n",
      "\n",
      "#### [./social/events/your_events.html](./social/events/your_events.html)\n",
      "\n",
      "#### [./social/your_places/places_you've_created.html](./social/your_places/places_you've_created.html)\n",
      "\n",
      "#### [./social/Developers/MyActivity.html](./social/Developers/MyActivity.html)\n",
      "\n",
      "#### [./daily/viec-hair-nail-job-browse-96aspx.txt](./daily/viec-hair-nail-job-browse-96aspx.txt)\n",
      "\n",
      "#### [./daily/dich-vu-services-browse-100aspx.txt](./daily/dich-vu-services-browse-100aspx.txt)\n",
      "\n",
      "#### [./daily/tim-nguoi-than-search-for-family-friends-browse-120aspx.txt](./daily/tim-nguoi-than-search-for-family-friends-browse-120aspx.txt)\n",
      "\n",
      "#### [./daily/lam-vuon-landscaping-browse-108aspx.txt](./daily/lam-vuon-landscaping-browse-108aspx.txt)\n",
      "\n",
      "#### [./daily/phong-cho-thue-rooms-to-share-browse-88aspx.txt](./daily/phong-cho-thue-rooms-to-share-browse-88aspx.txt)\n",
      "\n",
      "#### [./daily/sua-ong-nuoc-plumbing-browse-107aspx.txt](./daily/sua-ong-nuoc-plumbing-browse-107aspx.txt)\n",
      "\n",
      "#### [./daily/viec-lam-employment-browse-93aspx.txt](./daily/viec-lam-employment-browse-93aspx.txt)\n",
      "\n",
      "#### [./daily/ban-cac-loai-items-for-sale-browse-118aspx.txt](./daily/ban-cac-loai-items-for-sale-browse-118aspx.txt)\n",
      "\n",
      "#### [./daily/viec-nha-domestic-assistance-browse-94aspx.txt](./daily/viec-nha-domestic-assistance-browse-94aspx.txt)\n",
      "\n",
      "#### [./daily/nha-cho-thue-house-for-rent-browse-86aspx.txt](./daily/nha-cho-thue-house-for-rent-browse-86aspx.txt)\n",
      "\n",
      "#### [./daily/nha-ban-house-for-sale-browse-90aspx.txt](./daily/nha-ban-house-for-sale-browse-90aspx.txt)\n",
      "\n",
      "#### [./daily/giu-tre-child-care-babysitter-browse-117aspx.txt](./daily/giu-tre-child-care-babysitter-browse-117aspx.txt)\n",
      "\n",
      "#### [./daily/raovatnguoi-vietcom.txt](./daily/raovatnguoi-vietcom.txt)\n",
      "\n",
      "#### [./daily/vay-muon-dau-tu-financing-investments-browse-111aspx.txt](./daily/vay-muon-dau-tu-financing-investments-browse-111aspx.txt)\n",
      "\n",
      "#### [./daily/xe-ban-auto-for-sale-browse-91aspx.txt](./daily/xe-ban-auto-for-sale-browse-91aspx.txt)\n",
      "\n",
      "#### [./daily/suc-khoe-tham-my-health-beauty-browse-112aspx.txt](./daily/suc-khoe-tham-my-health-beauty-browse-112aspx.txt)\n",
      "\n",
      "#### [./daily/giat-tham-carpet-cleaning-browse-109aspx.txt](./daily/giat-tham-carpet-cleaning-browse-109aspx.txt)\n",
      "\n",
      "#### [./daily/viec-cho-nha-hang-restaurants-market-jobs-browse-98aspx.txt](./daily/viec-cho-nha-hang-restaurants-market-jobs-browse-98aspx.txt)\n",
      "\n",
      "#### [./daily/dam-bop-thu-gian-massage-relax-browse-123aspx.txt](./daily/dam-bop-thu-gian-massage-relax-browse-123aspx.txt)\n",
      "\n",
      "#### [./daily/sang-nhuong-co-so-business-opportunities-browse-92aspx.txt](./daily/sang-nhuong-co-so-business-opportunities-browse-92aspx.txt)\n",
      "\n",
      "#### [./daily/sua-xe-auto-repair-browse-104aspx.txt](./daily/sua-xe-auto-repair-browse-104aspx.txt)\n",
      "\n",
      "#### [./daily/bang-hieu-sign-banners-browse-102aspx.txt](./daily/bang-hieu-sign-banners-browse-102aspx.txt)\n",
      "\n",
      "#### [./daily/viec-hang-xuong-manufacturing-jobs-browse-95aspx.txt](./daily/viec-hang-xuong-manufacturing-jobs-browse-95aspx.txt)\n",
      "\n",
      "#### [./daily/viec-tho-may-sewing-jobs-browse-99aspx.txt](./daily/viec-tho-may-sewing-jobs-browse-99aspx.txt)\n",
      "\n",
      "#### [./daily/sua-nha-tiem-construction-browse-105aspx.txt](./daily/sua-nha-tiem-construction-browse-105aspx.txt)\n",
      "\n",
      "#### [./daily/day-kem-huan-luyen-tutoring-training-browse-110aspx.txt](./daily/day-kem-huan-luyen-tutoring-training-browse-110aspx.txt)\n",
      "\n",
      "#### [./daily/apartment-condo-cho-thue-for-rent-browse-87aspx.txt](./daily/apartment-condo-cho-thue-for-rent-browse-87aspx.txt)\n",
      "\n",
      "#### [./daily/don-nha-moving-browse-106aspx.txt](./daily/don-nha-moving-browse-106aspx.txt)\n",
      "\n",
      "#### [./daily/tu-vi-chiem-tinh-psychics-astrologers-browse-113aspx.txt](./daily/tu-vi-chiem-tinh-psychics-astrologers-browse-113aspx.txt)\n",
      "\n",
      "#### [./daily/viec-van-phong-office-clerical-jobs-browse-97aspx.txt](./daily/viec-van-phong-office-clerical-jobs-browse-97aspx.txt)\n",
      "\n",
      "#### [./daily/sua-may-moc-appliances-repair-browse-103aspx.txt](./daily/sua-may-moc-appliances-repair-browse-103aspx.txt)\n",
      "\n",
      "#### [./weblist_inc.md](./weblist_inc.md)\n",
      "\n",
      "#### [./README.md](./README.md)\n",
      "\n",
      "#### [./weblist.md](./weblist.md)\n",
      "\n"
     ]
    }
   ],
   "source": [
    "!find ~/Dropbox/z/ -name \"*asp*.txt\" -size -2 -delete\n",
    "%run weblist_inc_mk.py"
   ]
  },
  {
   "cell_type": "markdown",
   "metadata": {},
   "source": [
    "#not used:\n",
    "\n",
    "import folderstats\n",
    "dfstats=\"\"\n",
    "dfstats = folderstats.folderstats('.', ignore_hidden=True )\n",
    "display(dfstats.tail(10))"
   ]
  },
  {
   "cell_type": "markdown",
   "metadata": {},
   "source": [
    "import os\n",
    "for (dirpath, dirnames, filenames) in os.walk('.'):\n",
    "    for f in filenames:\n",
    "        print('FILE :', os.path.join(dirpath, f))\n",
    "    for d in dirnames:\n",
    "        print('DIRECTORY :', os.path.join(dirpath, d))"
   ]
  },
  {
   "cell_type": "code",
   "execution_count": 25,
   "metadata": {},
   "outputs": [
    {
     "name": "stdout",
     "output_type": "stream",
     "text": [
      "Pretty printing has been turned OFF\n"
     ]
    }
   ],
   "source": [
    "%pprint"
   ]
  },
  {
   "cell_type": "code",
   "execution_count": 4,
   "metadata": {},
   "outputs": [
    {
     "name": "stdout",
     "output_type": "stream",
     "text": [
      "rm: illegal option -- h\n",
      "usage: rm [-f | -i] [-dPRrvW] file ...\n",
      "       unlink file\n"
     ]
    }
   ],
   "source": []
  },
  {
   "cell_type": "code",
   "execution_count": 5,
   "metadata": {},
   "outputs": [
    {
     "name": "stdout",
     "output_type": "stream",
     "text": [
      "/Users/zzz/Dropbox/z\n"
     ]
    }
   ],
   "source": [
    "!pwd"
   ]
  },
  {
   "cell_type": "code",
   "execution_count": null,
   "metadata": {},
   "outputs": [],
   "source": []
  }
 ],
 "metadata": {
  "kernelspec": {
   "display_name": "Python 3",
   "language": "python",
   "name": "python3"
  },
  "language_info": {
   "codemirror_mode": {
    "name": "ipython",
    "version": 3
   },
   "file_extension": ".py",
   "mimetype": "text/x-python",
   "name": "python",
   "nbconvert_exporter": "python",
   "pygments_lexer": "ipython3",
   "version": "3.7.3"
  }
 },
 "nbformat": 4,
 "nbformat_minor": 4
}
