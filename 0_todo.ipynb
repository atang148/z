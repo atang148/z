{
 "cells": [
  {
   "cell_type": "markdown",
   "metadata": {},
   "source": [
    "day to day plan\n",
    "execute stragety\n",
    "must be vigigant.  work with efficiency from home office and work office. one use. minimize phone use.\n"
   ]
  },
  {
   "cell_type": "markdown",
   "metadata": {},
   "source": [
    "* [facebook](https://facebook.com)\n",
    "* [finance](https://finance.yahoo.com)\n",
    "* [keep](https://keep.google.com)\n",
    "* [bachdanggiang](http://www.bachdanggiang.org)\n",
    "* [scanu](https://scanu.skillport.com/skillportfe/main.action#whatshappening)\n",
    "* [robinhood](https://robinhood.com/)\n",
    "* [https://protonmail.com/](https://protonmail.com/)\n",
    "* [https://mail.google.com/mail/u/0/](https://mail.google.com/mail/u/0/)\n",
    "* [stash](https://www.stashinvest.com)\n",
    "* [anthem](https://www.anthem.com/ca)\n",
    "* [https://idss.ncqa.org/OrgList.aspx](https://idss.ncqa.org/OrgList.aspx)\n",
    "* [https://www.cms.gov/](https://www.cms.gov/)\n",
    "* [https://ew11.ultipro.com/default.aspx](https://ew11.ultipro.com/default.aspx)"
   ]
  },
  {
   "cell_type": "code",
   "execution_count": 3,
   "metadata": {},
   "outputs": [
    {
     "name": "stdout",
     "output_type": "stream",
     "text": [
      "\u001b[?1l\u001b>23  top\u001b[11;21H0.0  00:00.39 1/1  0    14+  2708K+ 0B   0B   25423 25411\u001b[12;72H283 threads\u001b[1;72H00:46:59\u001b[1;14H6\u001b[1;23H2\u001b[1;34H1 stuck, 493 sleeping, 2308 threads\u001b[7C7:00\u001b[2;41H0.38\u001b[2;53H12.30\u001b[7C57.30\u001b[4;16H516\u001b[4;29H25\u001b[4;58H6\u001b[5;12H26\u001b[5;37H66\u001b[6;7H64\u001b[7;25H17\u001b[7;43H36\u001b[8;12H780\u001b[11;5H5  diskmanageme\u001b[11;32H03 3    2    33+  12\u001b[11;71H5 1\u001b[K\u001b[1;34H494 sleeping, 2306 threads         \u001b[10C1\u001b[2;13H8\u001b[6C7\u001b[2;40H29.83\u001b[2;53H7.39% sys, 62.76\u001b[1P\u001b[5;38H5\u001b[7;25H2\u001b[7;43H4\u001b[8;14H1\u001b[11;47H \u001b[7C \u001b[18C\u001b[1;23H3\u001b[1;36H3\u001b[1;51H0\u001b[27C2\u001b[2;40H36.51\u001b[2;53H9.78\u001b[7C53.69\u001b[5;25H5\u001b[5;38H6\u001b[7;25H54\u001b[7;43H73\u001b[11;74H\u001b[1;23H2\u001b[1;36H4\u001b[1;49H299\u001b[27C3\u001b[2;40H21.56\u001b[2;53H7.10\u001b[7C71.32\u001b[5;38H5\u001b[7;25H6\u001b[7;43H8\u001b[11;74H\u001b[1;51H7\u001b[27C4\u001b[2;40H12.61\u001b[2;53H9.4% sys, 78.33\u001b[1P\u001b[5;25H1\u001b[5;38H6\u001b[7;25H7\u001b[7;43H9\u001b[8;14H4\u001b[11;74H\u001b[1;50H80\u001b[27C5\u001b[2;40H6.65% user, 4.51\u001b[7C88.8\u001b[5;13H4\u001b[5;25H2\u001b[5;38H7\u001b[7;25H96\u001b[7;42H715\u001b[11;74H\u001b[1;50H75\u001b[27C6\u001b[2;11H2.29, 2.15, 2.32\u001b[2;40H2.13\u001b[2;52H2.85\u001b[7C95.1\u001b[1P\u001b[7;24H80\u001b[7;43H2\u001b[11;35H2    1    31-  1200K-\u001b[18C\u001b[24;1H\u001b[2J\u001b[?47l\u001b8"
     ]
    }
   ],
   "source": [
    "\n",
    "!top  -n 1 \n",
    "#help()\n",
    "#%?"
   ]
  },
  {
   "cell_type": "code",
   "execution_count": 9,
   "metadata": {},
   "outputs": [
    {
     "name": "stdout",
     "output_type": "stream",
     "text": [
      "alabaster==0.7.12\n",
      "anaconda-client==1.7.2\n",
      "anaconda-navigator==1.9.7\n",
      "anaconda-project==0.8.3\n",
      "appnope==0.1.0\n",
      "appscript==1.0.1\n",
      "asn1crypto==0.24.0\n",
      "astroid==2.2.5\n",
      "astropy==3.2.1\n",
      "atomicwrites==1.3.0\n",
      "attrs==19.1.0\n",
      "Babel==2.7.0\n",
      "backcall==0.1.0\n",
      "backports.functools-lru-cache==1.5\n",
      "backports.os==0.1.1\n",
      "backports.shutil-get-terminal-size==1.0.0\n",
      "backports.tempfile==1.0\n",
      "backports.weakref==1.0.post1\n",
      "beautifulsoup4==4.7.1\n",
      "bitarray==0.9.3\n",
      "bkcharts==0.2\n",
      "bleach==3.1.0\n",
      "bokeh==1.2.0\n",
      "boto==2.49.0\n",
      "Bottleneck==1.2.1\n",
      "certifi==2019.6.16\n",
      "cffi==1.12.3\n",
      "chardet==3.0.4\n",
      "Click==7.0\n",
      "cloudpickle==1.2.1\n",
      "clyent==1.2.2\n",
      "colorama==0.4.1\n",
      "conda==4.7.10\n",
      "conda-build==3.18.8\n",
      "conda-package-handling==1.3.11\n",
      "conda-verify==3.4.2\n",
      "contextlib2==0.5.5\n",
      "cryptography==2.7\n",
      "cycler==0.10.0\n",
      "Cython==0.29.12\n",
      "cytoolz==0.10.0\n",
      "dask==2.1.0\n",
      "DateTime==4.3\n",
      "decorator==4.4.0\n",
      "defusedxml==0.6.0\n",
      "distributed==2.1.0\n",
      "docutils==0.14\n",
      "entrypoints==0.3\n",
      "et-xmlfile==1.0.1\n",
      "fastcache==1.1.0\n",
      "filelock==3.0.12\n",
      "Flask==1.1.1\n",
      "folderstats==0.2.0\n",
      "future==0.17.1\n",
      "gevent==1.4.0\n",
      "glob2==0.7\n",
      "gmpy2==2.0.8\n",
      "greenlet==0.4.15\n",
      "h5py==2.9.0\n",
      "heapdict==1.0.0\n",
      "html5lib==1.0.1\n",
      "idna==2.8\n",
      "imageio==2.5.0\n",
      "imagesize==1.1.0\n",
      "importlib-metadata==0.17\n",
      "ipykernel==5.1.1\n",
      "ipython==7.6.1\n",
      "ipython-genutils==0.2.0\n",
      "ipywidgets==7.5.0\n",
      "isort==4.3.21\n",
      "itsdangerous==1.1.0\n",
      "jdcal==1.4.1\n",
      "jedi==0.13.3\n",
      "Jinja2==2.10.1\n",
      "joblib==0.13.2\n",
      "json5==0.8.4\n",
      "jsonschema==3.0.1\n",
      "jupyter==1.0.0\n",
      "jupyter-client==5.3.1\n",
      "jupyter-console==6.0.0\n",
      "jupyter-core==4.5.0\n",
      "jupyterlab==1.0.2\n",
      "jupyterlab-server==1.0.0\n",
      "keyring==18.0.0\n",
      "kiwisolver==1.1.0\n",
      "lazy-object-proxy==1.4.1\n",
      "libarchive-c==2.8\n",
      "lief==0.9.0\n",
      "llvmlite==0.29.0\n",
      "locket==0.2.0\n",
      "lxml==4.3.4\n",
      "MarkupSafe==1.1.1\n",
      "matplotlib==3.1.0\n",
      "mccabe==0.6.1\n",
      "mistune==0.8.4\n",
      "mkl-fft==1.0.12\n",
      "mkl-random==1.0.2\n",
      "mkl-service==2.0.2\n",
      "mock==3.0.5\n",
      "more-itertools==7.0.0\n",
      "mpmath==1.1.0\n",
      "msgpack==0.6.1\n",
      "multipledispatch==0.6.0\n",
      "navigator-updater==0.2.1\n",
      "nbconvert==5.5.0\n",
      "nbformat==4.4.0\n",
      "networkx==2.3\n",
      "nltk==3.4.4\n",
      "nose==1.3.7\n",
      "notebook==6.0.0\n",
      "numba==0.44.1\n",
      "numexpr==2.6.9\n",
      "numpy==1.16.4\n",
      "numpydoc==0.9.1\n",
      "olefile==0.46\n",
      "openpyxl==2.6.2\n",
      "packaging==19.0\n",
      "pandas==0.25.1\n",
      "pandas-datareader==0.7.4\n",
      "pandocfilters==1.4.2\n",
      "parso==0.5.0\n",
      "partd==1.0.0\n",
      "path.py==12.0.1\n",
      "pathlib2==2.3.4\n",
      "patsy==0.5.1\n",
      "pep8==1.7.1\n",
      "pexpect==4.7.0\n",
      "pickleshare==0.7.5\n",
      "Pillow==6.1.0\n",
      "pkginfo==1.5.0.1\n",
      "pluggy==0.12.0\n",
      "ply==3.11\n",
      "prometheus-client==0.7.1\n",
      "prompt-toolkit==2.0.9\n",
      "psutil==5.6.3\n",
      "ptyprocess==0.6.0\n",
      "py==1.8.0\n",
      "pycodestyle==2.5.0\n",
      "pycosat==0.6.3\n",
      "pycparser==2.19\n",
      "pycrypto==2.6.1\n",
      "pycurl==7.43.0.3\n",
      "pyflakes==2.1.1\n",
      "Pygments==2.4.2\n",
      "pylint==2.3.1\n",
      "pyodbc==4.0.26\n",
      "pyOpenSSL==19.0.0\n",
      "pyparsing==2.4.0\n",
      "pyrsistent==0.14.11\n",
      "PySocks==1.7.0\n",
      "pytest==5.0.1\n",
      "pytest-arraydiff==0.3\n",
      "pytest-astropy==0.5.0\n",
      "pytest-doctestplus==0.3.0\n",
      "pytest-openfiles==0.3.2\n",
      "pytest-remotedata==0.3.1\n",
      "python-dateutil==2.8.0\n",
      "pytz==2019.1\n",
      "PyWavelets==1.0.3\n",
      "PyYAML==5.1.1\n",
      "pyzmq==18.0.0\n",
      "QtAwesome==0.5.7\n",
      "qtconsole==4.5.1\n",
      "QtPy==1.8.0\n",
      "requests==2.22.0\n",
      "rope==0.14.0\n",
      "ruamel-yaml==0.15.46\n",
      "scikit-image==0.15.0\n",
      "scikit-learn==0.21.2\n",
      "scipy==1.3.0\n",
      "seaborn==0.9.0\n",
      "Send2Trash==1.5.0\n",
      "simplegeneric==0.8.1\n",
      "simplejson==3.16.0\n",
      "singledispatch==3.4.0.3\n",
      "six==1.12.0\n",
      "snowballstemmer==1.9.0\n",
      "sortedcollections==1.1.2\n",
      "sortedcontainers==2.1.0\n",
      "soupsieve==1.8\n",
      "Sphinx==2.1.2\n",
      "sphinxcontrib-applehelp==1.0.1\n",
      "sphinxcontrib-devhelp==1.0.1\n",
      "sphinxcontrib-htmlhelp==1.0.2\n",
      "sphinxcontrib-jsmath==1.0.1\n",
      "sphinxcontrib-qthelp==1.0.2\n",
      "sphinxcontrib-serializinghtml==1.1.3\n",
      "sphinxcontrib-websupport==1.1.2\n",
      "spyder==3.3.6\n",
      "spyder-kernels==0.5.1\n",
      "SQLAlchemy==1.3.5\n",
      "statsmodels==0.10.0\n",
      "sympy==1.4\n",
      "tables==3.5.2\n",
      "tblib==1.4.0\n",
      "terminado==0.8.2\n",
      "testpath==0.4.2\n",
      "toolz==0.10.0\n",
      "tornado==6.0.3\n",
      "tqdm==4.32.1\n",
      "traitlets==4.3.2\n",
      "unicodecsv==0.14.1\n",
      "urllib3==1.24.2\n",
      "wcwidth==0.1.7\n",
      "webencodings==0.5.1\n",
      "Werkzeug==0.15.4\n",
      "widgetsnbextension==3.5.0\n",
      "wrapt==1.11.2\n",
      "wurlitzer==1.0.2\n",
      "xlrd==1.2.0\n",
      "XlsxWriter==1.1.8\n",
      "xlwings==0.15.8\n",
      "xlwt==1.3.0\n",
      "yahoo-finance==1.4.0\n",
      "zict==1.0.0\n",
      "zipp==0.5.1\n",
      "zope.interface==4.6.0\n"
     ]
    }
   ],
   "source": [
    "!pip freeze "
   ]
  },
  {
   "cell_type": "code",
   "execution_count": 10,
   "metadata": {},
   "outputs": [
    {
     "name": "stdout",
     "output_type": "stream",
     "text": [
      "Requirement already up-to-date: pip in /Users/atang148/.local/lib/python3.7/site-packages (19.2.3)\n"
     ]
    }
   ],
   "source": [
    "!python3 -m pip install --upgrade pip --user"
   ]
  },
  {
   "cell_type": "code",
   "execution_count": 11,
   "metadata": {},
   "outputs": [
    {
     "name": "stdout",
     "output_type": "stream",
     "text": [
      "cut: illegal option -- -\n",
      "usage: cut -b list [-n] [file ...]\n",
      "       cut -c list [file ...]\n",
      "       cut -f list [-s] [-d delim] [file ...]\n"
     ]
    }
   ],
   "source": [
    "!cut --help"
   ]
  },
  {
   "cell_type": "code",
   "execution_count": 12,
   "metadata": {},
   "outputs": [
    {
     "name": "stdout",
     "output_type": "stream",
     "text": [
      "Requirement already up-to-date: pip in /Users/atang148/.local/lib/python3.7/site-packages (19.2.3)\n",
      "Requirement already up-to-date: pandas in /Users/atang148/.local/lib/python3.7/site-packages (0.25.1)\n",
      "Requirement already satisfied, skipping upgrade: numpy>=1.13.3 in /anaconda3/lib/python3.7/site-packages (from pandas) (1.16.4)\n",
      "Requirement already satisfied, skipping upgrade: pytz>=2017.2 in /anaconda3/lib/python3.7/site-packages (from pandas) (2019.1)\n",
      "Requirement already satisfied, skipping upgrade: python-dateutil>=2.6.1 in /anaconda3/lib/python3.7/site-packages (from pandas) (2.8.0)\n",
      "Requirement already satisfied, skipping upgrade: six>=1.5 in /anaconda3/lib/python3.7/site-packages (from python-dateutil>=2.6.1->pandas) (1.12.0)\n"
     ]
    }
   ],
   "source": [
    "!python3 -m pip install --upgrade pip --user\n",
    "!python3 -m pip install --upgrade pandas --user"
   ]
  },
  {
   "cell_type": "code",
   "execution_count": 1,
   "metadata": {},
   "outputs": [
    {
     "data": {
      "application/json": {
       "cell": {
        "!": "OSMagics",
        "HTML": "Other",
        "SVG": "Other",
        "bash": "Other",
        "capture": "ExecutionMagics",
        "debug": "ExecutionMagics",
        "file": "Other",
        "html": "DisplayMagics",
        "javascript": "DisplayMagics",
        "js": "DisplayMagics",
        "latex": "DisplayMagics",
        "markdown": "DisplayMagics",
        "perl": "Other",
        "prun": "ExecutionMagics",
        "pypy": "Other",
        "python": "Other",
        "python2": "Other",
        "python3": "Other",
        "ruby": "Other",
        "script": "ScriptMagics",
        "sh": "Other",
        "svg": "DisplayMagics",
        "sx": "OSMagics",
        "system": "OSMagics",
        "time": "ExecutionMagics",
        "timeit": "ExecutionMagics",
        "writefile": "OSMagics"
       },
       "line": {
        "alias": "OSMagics",
        "alias_magic": "BasicMagics",
        "autocall": "AutoMagics",
        "automagic": "AutoMagics",
        "autosave": "KernelMagics",
        "bookmark": "OSMagics",
        "cat": "Other",
        "cd": "OSMagics",
        "clear": "KernelMagics",
        "colors": "BasicMagics",
        "config": "ConfigMagics",
        "connect_info": "KernelMagics",
        "cp": "Other",
        "debug": "ExecutionMagics",
        "dhist": "OSMagics",
        "dirs": "OSMagics",
        "doctest_mode": "BasicMagics",
        "ed": "Other",
        "edit": "KernelMagics",
        "env": "OSMagics",
        "gui": "BasicMagics",
        "hist": "Other",
        "history": "HistoryMagics",
        "killbgscripts": "ScriptMagics",
        "ldir": "Other",
        "less": "KernelMagics",
        "lf": "Other",
        "lk": "Other",
        "ll": "Other",
        "load": "CodeMagics",
        "load_ext": "ExtensionMagics",
        "loadpy": "CodeMagics",
        "logoff": "LoggingMagics",
        "logon": "LoggingMagics",
        "logstart": "LoggingMagics",
        "logstate": "LoggingMagics",
        "logstop": "LoggingMagics",
        "ls": "Other",
        "lsmagic": "BasicMagics",
        "lx": "Other",
        "macro": "ExecutionMagics",
        "magic": "BasicMagics",
        "man": "KernelMagics",
        "matplotlib": "PylabMagics",
        "mkdir": "Other",
        "more": "KernelMagics",
        "mv": "Other",
        "notebook": "BasicMagics",
        "page": "BasicMagics",
        "pastebin": "CodeMagics",
        "pdb": "ExecutionMagics",
        "pdef": "NamespaceMagics",
        "pdoc": "NamespaceMagics",
        "pfile": "NamespaceMagics",
        "pinfo": "NamespaceMagics",
        "pinfo2": "NamespaceMagics",
        "pip": "BasicMagics",
        "popd": "OSMagics",
        "pprint": "BasicMagics",
        "precision": "BasicMagics",
        "profile": "BasicMagics",
        "prun": "ExecutionMagics",
        "psearch": "NamespaceMagics",
        "psource": "NamespaceMagics",
        "pushd": "OSMagics",
        "pwd": "OSMagics",
        "pycat": "OSMagics",
        "pylab": "PylabMagics",
        "qtconsole": "KernelMagics",
        "quickref": "BasicMagics",
        "recall": "HistoryMagics",
        "rehashx": "OSMagics",
        "reload_ext": "ExtensionMagics",
        "rep": "Other",
        "rerun": "HistoryMagics",
        "reset": "NamespaceMagics",
        "reset_selective": "NamespaceMagics",
        "rm": "Other",
        "rmdir": "Other",
        "run": "ExecutionMagics",
        "save": "CodeMagics",
        "sc": "OSMagics",
        "set_env": "OSMagics",
        "store": "StoreMagics",
        "sx": "OSMagics",
        "system": "OSMagics",
        "tb": "ExecutionMagics",
        "time": "ExecutionMagics",
        "timeit": "ExecutionMagics",
        "unalias": "OSMagics",
        "unload_ext": "ExtensionMagics",
        "who": "NamespaceMagics",
        "who_ls": "NamespaceMagics",
        "whos": "NamespaceMagics",
        "xdel": "NamespaceMagics",
        "xmode": "BasicMagics"
       }
      },
      "text/plain": [
       "Available line magics:\n",
       "%alias  %alias_magic  %autocall  %automagic  %autosave  %bookmark  %cat  %cd  %clear  %colors  %config  %connect_info  %cp  %debug  %dhist  %dirs  %doctest_mode  %ed  %edit  %env  %gui  %hist  %history  %killbgscripts  %ldir  %less  %lf  %lk  %ll  %load  %load_ext  %loadpy  %logoff  %logon  %logstart  %logstate  %logstop  %ls  %lsmagic  %lx  %macro  %magic  %man  %matplotlib  %mkdir  %more  %mv  %notebook  %page  %pastebin  %pdb  %pdef  %pdoc  %pfile  %pinfo  %pinfo2  %popd  %pprint  %precision  %profile  %prun  %psearch  %psource  %pushd  %pwd  %pycat  %pylab  %qtconsole  %quickref  %recall  %rehashx  %reload_ext  %rep  %rerun  %reset  %reset_selective  %rm  %rmdir  %run  %save  %sc  %set_env  %store  %sx  %system  %tb  %time  %timeit  %unalias  %unload_ext  %who  %who_ls  %whos  %xdel  %xmode\n",
       "\n",
       "Available cell magics:\n",
       "%%!  %%HTML  %%SVG  %%bash  %%capture  %%debug  %%file  %%html  %%javascript  %%js  %%latex  %%markdown  %%perl  %%prun  %%pypy  %%python  %%python2  %%python3  %%ruby  %%script  %%sh  %%svg  %%sx  %%system  %%time  %%timeit  %%writefile\n",
       "\n",
       "Automagic is ON, % prefix IS NOT needed for line magics."
      ]
     },
     "execution_count": 1,
     "metadata": {},
     "output_type": "execute_result"
    }
   ],
   "source": [
    "%lsmagic"
   ]
  },
  {
   "cell_type": "code",
   "execution_count": 4,
   "metadata": {},
   "outputs": [
    {
     "name": "stdout",
     "output_type": "stream",
     "text": [
      "/bin/sh: 1: history: not found\n"
     ]
    }
   ],
   "source": [
    "!history|grep note"
   ]
  },
  {
   "cell_type": "code",
   "execution_count": 5,
   "metadata": {},
   "outputs": [
    {
     "name": "stdout",
     "output_type": "stream",
     "text": [
      "b4gone   24760  0.1  1.4 554992 53704 pts/0    Sl   Jul16  34:16 /usr/bin/python3 /home/b4gone/.local/bin/jupyter-lab\n",
      "b4gone   24787  0.0  0.0   4504   788 pts/2    Ss+  22:04   0:00 /bin/sh -c ps aux | grep jupyter-lab\n",
      "b4gone   24789  0.0  0.0  14224  1016 pts/2    S+   22:04   0:00 grep jupyter-lab\n"
     ]
    }
   ],
   "source": [
    "!ps aux | grep jupyter-lab"
   ]
  },
  {
   "cell_type": "code",
   "execution_count": 12,
   "metadata": {},
   "outputs": [
    {
     "name": "stdout",
     "output_type": "stream",
     "text": [
      "  PID  PPID %CPU CMD                         %MEM\n",
      "10605     1 17.6 /usr/lib/firefox/firefox     9.6\n",
      "11318 10605 12.8 /usr/lib/firefox/firefox -c 10.6\n",
      "24968 24760 12.5 /usr/bin/python3 -m ipykern  0.2\n",
      "11577 10605  8.0 /usr/lib/firefox/firefox -c  5.8\n",
      " 1475  1457  6.2 cinnamon --replace          11.1\n",
      "24306 10605  2.3 /usr/lib/firefox/firefox -c  4.5\n",
      "24681 24760  2.0 /usr/bin/python3 -m ipykern  1.3\n",
      "23852 24760  1.2 /usr/bin/python3 -m ipykern  1.4\n",
      " 1059  1024  1.0 /usr/lib/xorg/Xorg -core :0  9.0\n",
      " 1282     1  0.7 /usr/bin/pulseaudio --start  0.1\n",
      "24206     2  0.6 [kworker/1:1]                0.0\n",
      "24744     2  0.6 [kworker/u8:0]               0.0\n",
      " 1734     2  0.3 [kworker/u8:3]               0.0\n",
      "24526     2  0.3 [kworker/0:0]                0.0\n",
      "18552     1  0.2 /home/b4gone/.dropbox-dist/  4.8\n",
      "24122     2  0.2 [kworker/0:1]                0.0\n",
      " 1543  1083  0.1 cinnamon-screensaver         0.7\n",
      " 2199     1  0.1 mintUpdate                   1.6\n",
      " 2812     2  0.1 [kworker/u8:2]               0.0\n"
     ]
    }
   ],
   "source": [
    "!ps -eo pid,ppid,%cpu,cmd,%mem --sort=-%cpu | head -n 20"
   ]
  },
  {
   "cell_type": "code",
   "execution_count": 4,
   "metadata": {},
   "outputs": [
    {
     "name": "stdout",
     "output_type": "stream",
     "text": [
      "Total number of aliases: 12\n"
     ]
    },
    {
     "data": {
      "text/plain": [
       "[('cat', 'cat'),\n",
       " ('cp', 'cp'),\n",
       " ('ldir', 'ls -F -o --color %l | grep /$'),\n",
       " ('lf', 'ls -F -o --color %l | grep ^-'),\n",
       " ('lk', 'ls -F -o --color %l | grep ^l'),\n",
       " ('ll', 'ls -F -o --color'),\n",
       " ('ls', 'ls -F --color'),\n",
       " ('lx', 'ls -F -o --color %l | grep ^-..x'),\n",
       " ('mkdir', 'mkdir'),\n",
       " ('mv', 'mv'),\n",
       " ('rm', 'rm'),\n",
       " ('rmdir', 'rmdir')]"
      ]
     },
     "execution_count": 4,
     "metadata": {},
     "output_type": "execute_result"
    }
   ],
   "source": [
    "%alias\n",
    "\n",
    "# j1 =\"cd ~/Dropbox/ipynb &&  jupyter-notebook & \"\n",
    "#!export"
   ]
  },
  {
   "cell_type": "code",
   "execution_count": 3,
   "metadata": {},
   "outputs": [],
   "source": [
    "%magic"
   ]
  }
 ],
 "metadata": {
  "kernelspec": {
   "display_name": "Python 3",
   "language": "python",
   "name": "python3"
  },
  "language_info": {
   "codemirror_mode": {
    "name": "ipython",
    "version": 3
   },
   "file_extension": ".py",
   "mimetype": "text/x-python",
   "name": "python",
   "nbconvert_exporter": "python",
   "pygments_lexer": "ipython3",
   "version": "3.7.3"
  }
 },
 "nbformat": 4,
 "nbformat_minor": 4
}
