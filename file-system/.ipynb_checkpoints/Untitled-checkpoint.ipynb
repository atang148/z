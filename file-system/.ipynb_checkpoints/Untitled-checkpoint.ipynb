{
 "cells": [
  {
   "cell_type": "code",
   "execution_count": 30,
   "metadata": {},
   "outputs": [
    {
     "name": "stdout",
     "output_type": "stream",
     "text": [
      "total 104\n",
      "-rw-r--r--@ 1 atang148  staff  2772 Sep 15 21:52:03 2019 Untitled.ipynb\n",
      "-rw-r--r--@ 1 atang148  staff     0 Sep 15 21:54:48 2019 _kaleinfo.local_bash.txt\n",
      "-rw-r--r--@ 1 atang148  staff  1002 Sep 14 20:15:54 2019 filelist.Rmd\n",
      "-rw-r--r--@ 1 atang148  staff   426 Sep 15 22:15:46 2019 filesystemplay.py\n",
      "-rw-r--r--@ 1 atang148  staff   518 Sep 15 22:16:52 2019 fn_inc.md\n",
      "-rw-r--r--@ 1 atang148  staff  1618 Sep 15 22:13:50 2019 folder_size.py\n",
      "-rw-r--r--@ 1 atang148  staff   103 Sep 15 21:25:48 2019 ls_IOS.sh\n",
      "-rw-r--r--@ 1 atang148  staff   450 Sep 15 21:28:23 2019 ls_list.csv\n",
      "-rw-r--r--@ 1 atang148  staff  1102 Aug  5 07:55:41 2019 make_ext.sh\n",
      "-rw-r--r--@ 1 atang148  staff  1603 Aug 11 17:10:07 2019 make_ext_awk.sh\n",
      "-rw-r--r--@ 1 atang148  staff   447 Sep 15 22:08:05 2019 make_fn.sh\n",
      "-rw-r--r--@ 1 atang148  staff  1686 Aug 11 18:44:33 2019 make_ln.sh\n",
      "-rw-r--r--@ 1 atang148  staff   312 Apr  3 21:27:30 2019 make_topic.sh\n",
      "-rw-r--r--@ 1 atang148  staff   310 Mar 24 16:49:50 2019 topic_make.sh\n"
     ]
    }
   ],
   "source": [
    "!bash ls_IOS.sh\n"
   ]
  },
  {
   "cell_type": "code",
   "execution_count": 31,
   "metadata": {},
   "outputs": [
    {
     "name": "stdout",
     "output_type": "stream",
     "text": [
      "##[./Untitled.ipynb](./Untitled.ipynb)\n",
      "\n",
      "##[./make_fn.sh](./make_fn.sh)\n",
      "\n",
      "##[./topic_make.sh](./topic_make.sh)\n",
      "\n",
      "##[./make_ext.sh](./make_ext.sh)\n",
      "\n",
      "##[./filesystemplay.py](./filesystemplay.py)\n",
      "\n",
      "##[./make_topic.sh](./make_topic.sh)\n",
      "\n",
      "##[./filelist.Rmd](./filelist.Rmd)\n",
      "\n",
      "##[./make_ln.sh](./make_ln.sh)\n",
      "\n",
      "##[./folder_size.py](./folder_size.py)\n",
      "\n",
      "##[./make_ext_awk.sh](./make_ext_awk.sh)\n",
      "\n",
      "##[./ls_list.csv](./ls_list.csv)\n",
      "\n",
      "##[./_kaleinfo.local_bash.txt](./_kaleinfo.local_bash.txt)\n",
      "\n",
      "##[./ls_IOS.sh](./ls_IOS.sh)\n",
      "\n",
      "##[./fn_inc.md](./fn_inc.md)\n",
      "\n"
     ]
    }
   ],
   "source": [
    "%run filesystemplay.py\n"
   ]
  },
  {
   "cell_type": "code",
   "execution_count": 12,
   "metadata": {},
   "outputs": [
    {
     "name": "stdout",
     "output_type": "stream",
     "text": [
      "Pretty printing has been turned ON\n"
     ]
    }
   ],
   "source": [
    "%pprint"
   ]
  }
 ],
 "metadata": {
  "kernelspec": {
   "display_name": "Python 3",
   "language": "python",
   "name": "python3"
  },
  "language_info": {
   "codemirror_mode": {
    "name": "ipython",
    "version": 3
   },
   "file_extension": ".py",
   "mimetype": "text/x-python",
   "name": "python",
   "nbconvert_exporter": "python",
   "pygments_lexer": "ipython3",
   "version": "3.7.3"
  }
 },
 "nbformat": 4,
 "nbformat_minor": 4
}
