{
 "cells": [
  {
   "cell_type": "markdown",
   "metadata": {},
   "source": [
    "# Task   \n",
    "\n"
   ]
  },
  {
   "cell_type": "markdown",
   "metadata": {},
   "source": [
    "* http://localhost:8888/tree  \n",
    "* http://localhost:8000/home  \n",
    "* http://localhost:8787/  \n",
    "* https://github.com/readerweb/life_unscripted  \n",
    "* http://bitbucket.org/  \n",
    "* https://drive.google.com/drive/recent  \n",
    "* https://www.dropbox.com/h  \n"
   ]
  },
  {
   "cell_type": "code",
   "execution_count": null,
   "metadata": {
    "collapsed": true,
    "jupyter": {
     "outputs_hidden": true
    }
   },
   "outputs": [],
   "source": [
    "%%bash\n",
    "jobs"
   ]
  },
  {
   "cell_type": "code",
   "execution_count": 3,
   "metadata": {},
   "outputs": [
    {
     "name": "stderr",
     "output_type": "stream",
     "text": [
      "bash: line 1: [: hello world.md: binary operator expected\n"
     ]
    }
   ],
   "source": [
    "%%bash\n",
    "if [ -f *\\ * ]; then\n",
    "for f in *\\ *; do mv \"$f\" \"${f// /_}\"; done\n",
    "fi"
   ]
  },
  {
   "cell_type": "code",
   "execution_count": 2,
   "metadata": {},
   "outputs": [
    {
     "name": "stdout",
     "output_type": "stream",
     "text": [
      "[Index](./)  \n",
      "[00_Tasks-ipynb-bash.ipynb](00_Tasks-ipynb-bash.ipynb)   \n",
      "[2._Data_Wrangling_with_Pandas.ipynb](2._Data_Wrangling_with_Pandas.ipynb)   \n",
      "[Android_Studio.ipynb](Android_Studio.ipynb)   \n",
      "[Apache_Zeppelin.ipynb](Apache_Zeppelin.ipynb)   \n",
      "[LinuxAdmin.ipynb](LinuxAdmin.ipynb)   \n",
      "[Rmarkdown.ipynb](Rmarkdown.ipynb)   \n",
      "[TSP.ipynb](TSP.ipynb)   \n",
      "[Untitled.ipynb](Untitled.ipynb)   \n",
      "[Untitled1.ipynb](Untitled1.ipynb)   \n",
      "[YH_FPQ_Volatility_Tutorial.ipynb](YH_FPQ_Volatility_Tutorial.ipynb)   \n",
      "[YH_PyData_Eurex_Tutorial.ipynb](YH_PyData_Eurex_Tutorial.ipynb)   \n",
      "[bdg-bs-gs.ipynb](bdg-bs-gs.ipynb)   \n",
      "[beaker.ipynb](beaker.ipynb)   \n",
      "[blank.ipynb](blank.ipynb)   \n",
      "[cs228-python-tutorial.ipynb](cs228-python-tutorial.ipynb)   \n",
      "[csv_2_sqlite.ipynb](csv_2_sqlite.ipynb)   \n",
      "[devoxxML.ipynb](devoxxML.ipynb)   \n",
      "[facebook.ipynb](facebook.ipynb)   \n",
      "[fileinfo.ipynb](fileinfo.ipynb)   \n",
      "[gmail-python.ipynb](gmail-python.ipynb)   \n",
      "[hbhs-apa-fvhs.ipynb](hbhs-apa-fvhs.ipynb)   \n",
      "[iprg2016_two_peptide_rule.ipynb](iprg2016_two_peptide_rule.ipynb)   \n",
      "[jupyter](jupyter)   \n",
      "[help.ipynb](help.ipynb)   \n",
      "[m1_menu.ipynb](m1_menu.ipynb)   \n",
      "[md-play.ipynb](md-play.ipynb)   \n",
      "[misc.ipynb](misc.ipynb)   \n",
      "[pandas-play.ipynb](pandas-play.ipynb)   \n",
      "[sas.ipynb](sas.ipynb)   \n",
      "[social.ipynb](social.ipynb)   \n",
      "[tutorial.ipynb](tutorial.ipynb)   \n",
      "[tweet.ipynb](tweet.ipynb)   \n",
      "[twitter-python.ipynb](twitter-python.ipynb)   \n",
      "[uhc.ipynb](uhc.ipynb)   \n",
      "[webscrape.ipynb](webscrape.ipynb)   \n",
      "[ws1.ipynb](ws1.ipynb)   \n"
     ]
    }
   ],
   "source": [
    "%%bash\n",
    "echo \"[Index](./)  \"\n",
    "for i in $( ls -R *.ipynb); do\n",
    "            echo \\[\"$i\"\\]\\(\"$i\"\\)  \"  \"\n",
    "        done"
   ]
  },
  {
   "cell_type": "code",
   "execution_count": 1,
   "metadata": {},
   "outputs": [
    {
     "name": "stdout",
     "output_type": "stream",
     "text": [
      "[Index](./)  \n"
     ]
    },
    {
     "name": "stderr",
     "output_type": "stream",
     "text": [
      "ls: *.html: No such file or directory\n"
     ]
    }
   ],
   "source": [
    "%%bash\n",
    "echo \"[Index](./)  \"\n",
    "for i in $( ls -R *.html); do\n",
    "            echo \\[\"$i\"\\]\\(\"$i\"\\)  \"  \"\n",
    "        done\n"
   ]
  },
  {
   "cell_type": "markdown",
   "metadata": {},
   "source": [
    "[Index](./)  \n",
    "[00_Tasks-ipynb-bash.html](00_Tasks-ipynb-bash.html)   \n",
    "[2._Data_Wrangling_with_Pandas.html](2._Data_Wrangling_with_Pandas.html)   \n",
    "[Apache_Zeppelin.html](Apache_Zeppelin.html)   \n",
    "[batnha-tosuthien-vobinhdinh.html](batnha-tosuthien-vobinhdinh.html)   \n",
    "[bdg-bs-gs.html](bdg-bs-gs.html)   \n",
    "[beaker.html](beaker.html)   \n",
    "[blank.html](blank.html)   \n",
    "[cs228-python-tutorial.html](cs228-python-tutorial.html)   \n",
    "[devoxxML.html](devoxxML.html)   \n",
    "[hbhs-apa-fvhs.html](hbhs-apa-fvhs.html)   \n",
    "[iprg2016_two_peptide_rule.html](iprg2016_two_peptide_rule.html)   \n",
    "[LinuxAdmin.html](LinuxAdmin.html)   \n",
    "[misc.html](misc.html)   \n",
    "[pandas-play.html](pandas-play.html)   \n",
    "[Rmarkdown.html](Rmarkdown.html)   \n",
    "[social.html](social.html)   \n",
    "[TSP.html](TSP.html)   \n",
    "[tutorial.html](tutorial.html)   \n",
    "[uhc.html](uhc.html)   \n",
    "[ws1.html](ws1.html)   \n",
    "[YH_FPQ_Volatility_Tutorial.html](YH_FPQ_Volatility_Tutorial.html)   \n",
    "[YH_PyData_Eurex_Tutorial.html](YH_PyData_Eurex_Tutorial.html)  "
   ]
  },
  {
   "cell_type": "markdown",
   "metadata": {},
   "source": [
    "# Menu Z  \n",
    "Working smart - one command at a time  \n",
    "Resort all work to the laptop  \n",
    "Reserve the phone for communications  \n"
   ]
  },
  {
   "cell_type": "code",
   "execution_count": 6,
   "metadata": {},
   "outputs": [],
   "source": [
    "%%bash\n",
    "open http://localhost:8888/tree"
   ]
  },
  {
   "cell_type": "code",
   "execution_count": null,
   "metadata": {
    "collapsed": true,
    "jupyter": {
     "outputs_hidden": true
    }
   },
   "outputs": [],
   "source": [
    "%%bash\n",
    "jobs"
   ]
  },
  {
   "cell_type": "code",
   "execution_count": null,
   "metadata": {
    "collapsed": true,
    "jupyter": {
     "outputs_hidden": true
    }
   },
   "outputs": [],
   "source": [
    "%%bash\n",
    "mv ~/Downloads/*ipynb ~/Dropbox/ipynb/ \n",
    "mv ~/Downloads/*html ~/Dropbox/ipynb/ "
   ]
  },
  {
   "cell_type": "code",
   "execution_count": null,
   "metadata": {
    "collapsed": true,
    "jupyter": {
     "outputs_hidden": true
    }
   },
   "outputs": [],
   "source": [
    "%%bash \n",
    "firefox &"
   ]
  },
  {
   "cell_type": "code",
   "execution_count": null,
   "metadata": {
    "collapsed": true,
    "jupyter": {
     "outputs_hidden": true
    }
   },
   "outputs": [],
   "source": [
    "%%bash \n",
    "~/.dropbox-dist/dropboxd &"
   ]
  },
  {
   "cell_type": "code",
   "execution_count": null,
   "metadata": {
    "collapsed": true,
    "jupyter": {
     "outputs_hidden": true
    }
   },
   "outputs": [],
   "source": [
    "%%bash\n",
    "gedit ~/.bashrc"
   ]
  },
  {
   "cell_type": "code",
   "execution_count": null,
   "metadata": {
    "collapsed": true,
    "jupyter": {
     "outputs_hidden": true
    }
   },
   "outputs": [],
   "source": [
    "%%bash\n",
    ". ~/.bashrc"
   ]
  },
  {
   "cell_type": "code",
   "execution_count": null,
   "metadata": {
    "collapsed": true,
    "jupyter": {
     "outputs_hidden": true
    }
   },
   "outputs": [],
   "source": [
    "%lsmagic"
   ]
  },
  {
   "cell_type": "code",
   "execution_count": null,
   "metadata": {},
   "outputs": [],
   "source": [
    "%%bash\n",
    "#cat ~/Dropbox/z/nbconvert_do.sh"
   ]
  },
  {
   "cell_type": "markdown",
   "metadata": {},
   "source": [
    "sudo add-apt-repository ppa:alessandro-strada/ppa  \n",
    "sudo apt-get update  \n",
    "sudo apt-get install google-drive-ocamlfuse  \n",
    "google-drive-ocamlfuse  \n",
    "\n",
    "mkdir -p ~/google-drive   \n",
    "google-drive-ocamlfuse ~/google-drive &\n",
    "\n",
    "cp -u ~/Dropbox/ipynb/* ~/google-drive/ipynb \n",
    "cp -u ~/Dropbox/rmd/* ~/google-drive/rmd \n",
    "mkdir -p  ~/google-drive/rmd \n"
   ]
  }
 ],
 "metadata": {
  "kernelspec": {
   "display_name": "Python 3",
   "language": "python",
   "name": "python3"
  },
  "language_info": {
   "codemirror_mode": {
    "name": "ipython",
    "version": 3
   },
   "file_extension": ".py",
   "mimetype": "text/x-python",
   "name": "python",
   "nbconvert_exporter": "python",
   "pygments_lexer": "ipython3",
   "version": "3.7.3"
  }
 },
 "nbformat": 4,
 "nbformat_minor": 4
}
