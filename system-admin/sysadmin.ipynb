{
 "cells": [
  {
   "cell_type": "markdown",
   "metadata": {},
   "source": [
    "sysadmin\n",
    "========"
   ]
  },
  {
   "cell_type": "code",
   "execution_count": 1,
   "metadata": {},
   "outputs": [
    {
     "name": "stdout",
     "output_type": "stream",
     "text": [
      "['_MutableMapping__marker', '__abstractmethods__', '__class__', '__contains__', '__delattr__', '__delitem__', '__dict__', '__dir__', '__doc__', '__eq__', '__format__', '__ge__', '__getattribute__', '__getitem__', '__gt__', '__hash__', '__init__', '__init_subclass__', '__iter__', '__le__', '__len__', '__lt__', '__module__', '__ne__', '__new__', '__reduce__', '__reduce_ex__', '__repr__', '__reversed__', '__setattr__', '__setitem__', '__sizeof__', '__slots__', '__str__', '__subclasshook__', '__weakref__', '_abc_impl', '_data', 'clear', 'copy', 'decodekey', 'decodevalue', 'encodekey', 'encodevalue', 'get', 'items', 'keys', 'pop', 'popitem', 'putenv', 'setdefault', 'unsetenv', 'update', 'values']\n"
     ]
    }
   ],
   "source": [
    "import os\n",
    "print(dir(os.environ))\n",
    "#help(os)"
   ]
  },
  {
   "cell_type": "code",
   "execution_count": 2,
   "metadata": {},
   "outputs": [
    {
     "name": "stdout",
     "output_type": "stream",
     "text": [
      "/Users/atang148/Dropbox/z/system-admin\n"
     ]
    },
    {
     "data": {
      "text/plain": [
       "0"
      ]
     },
     "execution_count": 2,
     "metadata": {},
     "output_type": "execute_result"
    }
   ],
   "source": [
    "print (os.getcwd())\n",
    "os.system('ls -l /')"
   ]
  },
  {
   "cell_type": "code",
   "execution_count": 3,
   "metadata": {},
   "outputs": [
    {
     "data": {
      "text/plain": [
       "'root='"
      ]
     },
     "metadata": {},
     "output_type": "display_data"
    },
    {
     "data": {
      "text/plain": [
       "'/tmp'"
      ]
     },
     "metadata": {},
     "output_type": "display_data"
    },
    {
     "data": {
      "text/plain": [
       "'dir='"
      ]
     },
     "metadata": {},
     "output_type": "display_data"
    },
    {
     "data": {
      "text/plain": [
       "['com.apple.launchd.azfjyZAS3k',\n",
       " 'powerlog',\n",
       " '.vnc-501',\n",
       " 'com.apple.launchd.3MecAID1KO']"
      ]
     },
     "metadata": {},
     "output_type": "display_data"
    },
    {
     "data": {
      "text/plain": [
       "'files='"
      ]
     },
     "metadata": {},
     "output_type": "display_data"
    },
    {
     "data": {
      "text/plain": [
       "['.dbfseventsd']"
      ]
     },
     "metadata": {},
     "output_type": "display_data"
    },
    {
     "data": {
      "text/plain": [
       "'root='"
      ]
     },
     "metadata": {},
     "output_type": "display_data"
    },
    {
     "data": {
      "text/plain": [
       "'/tmp/com.apple.launchd.azfjyZAS3k'"
      ]
     },
     "metadata": {},
     "output_type": "display_data"
    },
    {
     "data": {
      "text/plain": [
       "'dir='"
      ]
     },
     "metadata": {},
     "output_type": "display_data"
    },
    {
     "data": {
      "text/plain": [
       "[]"
      ]
     },
     "metadata": {},
     "output_type": "display_data"
    },
    {
     "data": {
      "text/plain": [
       "'files='"
      ]
     },
     "metadata": {},
     "output_type": "display_data"
    },
    {
     "data": {
      "text/plain": [
       "['Listeners']"
      ]
     },
     "metadata": {},
     "output_type": "display_data"
    },
    {
     "data": {
      "text/plain": [
       "'root='"
      ]
     },
     "metadata": {},
     "output_type": "display_data"
    },
    {
     "data": {
      "text/plain": [
       "'/tmp/powerlog'"
      ]
     },
     "metadata": {},
     "output_type": "display_data"
    },
    {
     "data": {
      "text/plain": [
       "'dir='"
      ]
     },
     "metadata": {},
     "output_type": "display_data"
    },
    {
     "data": {
      "text/plain": [
       "[]"
      ]
     },
     "metadata": {},
     "output_type": "display_data"
    },
    {
     "data": {
      "text/plain": [
       "'files='"
      ]
     },
     "metadata": {},
     "output_type": "display_data"
    },
    {
     "data": {
      "text/plain": [
       "[]"
      ]
     },
     "metadata": {},
     "output_type": "display_data"
    },
    {
     "data": {
      "text/plain": [
       "'root='"
      ]
     },
     "metadata": {},
     "output_type": "display_data"
    },
    {
     "data": {
      "text/plain": [
       "'/tmp/.vnc-501'"
      ]
     },
     "metadata": {},
     "output_type": "display_data"
    },
    {
     "data": {
      "text/plain": [
       "'dir='"
      ]
     },
     "metadata": {},
     "output_type": "display_data"
    },
    {
     "data": {
      "text/plain": [
       "[]"
      ]
     },
     "metadata": {},
     "output_type": "display_data"
    },
    {
     "data": {
      "text/plain": [
       "'files='"
      ]
     },
     "metadata": {},
     "output_type": "display_data"
    },
    {
     "data": {
      "text/plain": [
       "[]"
      ]
     },
     "metadata": {},
     "output_type": "display_data"
    },
    {
     "data": {
      "text/plain": [
       "'root='"
      ]
     },
     "metadata": {},
     "output_type": "display_data"
    },
    {
     "data": {
      "text/plain": [
       "'/tmp/com.apple.launchd.3MecAID1KO'"
      ]
     },
     "metadata": {},
     "output_type": "display_data"
    },
    {
     "data": {
      "text/plain": [
       "'dir='"
      ]
     },
     "metadata": {},
     "output_type": "display_data"
    },
    {
     "data": {
      "text/plain": [
       "[]"
      ]
     },
     "metadata": {},
     "output_type": "display_data"
    },
    {
     "data": {
      "text/plain": [
       "'files='"
      ]
     },
     "metadata": {},
     "output_type": "display_data"
    },
    {
     "data": {
      "text/plain": [
       "['Render']"
      ]
     },
     "metadata": {},
     "output_type": "display_data"
    }
   ],
   "source": [
    "for root, dirs, files in os.walk(\"/tmp\"):\n",
    "    display ('root=',root)\n",
    "    display ('dir=',dirs)\n",
    "    display ('files=', files)"
   ]
  },
  {
   "cell_type": "code",
   "execution_count": 18,
   "metadata": {},
   "outputs": [],
   "source": [
    "#! top -n 1"
   ]
  },
  {
   "cell_type": "code",
   "execution_count": 6,
   "metadata": {},
   "outputs": [],
   "source": [
    "#!xed some.py"
   ]
  },
  {
   "cell_type": "code",
   "execution_count": 5,
   "metadata": {},
   "outputs": [],
   "source": [
    "%run sysadmin_inc.py\n",
    "do_ls()\n",
    "useful_cmds()\n"
   ]
  },
  {
   "cell_type": "code",
   "execution_count": 22,
   "metadata": {},
   "outputs": [],
   "source": [
    "#!top  -n 1"
   ]
  },
  {
   "cell_type": "code",
   "execution_count": 8,
   "metadata": {},
   "outputs": [
    {
     "name": "stdout",
     "output_type": "stream",
     "text": [
      "/bin/sh: sysadmin_rpt.sh: command not found\n",
      "(\n",
      "ps -all\n",
      "top -b -n 1 |grep -v '0.0  0.'\n",
      "uptime\n",
      "w\n",
      "who\n",
      "ls\n",
      "printenv\n",
      "users\n",
      "crontab -l\n",
      "service\n",
      "free\n",
      "lsof|head -n 10\n",
      "\n",
      ")>sysadmin_rpt.txt\n",
      "\n",
      "#gedit ~/Dropbox/txt/sysadmin_rpt.txt &\n",
      "#gedit ~/Dropbox/bash/sysadmin_rpt.sh &\n",
      "\n",
      "xed sysadmin_rpt.txt &\n",
      "xed sysadmin_rpt.sh &\n"
     ]
    }
   ],
   "source": [
    "\n",
    "!sysadmin_rpt.sh\n",
    "!cat sysadmin_rpt.sh \n"
   ]
  },
  {
   "cell_type": "code",
   "execution_count": 9,
   "metadata": {},
   "outputs": [
    {
     "name": "stdout",
     "output_type": "stream",
     "text": [
      "USER               PID  %CPU %MEM      VSZ    RSS   TT  STAT STARTED      TIME COMMAND\n",
      "_windowserver      233   8.7  0.9  6836488  76784   ??  Ss   Sat10AM  41:39.11 /System/Library/\n",
      "atang148         11445   1.7  1.0  6059668  82284   ??  S     2:41PM   4:16.60 /Applications/Sa\n",
      "atang148         11290   1.3  0.3  4535912  25464   ??  S     2:37PM   4:05.32 /Applications/Py\n",
      "atang148         22613   0.7  1.7  4885976 145216   ??  S    10:20PM   0:30.60 /Applications/RS\n",
      "root                86   0.6  0.2  4347312  12836   ??  Ss   Sat10AM   0:46.99 /usr/libexec/ope\n",
      "atang148         22897   0.6  3.8 106770052 316292   ??  Rs   10:48PM   0:39.64 /System/Library/\n",
      "atang148         11299   0.5  0.2  4305828  13492   ??  S     2:37PM   1:49.96 /Library/Framewo\n",
      "atang148         22609   0.2  0.9  4507000  75404   ??  S    10:20PM   0:11.49 /Applications/RS\n",
      "atang148         22892   0.1  0.9  4327696  76932   ??  S    10:48PM   0:08.25 //anaconda3/bin/\n",
      "atang148         23034   0.0  0.4  4336704  31324   ??  S    10:56PM   0:00.22 /System/Library/\n",
      "atang148         22998   0.0  0.2  4322120  19528   ??  S    10:55PM   0:00.08 /System/Library/\n",
      "atang148         22946   0.0  0.0  4296528   1700 s002  S    10:52PM   0:00.14 -bash\n",
      "root             22945   0.0  0.1  4296456   5796 s002  Ss   10:52PM   0:00.03 login -pf atang1\n",
      "atang148         22944   0.0  0.9  4964568  72196   ??  S    10:52PM   0:09.89 /Applications/Ut\n",
      "atang148         22905   0.0  0.5  4310704  44984   ??  Ss   10:48PM   0:01.09 //anaconda3/bin/\n",
      "atang148         22904   0.0  0.5  4311736  44996   ??  Ss   10:48PM   0:01.08 //anaconda3/bin/\n",
      "atang148         22903   0.0  0.5  4311788  44992   ??  Ss   10:48PM   0:01.10 //anaconda3/bin/\n",
      "atang148         22902   0.0  0.5  4310704  45016   ??  Ss   10:48PM   0:01.14 //anaconda3/bin/\n",
      "atang148         22901   0.0  0.5  4309680  44960   ??  Ss   10:48PM   0:01.15 //anaconda3/bin/\n",
      "atang148         22898   0.0  0.4 89285716  32240   ??  Ss   10:48PM   0:00.22 /System/Library/\n",
      "atang148         22885   0.0  0.0  4278860   1264   ??  S    10:48PM   0:00.02 bash /Users/atan\n",
      "atang148         22800   0.0  0.1  4307264  12572   ??  Ss   10:44PM   0:00.11 /Applications/Xc\n",
      "atang148         22798   0.0  0.5 89346356  37968   ??  Ss   10:42PM   0:00.42 /System/Library/\n",
      "atang148         22709   0.0  0.3  4312804  25812   ??  Ss   10:35PM   0:01.20 //anaconda3/bin/\n",
      "atang148         22702   0.0  0.2  4341260  18832   ??  Ss   10:32PM   0:00.17 /System/Library/\n",
      "atang148         22697   0.0  0.2  4383164  19288   ??  Ss   10:27PM   0:01.40 /Applications/Dr\n",
      "atang148         22592   0.0  0.9  5327296  77988   ??  S    10:20PM   0:08.37 /Applications/RS\n",
      "atang148         22571   0.0  1.1  4606204  92760   ??  Ss   10:11PM   0:03.47 //anaconda3/bin/\n",
      "atang148         22568   0.0  0.5  5112320  42540   ??  S    10:11PM   0:00.55 /anaconda3/libex\n",
      "atang148         22565   0.0  0.2  4494896  18920   ??  S    10:11PM   0:00.56 //anaconda3/bin/\n",
      "atang148         22558   0.0  0.3  5084424  28700   ??  S    10:11PM   0:00.36 /anaconda3/libex\n",
      "atang148         22557   0.0  0.6  4600772  48984   ??  S    10:11PM   0:02.67 //anaconda3/bin/\n",
      "atang148         22556   0.0  1.0  4658456  82976   ??  S    10:11PM   0:04.23 //anaconda3/bin/\n",
      "atang148         22555   0.0  0.7  4607308  54888   ??  S    10:11PM   0:06.71 //anaconda3/bin/\n",
      "atang148         22554   0.0  0.3  5085448  28752   ??  S    10:11PM   0:00.34 /anaconda3/libex\n",
      "atang148         22519   0.0  3.0  5162244 253504   ??  S    10:10PM   1:07.01 //anaconda3/pyth\n",
      "atang148         22518   0.0  0.0  4277836    700   ??  S    10:10PM   0:00.00 /bin/bash //anac\n",
      "atang148         22511   0.0  0.0  4279884    904   ??  S    10:10PM   0:00.02 bash /Users/atan\n",
      "atang148         22502   0.0  0.2  4378044  19892   ??  Ss   10:08PM   0:01.70 /Applications/Dr\n",
      "atang148         22499   0.0  1.1  5132444  90648   ??  S    10:08PM   0:05.88 /Applications/Nu\n",
      "atang148         22497   0.0  0.2  4341260  18764   ??  Ss   10:08PM   0:00.24 /System/Library/\n",
      "atang148         13741   0.0  0.5  4332592  45952   ??  Ss    9:27PM   0:02.91 //anaconda3/bin/\n",
      "atang148         13734   0.0  0.3  4346644  22252   ??  S     9:26PM   0:01.44 /System/Library/\n",
      "atang148         13602   0.0  0.0  4296528   1340 s001  Ss+   9:23PM   0:00.12 /bin/bash -l\n",
      "atang148         13586   0.0  0.2  4346196  20236   ??  S     9:23PM   0:00.93 /System/Library/\n",
      "atang148         13575   0.0  0.5  4716320  40284   ??  S     9:23PM   0:01.92 /Users/atang148/\n",
      "atang148         13568   0.0  0.9  4804068  75740   ??  S     9:23PM   0:04.57 /Users/atang148/\n",
      "atang148         13567   0.0  0.1  4309492   9068   ??  S     9:23PM   0:00.04 /Users/atang148/\n",
      "atang148         13565   0.0  0.8  4760592  71148   ??  S     9:23PM   0:08.19 /Users/atang148/\n",
      "atang148         13560   0.0  0.0  4296528   1204 s000  Ss+   9:23PM   0:00.02 /bin/bash -l\n",
      "atang148         13544   0.0  2.6  5413524 214508   ??  S     9:23PM   3:17.22 /Users/atang148/\n",
      "atang148         13543   0.0  0.1  4335172   5936   ??  Ss    9:23PM   0:00.08 /System/Library/\n",
      "atang148         13542   0.0  0.6  4662920  48392   ??  S     9:23PM   1:04.13 /Users/atang148/\n",
      "atang148         13538   0.0  1.0  5400240  85304   ??  S     9:23PM   1:19.07 /Users/atang148/\n",
      "atang148         13532   0.0  0.2  4346064  16468   ??  S     9:22PM   0:00.41 /System/Library/\n",
      "atang148         13528   0.0  0.2  4346600  20292   ??  S     9:22PM   0:00.45 /System/Library/\n",
      "atang148         13475   0.0  0.1  4334960   6048   ??  S     9:20PM   0:00.22 /System/Library/\n",
      "atang148         13474   0.0  0.1  4305268   9424   ??  Ss    9:20PM   0:00.04 /System/Library/\n",
      "atang148         13473   0.0  0.2  4872000  20464   ??  S     9:20PM   0:01.05 /System/Library/\n",
      "atang148         13466   0.0  0.1  4336368  12336   ??  S     9:20PM   0:00.43 /System/Library/\n",
      "_spotlight       13375   0.0  0.1  4316180  10732   ??  S     7:39PM   0:00.10 /System/Library/\n",
      "_netbios         13167   0.0  0.1  4306792   8656   ??  SNs   6:48PM   0:00.13 /usr/sbin/netbio\n",
      "atang148         12166   0.0  0.2  4312660  16380   ??  Ss    3:24PM   0:02.48 //anaconda3/bin/\n",
      "atang148         12165   0.0  0.1  4311668  10360   ??  Ss    3:24PM   0:01.64 //anaconda3/bin/\n",
      "atang148         12164   0.0  0.1  4311728  10352   ??  Ss    3:24PM   0:01.65 //anaconda3/bin/\n",
      "atang148         12163   0.0  0.1  4311736  10344   ??  Ss    3:24PM   0:01.62 //anaconda3/bin/\n",
      "atang148         12162   0.0  0.1  4311736  10340   ??  Ss    3:24PM   0:01.66 //anaconda3/bin/\n",
      "atang148         12150   0.0  0.6  4367192  52448   ??  S     3:24PM   0:37.71 //anaconda3/bin/\n",
      "atang148         12143   0.0  0.0  4279884    752   ??  S     3:24PM   0:00.02 bash /Users/atan\n",
      "atang148         12027   0.0  0.2  4339188  13784   ??  Ss    3:15PM   0:02.48 //anaconda3/bin/\n",
      "atang148         11575   0.0  0.2  4355908  13948   ??  Ss    2:48PM   1:08.60 //anaconda3/bin/\n",
      "atang148         11480   0.0  0.1  4312668  10444   ??  Ss    2:42PM   0:03.43 //anaconda3/bin/\n",
      "atang148         11460   0.0  0.1  4311736  10336   ??  Ss    2:41PM   0:01.76 //anaconda3/bin/\n",
      "atang148         11459   0.0  0.1  4311736  10336   ??  Ss    2:41PM   0:01.80 //anaconda3/bin/\n",
      "atang148         11451   0.0  0.3  4867884  29344   ??  Ss    2:41PM   0:00.74 /Applications/Sa\n",
      "atang148         11447   0.0  0.3  4360276  29100   ??  Ss    2:41PM   0:33.58 /System/Library/\n",
      "atang148         11440   0.0  0.2  4357164  16396   ??  S     2:41PM   0:24.90 //anaconda3/bin/\n",
      "atang148         11433   0.0  0.0  4296268    752   ??  S     2:41PM   0:00.02 bash /Users/atan\n",
      "atang148         11301   0.0  0.1  4331576   9496   ??  Ss    2:37PM   0:00.07 /Applications/Xc\n",
      "atang148         11300   0.0  0.1  4331572   9264   ??  Ss    2:37PM   0:00.06 /Applications/Xc\n",
      "atang148         11292   0.0  0.1  4307676   5080   ??  Ss    2:37PM   0:00.05 /Applications/Xc\n",
      "atang148         11291   0.0  0.1  4337472   9968   ??  S     2:37PM   0:00.12 /Applications/Xc\n",
      "atang148         11286   0.0  0.2  4464604  15688   ??  Ss    2:36PM   0:00.52 /Applications/Xc\n",
      "atang148         11284   0.0  0.1  4332104   9552   ??  Ss    2:36PM   0:00.08 /Applications/Xc\n",
      "atang148         11283   0.0  0.1  4332128   9548   ??  Ss    2:36PM   0:00.08 /Applications/Xc\n",
      "atang148         11282   0.0  0.1  4332200   9568   ??  Ss    2:36PM   0:00.08 /Applications/Xc\n",
      "atang148         11281   0.0  0.1  4332120   9556   ??  Ss    2:36PM   0:00.08 /Applications/Xc\n",
      "atang148         11280   0.0  0.1  4332164   9560   ??  Ss    2:36PM   0:00.08 /Applications/Xc\n",
      "atang148         11279   0.0  0.1  4332188   9560   ??  Ss    2:36PM   0:00.08 /Applications/Xc\n",
      "atang148         11277   0.0  0.1  4308876   9596   ??  Ss    2:36PM   0:00.05 /Applications/Xc\n",
      "atang148         11271   0.0  2.0  6239248 168756   ??  S     2:36PM   1:15.95 /Applications/Xc\n",
      "atang148         10992   0.0  0.1  4335172   5500   ??  Ss    2:27PM   0:00.12 /System/Library/\n",
      "atang148         10991   0.0  1.2  5208360  98396   ??  S     2:27PM   0:29.05 /private/var/fol\n",
      "atang148         10989   0.0  0.3  4588800  29104   ??  S     2:27PM   0:10.13 /private/var/fol\n",
      "atang148         10983   0.0  0.8  5381700  63356   ??  S     2:27PM   0:23.01 /private/var/fol\n",
      "atang148         10980   0.0  0.2  4373180  16920   ??  Ss    2:27PM   0:06.86 /Applications/Dr\n",
      "atang148         10930   0.0  1.0  4751012  87180   ??  S     2:27PM   0:49.54 //anaconda3/bin/\n",
      "atang148         10919   0.0  0.0  4804084    752   ??  S     2:27PM   0:00.01 /bin/sh /anacond\n",
      "atang148         10601   0.0  0.1  4335864  11720   ??  S     3:27AM   0:00.34 /System/Library/\n",
      "atang148         10600   0.0  0.3  4393364  27168   ??  Ss    3:27AM   0:00.67 /System/Library/\n",
      "atang148         10598   0.0  0.2  4877512  14224   ??  Ss    3:27AM   0:00.84 /Applications/iT\n",
      "atang148         10597   0.0  0.9  5080032  72448   ??  S     3:27AM   0:09.69 /Applications/iT\n",
      "_windowserver    10577   0.0  0.1  4842948  10472   ??  Ss    3:24AM   0:00.08 /System/Library/\n",
      "atang148          8627   0.0  0.1  4305208   4712   ??  S    Sat09PM   0:00.03 /System/Library/\n",
      "atang148          7973   0.0  0.2  4357232  15784   ??  S    Sat08PM   0:02.49 /Library/Interne\n",
      "atang148          7825   0.0  0.2  4359396  15128   ??  S    Sat08PM   0:03.44 /System/Library/\n",
      "atang148          7824   0.0  0.1  4336092  11824   ??  S    Sat08PM   0:02.51 /Applications/iT\n",
      "atang148          5776   0.0  0.2  4387824  16796   ??  Ss   Sat06PM   0:15.65 /Applications/Dr\n",
      "atang148          5774   0.0  0.2  4842912  12864   ??  Ss   Sat06PM   0:00.10 /System/Library/\n",
      "atang148          5773   0.0  1.0  4971156  87384   ??  S    Sat06PM   0:46.06 /Applications/Te\n",
      "atang148          5532   0.0  0.3  4334012  25500   ??  Ss   Sat06PM   0:00.08 /System/Library/\n",
      "root              5241   0.0  0.1  4333740  12156   ??  Ss   Sat06PM   0:08.55 /usr/libexec/Per\n",
      "_usbmuxd          5198   0.0  0.1  4332660   6828   ??  Ss   Sat04PM   0:16.51 /System/Library/\n",
      "atang148          4212   0.0  0.1  4304920   8360   ??  Ss   Sat02PM   0:00.17 /Applications/Dr\n",
      "root              4194   0.0  0.1  4297248   4420   ??  Ss   Sat02PM   0:00.04 /System/Library/\n",
      "root              4006   0.0  1.0  4413568  85096   ??  Ss   Sat01PM   1:00.96 /usr/libexec/san\n",
      "root              3997   0.0  0.1  4842912  10620   ??  Ss   Sat01PM   0:00.10 /System/Library/\n",
      "atang148          3869   0.0  0.1  4867216  12428   ??  S    Sat12PM   0:02.31 /Library/Develop\n",
      "atang148          3868   0.0  0.2  4868328  13348   ??  S    Sat12PM   0:03.21 /Library/Develop\n",
      "atang148          3395   0.0  0.2  4376564  16688   ??  Ss   Sat12PM   0:16.66 /Applications/Dr\n",
      "atang148          3394   0.0  0.2  4368092  18048   ??  Ss   Sat12PM   0:03.70 /Applications/On\n",
      "atang148          3393   0.0  0.1  4842912  10628   ??  Ss   Sat12PM   0:00.13 /System/Library/\n",
      "atang148          3390   0.0  0.4  4988440  35788   ??  Ss   Sat12PM   0:37.45 /System/Library/\n",
      "atang148          3353   0.0  0.1  4341088   9828   ??  S    Sat12PM   0:00.42 /System/Library/\n",
      "atang148          2915   0.0  0.1  4842848  10492   ??  Ss   Sat12PM   0:00.06 /System/Library/\n",
      "atang148          2810   0.0  0.1  4305288   4828   ??  S    Sat12PM   0:00.05 /System/Library/\n",
      "atang148          2581   0.0  0.4  5005380  33536   ??  S    Sat12PM   0:47.50 /Applications/La\n",
      "atang148          2522   0.0  0.1  4352032   6392   ??  Ss   Sat12PM   0:04.68 /System/Library/\n",
      "root              2520   0.0  0.1  4305220   4968   ??  Ss   Sat12PM   0:00.09 /System/Library/\n",
      "atang148          1994   0.0  0.2  4354812  18412   ??  S    Sat11AM   0:02.56 /System/Library/\n",
      "_softwareupdate   1983   0.0  0.0  4305884    988   ??  S    Sat11AM   0:00.13 /usr/sbin/distno\n",
      "_softwareupdate   1982   0.0  0.0  4296912   1072   ??  S    Sat11AM   0:00.10 /usr/sbin/cfpref\n",
      "atang148          1940   0.0  0.1  4305448   8608   ??  S    Sat11AM   0:00.06 /System/Library/\n",
      "atang148          1620   0.0  0.1  4842848   9292   ??  Ss   Sat11AM   0:00.07 /System/Library/\n",
      "atang148          1619   0.0  0.2  4898368  17224   ??  Ss   Sat11AM   0:02.51 /System/Library/\n",
      "atang148          1453   0.0  0.1  4842876  10500   ??  Ss   Sat11AM   0:00.07 /System/Library/\n",
      "atang148          1381   0.0  0.1  4306296   7912   ??  S    Sat11AM   0:00.07 /usr/libexec/USB\n",
      "atang148          1378   0.0  0.2  4332452  13928   ??  S    Sat11AM   0:00.17 /usr/libexec/sir\n",
      "atang148          1361   0.0  0.2  4343560  18292   ??  Ss   Sat11AM   0:02.29 /System/Library/\n",
      "atang148          1329   0.0  0.1  4305220   4648   ??  S    Sat11AM   0:00.08 /System/Library/\n",
      "root              1327   0.0  0.1  4304732  11088   ??  Ss   Sat11AM   0:00.06 /System/Library/\n",
      "atang148          1270   0.0  0.1  4842848  10496   ??  Ss   Sat11AM   0:00.05 /System/Library/\n",
      "atang148          1267   0.0  0.2  4397332  14360   ??  S    Sat11AM   0:01.84 /System/Library/\n",
      "atang148          1262   0.0  0.1  4335740   5688   ??  S    Sat11AM   0:00.32 /System/Library/\n",
      "atang148          1260   0.0  0.2  4351972  20396   ??  S    Sat11AM   0:21.14 /System/Library/\n",
      "atang148          1239   0.0  0.1  4334932   8496   ??  S    Sat11AM   0:00.50 /System/Library/\n",
      "_fpsd             1210   0.0  0.1  4305780   4984   ??  Ss   Sat11AM   0:02.17 /System/Library/\n",
      "atang148          1207   0.0  0.2  4334612  16056   ??  S    Sat11AM   0:00.27 /System/Library/\n",
      "atang148          1197   0.0  0.2  4358520  18700   ??  S    Sat11AM   0:02.96 /System/Library/\n",
      "atang148          1181   0.0  0.3  4331836  24180   ??  S    Sat11AM   0:13.67 /usr/libexec/Saf\n",
      "atang148          1124   0.0  0.1  4305260   5284   ??  S    Sat11AM   0:06.83 /System/Library/\n",
      "atang148          1122   0.0  0.1  4334924  11688   ??  S    Sat11AM   0:00.70 /System/Library/\n",
      "atang148          1121   0.0  0.2  4335940  14044   ??  S    Sat11AM   0:00.33 /usr/libexec/key\n",
      "atang148          1120   0.0  0.9  4603020  77156   ??  S    Sat11AM   0:33.23 /System/Library/\n",
      "passwordx         1045   0.0  0.1  4337292  10212   ??  S    Sat11AM   0:00.14 /System/Library/\n",
      "atang148          1044   0.0  0.1  4335500  10276   ??  S    Sat11AM   0:02.86 /System/Library/\n",
      "_spotlight        1043   0.0  0.1  4333692  10292   ??  S    Sat11AM   1:23.64 /System/Library/\n",
      "atang148          1042   0.0  0.2  4361944  20420   ??  Ss   Sat11AM   0:00.33 /System/Library/\n",
      "atang148          1032   0.0  0.1  4336160   9972   ??  Ss   Sat11AM   0:00.35 /System/Library/\n",
      "atang148          1031   0.0  0.2  4411820  15832   ??  Ss   Sat11AM   0:00.23 /System/Library/\n",
      "atang148          1030   0.0  0.2  4331972  17476   ??  S    Sat11AM   0:00.14 /System/Library/\n",
      "root               959   0.0  0.2  4332676  14996   ??  Ss   Sat11AM   0:00.16 /usr/libexec/dmd\n",
      "atang148           949   0.0  0.2  4358276  20228   ??  S    Sat11AM   0:02.89 /System/Library/\n",
      "atang148           948   0.0  0.1  4337492  11136   ??  S    Sat11AM   0:00.48 /usr/libexec/sil\n",
      "root               947   0.0  0.0  4288680    424   ??  SNs  Sat11AM   0:00.01 /usr/libexec/per\n",
      "atang148           941   0.0  0.2  4869660  13344   ??  Ss   Sat11AM   0:04.94 /Applications/Dr\n",
      "atang148           939   0.0  0.4  4790704  30204   ??  S    Sat11AM   0:21.41 /Applications/Dr\n",
      "atang148           938   0.0  0.2  4332492  14736   ??  S    Sat11AM   0:00.11 /System/Library/\n",
      "atang148           936   0.0  0.0  4282356    140   ??  S    Sat11AM   0:23.25 /Library/Dropbox\n",
      "root               935   0.0  0.1  4273140   4340   ??  S    Sat11AM   0:24.54 /Library/Dropbox\n",
      "root               934   0.0  0.0  4273140    548   ??  S    Sat11AM   0:04.03 /Library/Dropbox\n",
      "atang148           933   0.0  0.1  4335172   5440   ??  Ss   Sat11AM   0:00.13 /System/Library/\n",
      "atang148           931   0.0  1.3  5058684 107516   ??  S    Sat11AM   3:25.20 /Applications/Dr\n",
      "atang148           930   0.0  0.2  4580124  19492   ??  S    Sat11AM   0:04.04 /Applications/Dr\n",
      "atang148           929   0.0  0.3  4791980  27984   ??  S    Sat11AM   0:02.96 /Applications/Dr\n",
      "atang148           927   0.0  0.1  4842912  10596   ??  Ss   Sat11AM   0:00.07 /System/Library/\n",
      "_gamecontrollerd   922   0.0  0.1  4305328   9592   ??  Ss   Sat11AM   0:03.58 /usr/libexec/gam\n",
      "atang148           915   0.0  0.1  4842848  10492   ??  Ss   Sat11AM   0:00.06 /System/Library/\n",
      "atang148           914   0.0  0.2  4305956  13420   ??  S    Sat11AM   0:00.11 /usr/libexec/fin\n",
      "atang148           910   0.0  0.2  4307732  14572   ??  S    Sat11AM   0:00.06 /System/Library/\n",
      "atang148           904   0.0  0.1  4334664   9376   ??  S    Sat11AM   0:00.06 /Applications/Dr\n",
      "atang148           903   0.0  0.1  4311100   9092   ??  S    Sat11AM   0:00.07 /Applications/Dr\n",
      "atang148           901   0.0  0.4  4997092  34476   ??  S    Sat11AM   0:35.51 /Applications/On\n",
      "atang148           899   0.0  5.1  7404616 430220   ??  S    Sat11AM  69:03.71 /Applications/Dr\n",
      "atang148           898   0.0  0.2  4332908  18472   ??  S    Sat11AM   0:08.68 /System/Library/\n",
      "atang148           897   0.0  0.2  4869500  13200   ??  S    Sat11AM   0:02.81 /System/Library/\n",
      "atang148           892   0.0  0.2  4335068  14092   ??  S    Sat11AM   0:02.28 /System/Library/\n",
      "atang148           891   0.0  0.1  4336924  11388   ??  S    Sat11AM   0:01.97 /System/Library/\n",
      "atang148           890   0.0  0.2  4334784  15776   ??  S    Sat11AM   0:00.25 /usr/libexec/dmd\n",
      "atang148           887   0.0  0.1  4331360  12220   ??  S    Sat11AM   0:00.12 /System/Library/\n",
      "atang148           885   0.0  0.2  4304832  15532   ??  S    Sat11AM   0:00.03 /System/Library/\n",
      "atang148           883   0.0  0.1  4337552  12128   ??  Ss   Sat11AM   0:00.12 /System/Library/\n",
      "atang148           877   0.0  0.1  4334028   9136   ??  S    Sat11AM   0:00.08 /System/Library/\n",
      "atang148           875   0.0  0.2  4377148  16900   ??  Ss   Sat11AM   0:23.40 /Applications/Dr\n",
      "atang148           874   0.0  0.1  4306484   8444   ??  S    Sat11AM   0:00.06 /System/Library/\n",
      "atang148           873   0.0  0.1  4306048   8440   ??  S    Sat11AM   0:00.08 /System/Library/\n",
      "root               872   0.0  0.1  4305928   8216   ??  Ss   Sat11AM   0:00.06 /System/Library/\n",
      "atang148           870   0.0  0.1  4842876  10668   ??  Ss   Sat11AM   0:00.25 /System/Library/\n",
      "atang148           863   0.0  0.1  4334592   8996   ??  S    Sat11AM   0:00.07 /System/Library/\n",
      "atang148           862   0.0  0.1  4821256   7968   ??  S    Sat11AM   0:00.02 SafeEjectGPUAgen\n",
      "root               859   0.0  0.1  4331728   6788   ??  Ss   Sat11AM   0:06.61 /usr/libexec/tas\n",
      "atang148           853   0.0  0.3  4871520  27092   ??  Ss   Sat11AM   0:03.07 /System/Library/\n",
      "atang148           848   0.0  0.3  4390600  28424   ??  S    Sat11AM   0:10.16 /usr/libexec/stu\n",
      "atang148           843   0.0  0.3  4339576  26772   ??  S    Sat11AM   0:07.00 /System/Library/\n",
      "atang148           842   0.0  0.1  4305100   4220   ??  Ss   Sat11AM   0:00.02 /System/Library/\n",
      "atang148           834   0.0  0.1  4842848  10812   ??  Ss   Sat11AM   0:00.19 /System/Library/\n",
      "atang148           833   0.0  0.1  4305252  12032   ??  Ss   Sat11AM   0:01.30 /System/Library/\n",
      "atang148           830   0.0  0.1  4338184   6904   ??  Ss   Sat11AM   0:01.72 /System/Library/\n",
      "atang148           827   0.0  0.2  4393652  19368   ??  Ss   Sat11AM   0:55.90 /Applications/Dr\n",
      "atang148           826   0.0  0.2  4372524  17984   ??  Ss   Sat11AM   0:04.40 /Applications/On\n",
      "atang148           825   0.0  0.1  4842848  10496   ??  Ss   Sat11AM   0:00.08 /System/Library/\n",
      "atang148           815   0.0  1.1  5132600  91476   ??  S    Sat11AM   0:46.51 /System/Library/\n",
      "atang148           812   0.0  2.5  6899268 209128   ??  S    Sat11AM  28:53.82 /System/Library/\n",
      "atang148           811   0.0  0.4  4921580  37712   ??  S    Sat11AM   0:30.30 /System/Library/\n",
      "atang148           810   0.0  0.3  4931472  26072   ??  S    Sat11AM   0:39.81 /System/Library/\n",
      "atang148           764   0.0  0.1  4334536   9844   ??  S    Sat11AM   0:00.10 /System/Library/\n",
      "atang148           753   0.0  0.2  4331548  19588   ??  S    Sat11AM   0:00.17 /System/Library/\n",
      "atang148           734   0.0  0.2  4336256  15732   ??  S    Sat11AM   0:00.57 /System/Library/\n",
      "root               733   0.0  0.1  4337692   6564   ??  Ss   Sat11AM   0:00.31 /usr/libexec/dpr\n",
      "atang148           732   0.0  0.2  4363576  19756   ??  S    Sat11AM   0:04.29 /System/Library/\n",
      "atang148           730   0.0  0.2  4341576  19028   ??  S    Sat11AM   0:02.87 /System/Library/\n",
      "atang148           727   0.0  0.3  4340704  21408   ??  S    Sat11AM   0:03.82 /System/Library/\n",
      "root               726   0.0  0.1  4332196   9988   ??  Ss   Sat11AM   0:00.58 /usr/libexec/tzd\n",
      "atang148           706   0.0  0.1  4369052   5788   ??  S    Sat11AM   0:12.29 /System/Library/\n",
      "root               698   0.0  0.1  4305088   4304   ??  Ss   Sat11AM   0:00.01 /System/Library/\n",
      "_datadetectors     636   0.0  0.1  4315640   5272   ??  Ss   Sat11AM   0:02.92 /usr/libexec/Dat\n",
      "atang148           635   0.0  0.1  4842848  10496   ??  Ss   Sat11AM   0:00.04 /System/Library/\n",
      "atang148           634   0.0  0.3  4900092  21212   ??  S    Sat11AM   0:09.78 /System/Library/\n",
      "atang148           633   0.0  0.2  4305704  15336   ??  Ss   Sat11AM   0:00.08 /System/Library/\n",
      "passwordx          632   0.0  0.1  4339320   9896   ??  S    Sat11AM   0:00.27 /usr/libexec/sec\n",
      "_spotlight         625   0.0  0.0  4305884   1148   ??  S    Sat11AM   0:00.21 /usr/sbin/distno\n",
      "_spotlight         616   0.0  0.1  4336452   8268   ??  S    Sat11AM   0:04.21 /usr/libexec/tru\n",
      "passwordx          615   0.0  0.0  4305884   1168   ??  S    Sat11AM   0:00.16 /usr/sbin/distno\n",
      "passwordx          614   0.0  0.1  4336960   8420   ??  S    Sat11AM   0:04.14 /usr/libexec/tru\n",
      "passwordx          613   0.0  0.1  4345120   8028   ??  S    Sat11AM   0:09.80 /usr/libexec/lsd\n",
      "passwordx          612   0.0  0.0  4305104   1344   ??  S    Sat11AM   0:00.23 /usr/sbin/cfpref\n",
      "root               611   0.0  0.1  4306512   4384   ??  Ss   Sat11AM   0:00.05 /usr/libexec/mob\n",
      "atang148           607   0.0  1.0  4481296  79800   ??  S    Sat11AM   0:38.37 /System/Library/\n",
      "atang148           606   0.0  0.2  4337596  18120   ??  S    Sat11AM   0:01.92 /usr/libexec/adp\n",
      "atang148           600   0.0  0.1  4331864   5044   ??  S    Sat11AM   0:00.08 /System/Library/\n",
      "atang148           596   0.0  0.2  4331920  20188   ??  Ss   Sat11AM   0:00.06 /System/Library/\n",
      "atang148           593   0.0  0.1  4331316   5848   ??  S    Sat11AM   0:00.10 /System/Library/\n",
      "atang148           592   0.0  0.1  4333596  11084   ??  S    Sat11AM   0:05.71 /usr/libexec/vid\n",
      "root               589   0.0  0.1  4334852   6804   ??  Ss   Sat11AM   0:00.77 /System/Library/\n",
      "atang148           572   0.0  0.3  4396012  24896   ??  Ss   Sat11AM   0:01.06 /System/Library/\n",
      "_applepay          569   0.0  0.1  4332556   5836   ??  Ss   Sat11AM   0:00.09 /usr/libexec/nfc\n",
      "atang148           568   0.0  0.2  4347904  14100   ??  S    Sat11AM   0:04.78 /System/Library/\n",
      "atang148           567   0.0  0.1  4305932  10588   ??  S    Sat11AM   0:00.12 /System/Library/\n",
      "_softwareupdate    566   0.0  0.1  4332960  10504   ??  Ss   Sat11AM   0:00.18 /System/Library/\n",
      "atang148           560   0.0  0.2  4332680  17360   ??  S    Sat11AM   0:02.27 /System/Library/\n",
      "root               559   0.0  0.1  4358728  11180   ??  Ss   Sat11AM   0:05.64 /System/Library/\n",
      "atang148           558   0.0  0.2  4334752  14840   ??  S    Sat11AM   0:00.20 /System/Library/\n",
      "atang148           557   0.0  0.1  4335708  11828   ??  Ss   Sat11AM   0:01.50 /System/Library/\n",
      "atang148           548   0.0  0.3  4346464  23004   ??  S    Sat11AM   0:22.92 /System/Library/\n",
      "atang148           547   0.0  0.2  4304740  15416   ??  Ss   Sat11AM   0:00.08 /System/Library/\n",
      "atang148           546   0.0  0.3  4335060  22320   ??  S    Sat11AM   0:00.88 /System/Library/\n",
      "atang148           545   0.0  0.1  4304900   8472   ??  S    Sat11AM   0:00.04 /System/Library/\n",
      "root               544   0.0  0.1  4336496   7092   ??  Ss   Sat11AM   0:01.35 /usr/libexec/rtc\n",
      "atang148           543   0.0  0.4  4337940  31792   ??  S    Sat11AM   0:21.09 /System/Library/\n",
      "atang148           542   0.0  0.1  4334636  10328   ??  S    Sat11AM   0:00.20 /System/Library/\n",
      "root               540   0.0  0.1  4295452   4348   ??  Ss   Sat11AM   0:00.02 /System/Library/\n",
      "root               539   0.0  0.3  4334724  21824   ??  Ss   Sat11AM   0:01.17 /usr/libexec/fin\n",
      "root               538   0.0  0.1  4338240  11020   ??  Ss   Sat11AM   0:00.26 /System/Library/\n",
      "atang148           537   0.0  0.1  4842848  10496   ??  Ss   Sat11AM   0:00.08 /System/Library/\n",
      "_softwareupdate    536   0.0  0.2  4435192  17528   ??  Ss   Sat11AM   0:33.79 /System/Library/\n",
      "root               535   0.0  0.1  4333064   6152   ??  Ss   Sat11AM   0:00.10 /usr/bin/sysdiag\n",
      "root               534   0.0  0.1  4354088  10896   ??  Ss   Sat11AM   0:05.08 /System/Library/\n",
      "atang148           533   0.0  0.1  4331540   6148   ??  S    Sat11AM   0:00.13 /System/Library/\n",
      "atang148           532   0.0  0.2  4306488  15992   ??  S    Sat11AM   0:01.05 /System/Library/\n",
      "atang148           530   0.0  0.4  4383032  34172   ??  S    Sat11AM   0:08.78 /System/Library/\n",
      "atang148           529   0.0  0.4  4393468  29764   ??  S    Sat11AM   0:07.23 /System/Library/\n",
      "atang148           528   0.0  0.2  4361352  20832   ??  Ss   Sat11AM   0:00.29 /System/Library/\n",
      "atang148           527   0.0  0.1  4333520   7656   ??  S    Sat11AM   0:00.55 /System/Library/\n",
      "atang148           526   0.0  0.1  4337528   6936   ??  S    Sat11AM   0:01.21 /System/Library/\n",
      "atang148           525   0.0  0.2  4371572  19344   ??  S    Sat11AM   0:02.65 /System/Library/\n",
      "atang148           522   0.0  0.1  4333692   6728   ??  S    Sat11AM   0:00.42 /System/Library/\n",
      "atang148           515   0.0  0.3  4359924  22700   ??  S    Sat11AM   0:01.03 /System/Library/\n",
      "atang148           514   0.0  0.1  4305552   6452   ??  S    Sat11AM   0:00.17 /usr/libexec/Sid\n",
      "atang148           510   0.0  0.2  4905644  19836   ??  S    Sat11AM   0:03.68 /System/Library/\n",
      "atang148           508   0.0  0.1  4333188  11572   ??  S    Sat11AM   0:08.68 /System/Library/\n",
      "_locationd         507   0.0  0.0  4305884   1136   ??  S    Sat11AM   0:00.15 /usr/sbin/distno\n",
      "atang148           506   0.0  0.1  4338176  12396   ??  S    Sat11AM   0:27.14 /System/Library/\n",
      "atang148           505   0.0  0.2  4377216  13592   ??  S    Sat11AM   0:03.33 /System/Library/\n",
      "atang148           504   0.0  0.1  4305744   5956   ??  S    Sat11AM   0:03.15 /usr/libexec/pbo\n",
      "root               502   0.0  0.1  4309724   7216   ??  Ss   Sat11AM   0:02.26 /usr/sbin/fileco\n",
      "atang148           501   0.0  0.2  4336312  13720   ??  S    Sat11AM   0:45.55 /usr/libexec/pkd\n",
      "_cmiodalassistants   499   0.0  0.1  4298008   4540   ??  Ss   Sat11AM   0:00.17 /Library/CoreMed\n",
      "atang148           498   0.0  0.1  4332756  10572   ??  Ss   Sat11AM   0:00.45 /System/Library/\n",
      "root               496   0.0  0.0  4305208    912   ??  Ss   Sat11AM   0:00.03 /System/Library/\n",
      "atang148           494   0.0  0.1  4334288   6204   ??  S    Sat11AM   0:01.94 /System/Library/\n",
      "atang148           493   0.0  0.2  4341028  15408   ??  S    Sat11AM   0:01.65 /System/Library/\n",
      "_fpsd              490   0.0  0.1  4308940   8060   ??  Ss   Sat11AM   0:02.55 /System/Library/\n",
      "root               489   0.0  0.1  4332964   5960   ??  S    Sat11AM   0:00.42 /usr/sbin/system\n",
      "atang148           488   0.0  0.1  4304624   4664   ??  Ss   Sat11AM   0:00.15 /System/Library/\n",
      "root               487   0.0  0.1  4305104   4864   ??  Ss   Sat11AM   0:07.47 /usr/libexec/sys\n",
      "atang148           486   0.0  0.1  4338300   8032   ??  S    Sat11AM   0:01.47 /System/Library/\n",
      "atang148           485   0.0  0.2  4610440  20048   ??  S    Sat11AM   0:45.51 /System/Library/\n",
      "root               484   0.0  0.1  4305288   7964   ??  Ss   Sat11AM   0:00.04 /System/Library/\n",
      "atang148           482   0.0  0.2  4356760  13480   ??  S    Sat11AM   0:03.38 /System/Library/\n",
      "root               481   0.0  0.1  4342776   7976   ??  Ss   Sat11AM   0:01.56 /usr/sbin/system\n",
      "atang148           477   0.0  0.3  4368160  23628   ??  S    Sat11AM   0:18.44 /System/Library/\n",
      "atang148           475   0.0  0.3  4342536  27664   ??  S    Sat11AM   0:13.07 /System/Library/\n",
      "atang148           474   0.0  0.1  4334088   6936   ??  S    Sat11AM   0:00.96 /usr/libexec/swc\n",
      "atang148           473   0.0  0.3  4337756  24416   ??  S    Sat11AM   0:01.92 /System/Library/\n",
      "atang148           472   0.0  0.5  4652976  41440   ??  S    Sat11AM   0:06.53 /System/Library/\n",
      "atang148           471   0.0  0.1  4334180   9004   ??  S    Sat11AM   0:06.29 /System/Library/\n",
      "atang148           470   0.0  0.3  4353928  24848   ??  S    Sat11AM   0:15.16 /usr/libexec/kno\n",
      "root               468   0.0  0.1  4332124   9956   ??  Ss   Sat11AM   0:00.11 /System/Library/\n",
      "atang148           467   0.0  0.1  4305848   5336   ??  S    Sat11AM   0:00.07 /usr/libexec/spi\n",
      "root               466   0.0  0.2  4357540  18288   ??  Ss   Sat11AM   0:07.26 /usr/sbin/spindu\n",
      "atang148           465   0.0  0.1  4304664   5036   ??  S    Sat11AM   0:00.13 /System/Library/\n",
      "atang148           464   0.0  0.4  4355804  37692   ??  Ss   Sat11AM   0:14.96 /System/Library/\n",
      "root               463   0.0  0.1  4304684   4996   ??  Ss   Sat11AM   0:00.05 /System/Library/\n",
      "_locationd         462   0.0  0.1  4337548   6640   ??  S    Sat11AM   0:00.56 /usr/libexec/tru\n",
      "_locationd         461   0.0  0.0  4305104   1208   ??  S    Sat11AM   0:00.15 /usr/sbin/cfpref\n",
      "_locationd         460   0.0  0.1  4333576   6660   ??  S    Sat11AM   0:00.61 /usr/libexec/sec\n",
      "_locationd         459   0.0  0.1  4344608   8712   ??  S    Sat11AM   0:01.89 /System/Library/\n",
      "atang148           458   0.0  0.1  4333504   9708   ??  S    Sat11AM   0:11.72 /System/Library/\n",
      "atang148           457   0.0  0.5  4350972  44868   ??  S    Sat11AM   3:52.94 /System/Library/\n",
      "atang148           455   0.0  0.1  4338072  10868   ??  Ss   Sat11AM   0:01.13 /System/Library/\n",
      "atang148           454   0.0  0.1  4331992   5152   ??  S    Sat11AM   0:00.61 /System/Library/\n",
      "atang148           452   0.0  0.2  4339208  20720   ??  S    Sat11AM   0:01.35 /usr/libexec/fmf\n",
      "atang148           451   0.0  0.2  4332920  16476   ??  S    Sat11AM   0:00.14 /System/Library/\n",
      "atang148           450   0.0  0.4  4351416  29980   ??  S    Sat11AM   0:02.83 /System/Library/\n",
      "atang148           449   0.0  0.3  4304924  26004   ??  S    Sat11AM   0:00.10 /System/Library/\n",
      "atang148           448   0.0  0.2  4331920  13328   ??  S    Sat11AM   0:00.18 /System/Library/\n",
      "atang148           447   0.0  0.1  4304660   8836   ??  S    Sat11AM   0:00.11 /System/Library/\n",
      "atang148           445   0.0  0.1  4307140   5536   ??  S    Sat11AM   0:00.32 /System/Library/\n",
      "atang148           443   0.0  0.5  4373188  40704   ??  S    Sat11AM   0:40.01 /usr/libexec/sha\n",
      "root               442   0.0  0.1  4305392   8348   ??  Ss   Sat11AM   0:00.02 /System/Library/\n",
      "atang148           441   0.0  0.2  4357656  12948   ??  S    Sat11AM   0:03.42 /System/Library/\n",
      "atang148           440   0.0  0.1  4305244   4916   ??  S    Sat11AM   0:00.04 /System/Library/\n",
      "atang148           439   0.0  0.1  4343556  11920   ??  S    Sat11AM   0:12.12 /usr/libexec/nsu\n",
      "atang148           438   0.0  0.1  4339388  10396   ??  S    Sat11AM   0:03.95 /System/Library/\n",
      "root               437   0.0  0.1  4332740   6644   ??  Ss   Sat11AM   0:11.09 /usr/sbin/wirele\n",
      "root               436   0.0  0.1  4333400   6500   ??  Ss   Sat11AM   0:00.32 /usr/libexec/sec\n",
      "root               435   0.0  0.1  4333360   9884   ??  Ss   Sat11AM   0:09.04 /System/Library/\n",
      "atang148           434   0.0  0.5  4949496  45992   ??  S    Sat11AM   0:12.29 /System/Library/\n",
      "atang148           433   0.0  0.1  4335836  10060   ??  S    Sat11AM   0:00.57 /usr/libexec/net\n",
      "atang148           432   0.0  0.6  4421744  53804   ??  S    Sat11AM   0:50.90 /System/Library/\n",
      "atang148           431   0.0  0.2  4335676  15716   ??  S    Sat11AM   0:02.80 /usr/sbin/userno\n",
      "atang148           430   0.0  0.5  4346168  38824   ??  S    Sat11AM   0:10.54 /usr/libexec/rou\n",
      "atang148           429   0.0  0.3  4335776  28640   ??  S    Sat11AM   0:03.04 /System/Library/\n",
      "atang148           427   0.0  0.2  4344632  18916   ??  S    Sat11AM   0:16.84 /usr/libexec/nsu\n",
      "atang148           426   0.0  0.2  4334104  17624   ??  S    Sat11AM   0:02.92 /usr/libexec/rap\n",
      "atang148           425   0.0  0.2  4304816  18072   ??  S    Sat11AM   0:01.91 /System/Library/\n",
      "_analyticsd        424   0.0  0.1  4333528   8700   ??  Ss   Sat11AM   0:02.85 /System/Library/\n",
      "atang148           423   0.0  0.5  4362920  39088   ??  S    Sat11AM   0:55.89 /System/Library/\n",
      "atang148           422   0.0  0.2  4306196  15680   ??  S    Sat11AM   0:00.46 /System/Library/\n",
      "atang148           421   0.0  0.1  4338476  12036   ??  S    Sat11AM   0:49.59 /System/Library/\n",
      "atang148           420   0.0  0.3  4334176  21336   ??  S    Sat11AM   0:01.42 /System/Library/\n",
      "atang148           419   0.0  0.3  4344772  26284   ??  S    Sat11AM   0:05.15 /System/Library/\n",
      "atang148           418   0.0  0.6  4417724  46164   ??  S    Sat11AM   0:50.14 /System/Library/\n",
      "atang148           416   0.0  0.5  4354896  41816   ??  S    Sat11AM   3:51.61 /System/Library/\n",
      "root               415   0.0  0.1  4332388  10692   ??  Ss   Sat11AM   0:00.22 /usr/sbin/Wirele\n",
      "atang148           414   0.0  0.2  4350152  14824   ??  S    Sat11AM   0:18.37 /usr/libexec/sec\n",
      "root               413   0.0  0.1  4413876  10988   ??  Ss   Sat11AM   0:00.90 /System/Library/\n",
      "atang148           412   0.0  0.1  4338540  10228   ??  S    Sat11AM   0:26.36 /usr/libexec/sec\n",
      "atang148           410   0.0  0.1  4336732   6024   ??  S    Sat11AM   0:00.74 /usr/libexec/lan\n",
      "atang148           409   0.0  0.1  4346156  11216   ??  S    Sat11AM   0:19.19 /usr/libexec/lsd\n",
      "atang148           408   0.0  0.2  4358416  12824   ??  S    Sat11AM   1:14.30 /usr/libexec/tru\n",
      "atang148           407   0.0  0.3  4345536  26500   ??  S    Sat11AM   0:07.52 /System/Library/\n",
      "atang148           404   0.0  0.1  4305884   4764   ??  S    Sat11AM   0:15.45 /usr/sbin/distno\n",
      "atang148           402   0.0  0.4  4334364  34340   ??  S    Sat11AM   0:21.11 /usr/libexec/Use\n",
      "atang148           400   0.0  0.0  4306812   3676   ??  S    Sat11AM   0:15.44 /usr/sbin/cfpref\n",
      "root               399   0.0  0.0  4306316   4192   ??  Ss   Sat11AM   0:00.06 /usr/libexec/sec\n",
      "atang148           398   0.0  0.1  4332212  11064   ??  S    Sat11AM   0:00.68 /System/Library/\n",
      "root               397   0.0  0.0  4305884   1152   ??  S    Sat11AM   0:00.17 /usr/sbin/distno\n",
      "root               396   0.0  0.1  4305100   8956   ??  Ss   Sat11AM   0:00.10 /System/Library/\n",
      "root               395   0.0  0.1  4332860   9680   ??  S    Sat11AM   0:07.41 /System/Library/\n",
      "root               392   0.0  0.1  4305136   4936   ??  Ss   Sat11AM   0:00.10 /System/Library/\n",
      "root               391   0.0  0.1  4310312   6060   ??  Ss   Sat11AM   0:05.01 /System/Library/\n",
      "root               386   0.0  0.1  4305536   8748   ??  Ss   Sat11AM   0:00.04 /usr/libexec/boo\n",
      "_captiveagent      376   0.0  0.1  4306968   5640   ??  Ss   Sat11AM   0:00.32 /usr/libexec/cap\n",
      "root               373   0.0  0.1  4307384   6256   ??  Ss   Sat11AM   0:01.94 /System/Library/\n",
      "_windowserver      364   0.0  0.2  4843524  15472   ??  Ss   Sat11AM   0:02.06 /System/Library/\n",
      "root               363   0.0  0.1  4305476   4324   ??  Ss   Sat11AM   0:00.05 /usr/libexec/col\n",
      "root               362   0.0  0.1  4304708   5028   ??  Ss   Sat11AM   0:00.07 /usr/libexec/col\n",
      "root               361   0.0  0.1  4331156   4716   ??  Ss   Sat11AM   0:00.12 /System/Library/\n",
      "root               355   0.0  0.8  5342532  70648   ??  Ss   Sat11AM   8:06.14 /System/Library/\n",
      "_coreaudiod        351   0.0  0.1  4304868   8348   ??  Ss   Sat11AM   0:00.02 /System/Library/\n",
      "root               350   0.0  0.1  4306592   5132   ??  Ss   Sat11AM   0:00.08 /System/Library/\n",
      "root               347   0.0  0.1  4288276   8600   ??  Ss   Sat11AM   0:00.27 /usr/libexec/the\n",
      "root               341   0.0  0.1  4332308   9028   ??  Ss   Sat11AM   0:00.06 /System/Library/\n",
      "root               340   0.0  0.1  4289232   4216   ??  Ss   Sat11AM   0:00.38 /usr/libexec/wat\n",
      "root               339   0.0  0.1  4306360   4556   ??  Ss   Sat11AM   0:04.25 /System/Library/\n",
      "root               337   0.0  0.1  4333424   5640   ??  Ss   Sat11AM   0:00.42 /System/Library/\n",
      "_atsserver         325   0.0  0.1  4338252   5788   ??  Ss   Sat11AM   0:01.17 /System/Library/\n",
      "root               258   0.0  0.1  4338540  10512   ??  Ss   Sat11AM   0:13.55 /System/Library/\n",
      "root               249   0.0  0.0  4296068    848   ??  Ss   Sat11AM   0:00.14 /usr/sbin/cron\n",
      "_assetcache        242   0.0  0.1  4335124   9644   ??  Ss   Sat11AM   0:00.17 /usr/libexec/Ass\n",
      "root               241   0.0  0.1  4358928   7736   ??  Ss   Sat11AM   0:04.32 /System/Library/\n",
      "_nsurlstoraged     240   0.0  0.1  4305348   6816   ??  Ss   Sat11AM   0:00.45 /usr/libexec/nsu\n",
      "_assetcache        239   0.0  0.1  4338408   7284   ??  Ss   Sat11AM   0:01.14 /System/Library/\n",
      "root               238   0.0  0.1  4334232   8560   ??  Ss   Sat11AM   0:40.24 /usr/libexec/App\n",
      "root               232   0.0  0.2  4346156  13612   ??  Ss   Sat10AM   1:04.66 /usr/libexec/air\n",
      "root               231   0.0  0.1  4331968   6324   ??  Ss   Sat10AM   0:00.09 /System/Library/\n",
      "root               230   0.0  0.0  4304840   4128   ??  Ss   Sat10AM   0:00.03 /usr/libexec/smd\n",
      "root               227   0.0  0.1  4332532   9108   ??  Ss   Sat10AM   0:10.20 /usr/libexec/usb\n",
      "root               226   0.0  0.1  4304660   5032   ??  Ss   Sat10AM   0:00.11 /usr/libexec/apf\n",
      "root               224   0.0  0.1  4296512   8696   ??  Ss   Sat10AM   0:00.08 /System/Library/\n",
      "root               205   0.0  0.1  4332520   8084   ??  Ss   Sat10AM   0:01.00 /System/Library/\n",
      "root               182   0.0  0.1  4332456   5208   ??  Ss   Sat10AM   0:03.15 /usr/sbin/mDNSRe\n",
      "root               178   0.0  0.2  4351956  20360   ??  Ss   Sat10AM   1:04.04 /usr/libexec/sys\n",
      "_mdnsresponder     176   0.0  0.1  4334088   7236   ??  Ss   Sat10AM   0:21.63 /usr/sbin/mDNSRe\n",
      "root               175   0.0  0.1  4354444  10400   ??  Ss   Sat10AM   0:14.59 /usr/libexec/lsd\n",
      "_nsurlsessiond     174   0.0  0.2  4341080  18176   ??  Ss   Sat10AM   0:07.83 /usr/libexec/nsu\n",
      "root               167   0.0  0.2  4364320  18460   ??  Ss   Sat10AM   0:17.22 /usr/libexec/mob\n",
      "_networkd          165   0.0  0.1  4340896  11952   ??  Ss   Sat10AM   0:15.78 /usr/libexec/sym\n",
      "_coreaudiod        164   0.0  0.1  4332020   5852   ??  Ss   Sat10AM   0:00.34 /System/Library/\n",
      "_ctkd              160   0.0  0.1  4306376   8128   ??  Ss   Sat10AM   0:00.04 /System/Library/\n",
      "root               153   0.0  0.1  4305172   8084   ??  Ss   Sat10AM   0:00.03 /System/Library/\n",
      "_coreaudiod        136   0.0  0.1  4313952  12548   ??  Ss   Sat10AM   0:39.55 /usr/sbin/coreau\n",
      "root               134   0.0  0.1  4353960  10768   ??  Ss   Sat10AM   1:15.35 /usr/libexec/tru\n",
      "root               133   0.0  0.1  4333392   7648   ??  Ss   Sat10AM   0:01.93 /usr/libexec/neh\n",
      "root               128   0.0  0.2  4337768  16288   ??  Ss   Sat10AM   0:20.58 /System/Library/\n",
      "root               126   0.0  0.1  4360400   8824   ??  Ss   Sat10AM   0:12.98 /System/Library/\n",
      "root               125   0.0  0.1  4305480   4332   ??  Ss   Sat10AM   0:00.12 aslmanager\n",
      "root               124   0.0  0.1  4335612   8944   ??  Ss   Sat10AM   0:09.59 /System/Library/\n",
      "root               122   0.0  0.1  4337264  11368   ??  Ss   Sat10AM   0:04.84 /usr/libexec/amf\n",
      "root               120   0.0  0.0  4305756   3572   ??  Ss   Sat10AM   0:09.62 /usr/sbin/cfpref\n",
      "_distnote          119   0.0  0.0  4305884   1856   ??  Ss   Sat10AM   0:01.56 /usr/sbin/distno\n",
      "root               118   0.0  0.0  4289004   2268   ??  Ss   Sat10AM   0:26.26 /usr/sbin/notify\n",
      "root               117   0.0  0.1  4335640  11452   ??  Ss   Sat10AM   0:07.35 /usr/libexec/Air\n",
      "root               116   0.0  0.1  4332764  11200   ??  Ss   Sat10AM   0:03.20 /usr/libexec/cor\n",
      "_hidd              114   0.0  0.1  4335280   7656   ??  Ss   Sat10AM   4:31.94 /usr/libexec/hid\n",
      "root               113   0.0  0.1  4335644   9152   ??  Ss   Sat10AM   0:53.52 /usr/sbin/blueto\n",
      "root               111   0.0  0.0  4304836   4140   ??  Ss   Sat10AM   0:00.03 /usr/sbin/Kernel\n",
      "root               110   0.0  0.1  4344128   8516   ??  Ss   Sat10AM   0:01.46 /System/Library/\n",
      "root               109   0.0  0.1  4304792   5240   ??  Ss   Sat10AM   0:00.08 /System/Library/\n",
      "atang148           108   0.0  0.3  4919404  28124   ??  Ss   Sat10AM   0:30.12 /System/Library/\n",
      "root               102   0.0  0.2  4337160  13184   ??  Ss   Sat10AM   0:13.16 /usr/libexec/das\n",
      "_displaypolicyd    100   0.0  0.1  4307848   8764   ??  Ss   Sat10AM   0:00.22 /usr/libexec/dis\n",
      "root                99   0.0  0.1  4304940   4692   ??  Ss   Sat10AM   0:00.04 autofsd\n",
      "_locationd          97   0.0  0.2  4345664  15524   ??  Ss   Sat10AM   0:44.64 /usr/libexec/loc\n",
      "root                94   0.0  0.1  4335368   9472   ??  Ss   Sat10AM   0:14.60 /usr/sbin/securi\n",
      "root                93   0.0  0.1  4288848   4484   ??  Ss   Sat10AM   0:00.04 /Applications/On\n",
      "_timed              91   0.0  0.1  4331572   6756   ??  Ss   Sat10AM   0:01.32 /usr/libexec/tim\n",
      "root                90   0.0  0.1  4338508  11544   ??  Ss   Sat10AM   0:36.15 /System/Library/\n",
      "root                89   0.0  0.1  4332812   6032   ??  Ss   Sat10AM   0:00.34 /System/Library/\n",
      "root                88   0.0  0.1  4279464   4208   ??  Ss   Sat10AM   0:00.02 /Library/Privile\n",
      "root                87   0.0  0.2  4336224  18988   ??  Ss   Sat10AM   0:06.38 /System/Library/\n",
      "root                83   0.0  0.2  4339448  15676   ??  Ss   Sat10AM   0:07.19 /usr/libexec/cor\n",
      "root                82   0.0  0.4  4305700  30072   ??  Ss   Sat10AM   0:00.29 /System/Library/\n",
      "root                78   0.0  0.1  4331388   6684   ??  Ss   Sat10AM   0:13.12 /usr/libexec/dis\n",
      "_iconservices       77   0.0  0.1  4333416   7684   ??  Ss   Sat10AM   0:01.04 /System/Library/\n",
      "root                76   0.0  0.6  4495920  51856   ??  Ss   Sat10AM   8:04.82 /System/Library/\n",
      "root                70   0.0  0.0  4304808   4160   ??  Ss   Sat10AM   0:00.02 /usr/libexec/key\n",
      "root                69   0.0  0.3  4420060  26712   ??  Ss   Sat10AM   0:41.33 /usr/libexec/log\n",
      "root                65   0.0  0.2  4332448  12788   ??  Ss   Sat10AM   0:26.35 /System/Library/\n",
      "root                64   0.0  0.1  4338844   9864   ??  Ss   Sat10AM   0:12.16 /usr/libexec/con\n",
      "root                62   0.0  0.3  4348584  27404   ??  Ss   Sat10AM   0:53.11 /usr/sbin/system\n",
      "_appleevents        61   0.0  0.1  4333868   8100   ??  Ss   Sat10AM   0:01.66 /System/Library/\n",
      "root                58   0.0  0.3  4333840  21744   ??  Ss   Sat10AM   0:01.09 /System/Library/\n",
      "root                56   0.0  0.1  4398276   8252   ??  Ss   Sat10AM   0:46.22 /System/Library/\n",
      "root                55   0.0  0.1  4350724  11640   ??  Ss   Sat10AM   0:58.82 /usr/libexec/kex\n",
      "root                54   0.0  0.1  4296132   4752   ??  Ss   Sat10AM   0:02.33 /System/Library/\n",
      "root                51   0.0  0.2  4333996  17196   ??  Ss   Sat10AM   0:09.70 /usr/libexec/Use\n",
      "root                50   0.0  0.0  4305804    996   ??  Ss   Sat10AM   0:04.86 /usr/sbin/syslog\n",
      "root             23556   0.0  0.0  4277796   1128 s003  Rs+  11:18PM   0:00.01 ps aux\n",
      "root                 1   0.0  0.2  4331844  16352   ??  Ss   Sat10AM   3:52.63 /sbin/launchd\n",
      "atang148         23415   0.0  0.2  4852964  14624   ??  S    11:13PM   0:00.08 /System/Library/\n",
      "atang148         23414   0.0  0.2  4334096  12796   ??  Ss   11:13PM   0:00.07 /Applications/Xc\n",
      "atang148         23412   0.0  0.2  4334096  12832   ??  Ss   11:13PM   0:00.07 /Applications/Xc\n",
      "atang148         23338   0.0  0.5  4311100  45528   ??  Ss   11:11PM   0:01.95 //anaconda3/bin/\n",
      "atang148         23249   0.0  0.2  4332380  16092   ??  S    11:09PM   0:00.14 /System/Library/\n",
      "atang148         23238   0.0  0.0  4285792   1216 s002  S+   11:08PM   0:00.02 info du\n",
      "root             23225   0.0  0.1  4331556   7024   ??  Ss   11:07PM   0:00.04 /usr/sbin/ocspd\n",
      "atang148         23035   0.0  0.2  4355204  16080   ??  S    10:56PM   0:00.20 /System/Library/\n"
     ]
    }
   ],
   "source": [
    "!ps aux"
   ]
  }
 ],
 "metadata": {
  "kernelspec": {
   "display_name": "Python 3",
   "language": "python",
   "name": "python3"
  },
  "language_info": {
   "codemirror_mode": {
    "name": "ipython",
    "version": 3
   },
   "file_extension": ".py",
   "mimetype": "text/x-python",
   "name": "python",
   "nbconvert_exporter": "python",
   "pygments_lexer": "ipython3",
   "version": "3.7.3"
  }
 },
 "nbformat": 4,
 "nbformat_minor": 4
}
