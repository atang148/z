{
 "cells": [
  {
   "cell_type": "code",
   "execution_count": 12,
   "metadata": {},
   "outputs": [
    {
     "name": "stderr",
     "output_type": "stream",
     "text": [
      "studio: nothing appropriate.\n"
     ]
    }
   ],
   "source": [
    "%%bash\n",
    "apropos studio\n",
    "\n"
   ]
  },
  {
   "cell_type": "code",
   "execution_count": 1,
   "metadata": {
    "collapsed": true
   },
   "outputs": [],
   "source": [
    "import os;"
   ]
  },
  {
   "cell_type": "code",
   "execution_count": 2,
   "metadata": {},
   "outputs": [
    {
     "name": "stdout",
     "output_type": "stream",
     "text": [
      " 18:49:17 up 1 day,  6:10,  1 user,  load average: 2.42, 3.37, 3.54\n",
      " 18:49:17 up 1 day,  6:10,  1 user,  load average: 2.42, 3.37, 3.54\n",
      "USER     TTY      FROM             LOGIN@   IDLE   JCPU   PCPU WHAT\n",
      "b4gone   tty7     :0               Fri12   30:09m  6:56   1.02s /sbin/upstart --user\n",
      "b4gone\n",
      "b4gone   tty7         2017-09-15 12:39 (:0)\n",
      "              total        used        free      shared  buff/cache   available\n",
      "Mem:        3638300     1952308      554452      158496     1131540     1200772\n",
      "Swap:       3784700      146264     3638436\n",
      "   September 2017     \n",
      "Su Mo Tu We Th Fr Sa  \n",
      "                1  2  \n",
      " 3  4  5  6  7  8  9  \n",
      "10 11 12 13 14 15 _\b1_\b6  \n",
      "17 18 19 20 21 22 23  \n",
      "24 25 26 27 28 29 30  \n",
      "                      \n",
      "Linux b4gone-HP-Pavilion-g7-Notebook-PC 4.10.0-28-generic #32~16.04.2-Ubuntu SMP Thu Jul 20 10:19:48 UTC 2017 x86_64 x86_64 x86_64 GNU/Linux\n",
      "b4gone-HP-Pavilion-g7-Notebook-PC\n",
      "Filesystem                  1K-blocks     Used Available Use% Mounted on\n",
      "udev                          1796308        0   1796308   0% /dev\n",
      "tmpfs                          363832    10468    353364   3% /run\n",
      "/dev/mapper/ubuntu--vg-root 476369952 19491024 432657644   5% /\n",
      "tmpfs                         1819148    18984   1800164   2% /dev/shm\n",
      "tmpfs                            5120        4      5116   1% /run/lock\n",
      "tmpfs                         1819148        0   1819148   0% /sys/fs/cgroup\n",
      "/dev/loop0                      83456    83456         0 100% /snap/core/2844\n",
      "/dev/loop1                     176640   176640         0 100% /snap/atom/36\n",
      "/dev/sda1                      482922   119242    338746  27% /boot\n",
      "tmpfs                          363832       92    363740   1% /run/user/1000\n"
     ]
    }
   ],
   "source": [
    "%%bash\n",
    "uptime\n",
    "w\n",
    "users\n",
    "who\n",
    "free\n",
    "cal\n",
    "uname -a\n",
    "hostname\n",
    "df"
   ]
  }
 ],
 "metadata": {
  "kernelspec": {
   "display_name": "Python 2",
   "language": "python",
   "name": "python2"
  },
  "language_info": {
   "codemirror_mode": {
    "name": "ipython",
    "version": 2
   },
   "file_extension": ".py",
   "mimetype": "text/x-python",
   "name": "python",
   "nbconvert_exporter": "python",
   "pygments_lexer": "ipython2",
   "version": "2.7.12"
  }
 },
 "nbformat": 4,
 "nbformat_minor": 2
}
