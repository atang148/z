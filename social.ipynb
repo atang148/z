{
 "cells": [
  {
   "cell_type": "markdown",
   "metadata": {},
   "source": [
    "[facebook.com](http://facebook.com)  \n",
    "[instagram.com](http://instagram.com)  \n",
    "[twitter.com](http://twitter.com)  \n",
    "[youtube.com](http://youtube.com)  \n",
    "[instagram.com](http://instagram.com)  \n",
    "[yahoo.com](http://yahoo.com)  \n",
    "[wechat.com](http://wechat.com)  \n",
    "[seekingalpha.com](http://seekingalpha.com)  \n",
    "[protonmail.com](http://protonmail.com)  \n",
    "\n"
   ]
  },
  {
   "cell_type": "markdown",
   "metadata": {},
   "source": [
    "[bankofamerica.com](https://bankofamerica.com)  \n",
    "[https://online.citi.com](https://online.citi.com)  \n"
   ]
  }
 ],
 "metadata": {
  "kernelspec": {
   "display_name": "Python 3",
   "language": "python",
   "name": "python3"
  },
  "language_info": {
   "codemirror_mode": {
    "name": "ipython",
    "version": 3
   },
   "file_extension": ".py",
   "mimetype": "text/x-python",
   "name": "python",
   "nbconvert_exporter": "python",
   "pygments_lexer": "ipython3",
   "version": "3.7.3"
  }
 },
 "nbformat": 4,
 "nbformat_minor": 4
}
