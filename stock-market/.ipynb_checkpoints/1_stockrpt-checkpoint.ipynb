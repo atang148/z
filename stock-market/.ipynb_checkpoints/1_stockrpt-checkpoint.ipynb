{
 "cells": [
  {
   "cell_type": "code",
   "execution_count": 1,
   "metadata": {},
   "outputs": [
    {
     "name": "stdout",
     "output_type": "stream",
     "text": [
      "/home/b4gone/.local/lib/python2.7/site-packages/pip/_vendor/requests/__init__.py:83: RequestsDependencyWarning: Old version of cryptography ([1, 2, 3]) may cause slowdown.\n",
      "  warnings.warn(warning, RequestsDependencyWarning)\n",
      "Collecting datetime\n",
      "  Using cached https://files.pythonhosted.org/packages/0d/db/511934e34360fe0cfe91fc58483b25d8a9c516264ff2877dadb11a0612cd/DateTime-4.2-py2.py3-none-any.whl\n",
      "Requirement already satisfied, skipping upgrade: pytz in /usr/lib/python2.7/dist-packages (from datetime) (2014.10)\n",
      "Requirement already satisfied, skipping upgrade: zope.interface in /usr/lib/python2.7/dist-packages (from datetime) (4.1.3)\n",
      "Installing collected packages: datetime\n",
      "Successfully installed datetime-4.2\n"
     ]
    }
   ],
   "source": [
    "!pip install --upgrade datetime --user"
   ]
  },
  {
   "cell_type": "code",
   "execution_count": null,
   "metadata": {},
   "outputs": [],
   "source": [
    "!xed ~/Dropbox/py/stock_inc.py "
   ]
  },
  {
   "cell_type": "code",
   "execution_count": 2,
   "metadata": {},
   "outputs": [
    {
     "data": {
      "text/plain": [
       "'USE_20180102'"
      ]
     },
     "metadata": {},
     "output_type": "display_data"
    },
    {
     "data": {
      "text/plain": [
       "'USE_20180402'"
      ]
     },
     "metadata": {},
     "output_type": "display_data"
    },
    {
     "data": {
      "text/plain": [
       "'USE_20180601'"
      ]
     },
     "metadata": {},
     "output_type": "display_data"
    },
    {
     "data": {
      "text/plain": [
       "'USE_20180201'"
      ]
     },
     "metadata": {},
     "output_type": "display_data"
    },
    {
     "data": {
      "text/plain": [
       "'USE_20180501'"
      ]
     },
     "metadata": {},
     "output_type": "display_data"
    },
    {
     "data": {
      "text/plain": [
       "'USE_20180301'"
      ]
     },
     "metadata": {},
     "output_type": "display_data"
    }
   ],
   "source": [
    "%run ~/Dropbox/py/stock_inc.py \n",
    "do_filesearch(srchtxt='/home/b4gone/Dropbox/txt/USE_*.txt')"
   ]
  },
  {
   "cell_type": "code",
   "execution_count": null,
   "metadata": {},
   "outputs": [],
   "source": [
    "do_filesearch(srchtxt='/home/b4gone/U64/data/*.psv',xx_sep=\"|\")"
   ]
  },
  {
   "cell_type": "code",
   "execution_count": null,
   "metadata": {},
   "outputs": [],
   "source": [
    "do_filesearch(srchtxt='/home/b4gone/U64/data/*.csv',xx_sep=\",\")"
   ]
  },
  {
   "cell_type": "code",
   "execution_count": 3,
   "metadata": {},
   "outputs": [
    {
     "data": {
      "text/plain": [
       "'options'"
      ]
     },
     "metadata": {},
     "output_type": "display_data"
    },
    {
     "name": "stderr",
     "output_type": "stream",
     "text": [
      "/home/b4gone/.local/lib/python3.5/site-packages/pandas/core/generic.py:1534: UserWarning: The spaces in these column names will not be changed. In pandas versions < 0.14, spaces were converted to underscores.\n",
      "  chunksize=chunksize, dtype=dtype)\n"
     ]
    },
    {
     "data": {
      "text/plain": [
       "'(1)'"
      ]
     },
     "metadata": {},
     "output_type": "display_data"
    },
    {
     "data": {
      "text/plain": [
       "'nasdaqtraded'"
      ]
     },
     "metadata": {},
     "output_type": "display_data"
    },
    {
     "data": {
      "text/plain": [
       "'TradingSystemAddsDeletes'"
      ]
     },
     "metadata": {},
     "output_type": "display_data"
    },
    {
     "data": {
      "text/plain": [
       "'webl16'"
      ]
     },
     "metadata": {},
     "output_type": "display_data"
    },
    {
     "data": {
      "text/plain": [
       "'bxoptions'"
      ]
     },
     "metadata": {},
     "output_type": "display_data"
    },
    {
     "data": {
      "text/plain": [
       "'otherlisted'"
      ]
     },
     "metadata": {},
     "output_type": "display_data"
    },
    {
     "data": {
      "text/plain": [
       "'psxtraded'"
      ]
     },
     "metadata": {},
     "output_type": "display_data"
    },
    {
     "data": {
      "text/plain": [
       "'(3)'"
      ]
     },
     "metadata": {},
     "output_type": "display_data"
    },
    {
     "ename": "ParserError",
     "evalue": "Error tokenizing data. C error: Expected 18 fields in line 286296, saw 20\n",
     "output_type": "error",
     "traceback": [
      "\u001b[0;31m---------------------------------------------------------------------------\u001b[0m",
      "\u001b[0;31mParserError\u001b[0m                               Traceback (most recent call last)",
      "\u001b[0;32m<ipython-input-3-991126416d76>\u001b[0m in \u001b[0;36m<module>\u001b[0;34m()\u001b[0m\n\u001b[0;32m----> 1\u001b[0;31m \u001b[0mdo_filesearch\u001b[0m\u001b[0;34m(\u001b[0m\u001b[0msrchtxt\u001b[0m\u001b[0;34m=\u001b[0m\u001b[0;34m'/home/b4gone/U64/data/*.psv'\u001b[0m\u001b[0;34m,\u001b[0m\u001b[0mxx_sep\u001b[0m\u001b[0;34m=\u001b[0m\u001b[0;34m\"|\"\u001b[0m\u001b[0;34m)\u001b[0m\u001b[0;34m\u001b[0m\u001b[0m\n\u001b[0m",
      "\u001b[0;32m~/Dropbox/py/stock_inc.py\u001b[0m in \u001b[0;36mdo_filesearch\u001b[0;34m(srchtxt, xx_sep)\u001b[0m\n\u001b[1;32m     92\u001b[0m     \u001b[0;32mfor\u001b[0m \u001b[0mname\u001b[0m \u001b[0;32min\u001b[0m \u001b[0mglob\u001b[0m\u001b[0;34m.\u001b[0m\u001b[0mglob\u001b[0m\u001b[0;34m(\u001b[0m\u001b[0msrchtxt\u001b[0m\u001b[0;34m)\u001b[0m\u001b[0;34m:\u001b[0m\u001b[0;34m\u001b[0m\u001b[0m\n\u001b[1;32m     93\u001b[0m         \u001b[0mdisplay\u001b[0m\u001b[0;34m(\u001b[0m\u001b[0mos\u001b[0m\u001b[0;34m.\u001b[0m\u001b[0mpath\u001b[0m\u001b[0;34m.\u001b[0m\u001b[0mbasename\u001b[0m\u001b[0;34m(\u001b[0m\u001b[0mname\u001b[0m\u001b[0;34m)\u001b[0m\u001b[0;34m.\u001b[0m\u001b[0msplit\u001b[0m\u001b[0;34m(\u001b[0m\u001b[0;34m'.'\u001b[0m\u001b[0;34m)\u001b[0m\u001b[0;34m[\u001b[0m\u001b[0;36m0\u001b[0m\u001b[0;34m]\u001b[0m\u001b[0;34m)\u001b[0m\u001b[0;34m\u001b[0m\u001b[0m\n\u001b[0;32m---> 94\u001b[0;31m         \u001b[0mdo_import_one\u001b[0m\u001b[0;34m(\u001b[0m\u001b[0mnm\u001b[0m\u001b[0;34m=\u001b[0m\u001b[0mos\u001b[0m\u001b[0;34m.\u001b[0m\u001b[0mpath\u001b[0m\u001b[0;34m.\u001b[0m\u001b[0mbasename\u001b[0m\u001b[0;34m(\u001b[0m\u001b[0mname\u001b[0m\u001b[0;34m)\u001b[0m\u001b[0;34m.\u001b[0m\u001b[0msplit\u001b[0m\u001b[0;34m(\u001b[0m\u001b[0;34m'.'\u001b[0m\u001b[0;34m)\u001b[0m\u001b[0;34m[\u001b[0m\u001b[0;36m0\u001b[0m\u001b[0;34m]\u001b[0m\u001b[0;34m,\u001b[0m\u001b[0mfullname\u001b[0m\u001b[0;34m=\u001b[0m\u001b[0mname\u001b[0m\u001b[0;34m,\u001b[0m\u001b[0mxx_sep\u001b[0m\u001b[0;34m=\u001b[0m\u001b[0mxx_sep\u001b[0m\u001b[0;34m)\u001b[0m\u001b[0;34m\u001b[0m\u001b[0m\n\u001b[0m\u001b[1;32m     95\u001b[0m \u001b[0;34m\u001b[0m\u001b[0m\n\u001b[1;32m     96\u001b[0m \u001b[0;31m# df_fetch_one=df_fetch_one.ix[df_fetch_one['Date'] > '2018-06-01']\u001b[0m\u001b[0;34m\u001b[0m\u001b[0;34m\u001b[0m\u001b[0m\n",
      "\u001b[0;32m~/Dropbox/py/stock_inc.py\u001b[0m in \u001b[0;36mdo_import_one\u001b[0;34m(nm, fullname, xx_sep)\u001b[0m\n\u001b[1;32m     86\u001b[0m \u001b[0;32mdef\u001b[0m \u001b[0mdo_import_one\u001b[0m\u001b[0;34m(\u001b[0m\u001b[0mnm\u001b[0m\u001b[0;34m=\u001b[0m\u001b[0;34m'commercial'\u001b[0m\u001b[0;34m,\u001b[0m\u001b[0mfullname\u001b[0m\u001b[0;34m=\u001b[0m\u001b[0;34m'fullname'\u001b[0m\u001b[0;34m,\u001b[0m\u001b[0mxx_sep\u001b[0m\u001b[0;34m=\u001b[0m\u001b[0;34m\",\"\u001b[0m\u001b[0;34m)\u001b[0m\u001b[0;34m:\u001b[0m\u001b[0;34m\u001b[0m\u001b[0m\n\u001b[1;32m     87\u001b[0m     \u001b[0mnm\u001b[0m\u001b[0;34m=\u001b[0m\u001b[0mnm\u001b[0m\u001b[0;34m.\u001b[0m\u001b[0mlower\u001b[0m\u001b[0;34m(\u001b[0m\u001b[0;34m)\u001b[0m\u001b[0;34m\u001b[0m\u001b[0m\n\u001b[0;32m---> 88\u001b[0;31m     \u001b[0mdf\u001b[0m \u001b[0;34m=\u001b[0m\u001b[0mpd\u001b[0m\u001b[0;34m.\u001b[0m\u001b[0mread_csv\u001b[0m\u001b[0;34m(\u001b[0m\u001b[0mfullname\u001b[0m\u001b[0;34m,\u001b[0m\u001b[0msep\u001b[0m\u001b[0;34m=\u001b[0m\u001b[0mxx_sep\u001b[0m\u001b[0;34m)\u001b[0m\u001b[0;34m\u001b[0m\u001b[0m\n\u001b[0m\u001b[1;32m     89\u001b[0m     \u001b[0mdf\u001b[0m\u001b[0;34m.\u001b[0m\u001b[0mto_sql\u001b[0m\u001b[0;34m(\u001b[0m\u001b[0mnm\u001b[0m\u001b[0;34m,\u001b[0m \u001b[0msqlitedb\u001b[0m\u001b[0;34m,\u001b[0m \u001b[0mif_exists\u001b[0m\u001b[0;34m=\u001b[0m\u001b[0;34m\"replace\"\u001b[0m\u001b[0;34m)\u001b[0m\u001b[0;34m\u001b[0m\u001b[0m\n\u001b[1;32m     90\u001b[0m \u001b[0;34m\u001b[0m\u001b[0m\n",
      "\u001b[0;32m~/.local/lib/python3.5/site-packages/pandas/io/parsers.py\u001b[0m in \u001b[0;36mparser_f\u001b[0;34m(filepath_or_buffer, sep, delimiter, header, names, index_col, usecols, squeeze, prefix, mangle_dupe_cols, dtype, engine, converters, true_values, false_values, skipinitialspace, skiprows, nrows, na_values, keep_default_na, na_filter, verbose, skip_blank_lines, parse_dates, infer_datetime_format, keep_date_col, date_parser, dayfirst, iterator, chunksize, compression, thousands, decimal, lineterminator, quotechar, quoting, escapechar, comment, encoding, dialect, tupleize_cols, error_bad_lines, warn_bad_lines, skipfooter, skip_footer, doublequote, delim_whitespace, as_recarray, compact_ints, use_unsigned, low_memory, buffer_lines, memory_map, float_precision)\u001b[0m\n\u001b[1;32m    707\u001b[0m                     skip_blank_lines=skip_blank_lines)\n\u001b[1;32m    708\u001b[0m \u001b[0;34m\u001b[0m\u001b[0m\n\u001b[0;32m--> 709\u001b[0;31m         \u001b[0;32mreturn\u001b[0m \u001b[0m_read\u001b[0m\u001b[0;34m(\u001b[0m\u001b[0mfilepath_or_buffer\u001b[0m\u001b[0;34m,\u001b[0m \u001b[0mkwds\u001b[0m\u001b[0;34m)\u001b[0m\u001b[0;34m\u001b[0m\u001b[0m\n\u001b[0m\u001b[1;32m    710\u001b[0m \u001b[0;34m\u001b[0m\u001b[0m\n\u001b[1;32m    711\u001b[0m     \u001b[0mparser_f\u001b[0m\u001b[0;34m.\u001b[0m\u001b[0m__name__\u001b[0m \u001b[0;34m=\u001b[0m \u001b[0mname\u001b[0m\u001b[0;34m\u001b[0m\u001b[0m\n",
      "\u001b[0;32m~/.local/lib/python3.5/site-packages/pandas/io/parsers.py\u001b[0m in \u001b[0;36m_read\u001b[0;34m(filepath_or_buffer, kwds)\u001b[0m\n\u001b[1;32m    453\u001b[0m \u001b[0;34m\u001b[0m\u001b[0m\n\u001b[1;32m    454\u001b[0m     \u001b[0;32mtry\u001b[0m\u001b[0;34m:\u001b[0m\u001b[0;34m\u001b[0m\u001b[0m\n\u001b[0;32m--> 455\u001b[0;31m         \u001b[0mdata\u001b[0m \u001b[0;34m=\u001b[0m \u001b[0mparser\u001b[0m\u001b[0;34m.\u001b[0m\u001b[0mread\u001b[0m\u001b[0;34m(\u001b[0m\u001b[0mnrows\u001b[0m\u001b[0;34m)\u001b[0m\u001b[0;34m\u001b[0m\u001b[0m\n\u001b[0m\u001b[1;32m    456\u001b[0m     \u001b[0;32mfinally\u001b[0m\u001b[0;34m:\u001b[0m\u001b[0;34m\u001b[0m\u001b[0m\n\u001b[1;32m    457\u001b[0m         \u001b[0mparser\u001b[0m\u001b[0;34m.\u001b[0m\u001b[0mclose\u001b[0m\u001b[0;34m(\u001b[0m\u001b[0;34m)\u001b[0m\u001b[0;34m\u001b[0m\u001b[0m\n",
      "\u001b[0;32m~/.local/lib/python3.5/site-packages/pandas/io/parsers.py\u001b[0m in \u001b[0;36mread\u001b[0;34m(self, nrows)\u001b[0m\n\u001b[1;32m   1067\u001b[0m                 \u001b[0;32mraise\u001b[0m \u001b[0mValueError\u001b[0m\u001b[0;34m(\u001b[0m\u001b[0;34m'skipfooter not supported for iteration'\u001b[0m\u001b[0;34m)\u001b[0m\u001b[0;34m\u001b[0m\u001b[0m\n\u001b[1;32m   1068\u001b[0m \u001b[0;34m\u001b[0m\u001b[0m\n\u001b[0;32m-> 1069\u001b[0;31m         \u001b[0mret\u001b[0m \u001b[0;34m=\u001b[0m \u001b[0mself\u001b[0m\u001b[0;34m.\u001b[0m\u001b[0m_engine\u001b[0m\u001b[0;34m.\u001b[0m\u001b[0mread\u001b[0m\u001b[0;34m(\u001b[0m\u001b[0mnrows\u001b[0m\u001b[0;34m)\u001b[0m\u001b[0;34m\u001b[0m\u001b[0m\n\u001b[0m\u001b[1;32m   1070\u001b[0m \u001b[0;34m\u001b[0m\u001b[0m\n\u001b[1;32m   1071\u001b[0m         \u001b[0;32mif\u001b[0m \u001b[0mself\u001b[0m\u001b[0;34m.\u001b[0m\u001b[0moptions\u001b[0m\u001b[0;34m.\u001b[0m\u001b[0mget\u001b[0m\u001b[0;34m(\u001b[0m\u001b[0;34m'as_recarray'\u001b[0m\u001b[0;34m)\u001b[0m\u001b[0;34m:\u001b[0m\u001b[0;34m\u001b[0m\u001b[0m\n",
      "\u001b[0;32m~/.local/lib/python3.5/site-packages/pandas/io/parsers.py\u001b[0m in \u001b[0;36mread\u001b[0;34m(self, nrows)\u001b[0m\n\u001b[1;32m   1837\u001b[0m     \u001b[0;32mdef\u001b[0m \u001b[0mread\u001b[0m\u001b[0;34m(\u001b[0m\u001b[0mself\u001b[0m\u001b[0;34m,\u001b[0m \u001b[0mnrows\u001b[0m\u001b[0;34m=\u001b[0m\u001b[0;32mNone\u001b[0m\u001b[0;34m)\u001b[0m\u001b[0;34m:\u001b[0m\u001b[0;34m\u001b[0m\u001b[0m\n\u001b[1;32m   1838\u001b[0m         \u001b[0;32mtry\u001b[0m\u001b[0;34m:\u001b[0m\u001b[0;34m\u001b[0m\u001b[0m\n\u001b[0;32m-> 1839\u001b[0;31m             \u001b[0mdata\u001b[0m \u001b[0;34m=\u001b[0m \u001b[0mself\u001b[0m\u001b[0;34m.\u001b[0m\u001b[0m_reader\u001b[0m\u001b[0;34m.\u001b[0m\u001b[0mread\u001b[0m\u001b[0;34m(\u001b[0m\u001b[0mnrows\u001b[0m\u001b[0;34m)\u001b[0m\u001b[0;34m\u001b[0m\u001b[0m\n\u001b[0m\u001b[1;32m   1840\u001b[0m         \u001b[0;32mexcept\u001b[0m \u001b[0mStopIteration\u001b[0m\u001b[0;34m:\u001b[0m\u001b[0;34m\u001b[0m\u001b[0m\n\u001b[1;32m   1841\u001b[0m             \u001b[0;32mif\u001b[0m \u001b[0mself\u001b[0m\u001b[0;34m.\u001b[0m\u001b[0m_first_chunk\u001b[0m\u001b[0;34m:\u001b[0m\u001b[0;34m\u001b[0m\u001b[0m\n",
      "\u001b[0;32mpandas/_libs/parsers.pyx\u001b[0m in \u001b[0;36mpandas._libs.parsers.TextReader.read\u001b[0;34m()\u001b[0m\n",
      "\u001b[0;32mpandas/_libs/parsers.pyx\u001b[0m in \u001b[0;36mpandas._libs.parsers.TextReader._read_low_memory\u001b[0;34m()\u001b[0m\n",
      "\u001b[0;32mpandas/_libs/parsers.pyx\u001b[0m in \u001b[0;36mpandas._libs.parsers.TextReader._read_rows\u001b[0;34m()\u001b[0m\n",
      "\u001b[0;32mpandas/_libs/parsers.pyx\u001b[0m in \u001b[0;36mpandas._libs.parsers.TextReader._tokenize_rows\u001b[0;34m()\u001b[0m\n",
      "\u001b[0;32mpandas/_libs/parsers.pyx\u001b[0m in \u001b[0;36mpandas._libs.parsers.raise_parser_error\u001b[0;34m()\u001b[0m\n",
      "\u001b[0;31mParserError\u001b[0m: Error tokenizing data. C error: Expected 18 fields in line 286296, saw 20\n"
     ]
    }
   ],
   "source": [
    "do_filesearch(srchtxt='/home/b4gone/U64/data/*.psv',xx_sep=\"|\")"
   ]
  },
  {
   "cell_type": "code",
   "execution_count": 48,
   "metadata": {},
   "outputs": [
    {
     "data": {
      "text/plain": [
       "'wuss'"
      ]
     },
     "metadata": {},
     "output_type": "display_data"
    },
    {
     "data": {
      "text/plain": [
       "'wuss(2)'"
      ]
     },
     "metadata": {},
     "output_type": "display_data"
    },
    {
     "data": {
      "text/plain": [
       "'APATheatreGuildYearEndBanquet2017_1'"
      ]
     },
     "metadata": {},
     "output_type": "display_data"
    },
    {
     "ename": "ParserError",
     "evalue": "Error tokenizing data. C error: Expected 2 fields in line 6, saw 4\n",
     "output_type": "error",
     "traceback": [
      "\u001b[0;31m---------------------------------------------------------------------------\u001b[0m",
      "\u001b[0;31mParserError\u001b[0m                               Traceback (most recent call last)",
      "\u001b[0;32m<ipython-input-48-a7be7ba06008>\u001b[0m in \u001b[0;36m<module>\u001b[0;34m()\u001b[0m\n\u001b[0;32m----> 1\u001b[0;31m \u001b[0mdo_filesearch\u001b[0m\u001b[0;34m(\u001b[0m\u001b[0msrchtxt\u001b[0m\u001b[0;34m=\u001b[0m\u001b[0;34m'/home/b4gone/U64/data/*.ics'\u001b[0m\u001b[0;34m,\u001b[0m\u001b[0mxx_sep\u001b[0m\u001b[0;34m=\u001b[0m\u001b[0;34m\":\"\u001b[0m\u001b[0;34m)\u001b[0m\u001b[0;34m\u001b[0m\u001b[0m\n\u001b[0m",
      "\u001b[0;32m~/Dropbox/py/stock_inc.py\u001b[0m in \u001b[0;36mdo_filesearch\u001b[0;34m(srchtxt, xx_sep)\u001b[0m\n\u001b[1;32m     92\u001b[0m     \u001b[0;32mfor\u001b[0m \u001b[0mname\u001b[0m \u001b[0;32min\u001b[0m \u001b[0mglob\u001b[0m\u001b[0;34m.\u001b[0m\u001b[0mglob\u001b[0m\u001b[0;34m(\u001b[0m\u001b[0msrchtxt\u001b[0m\u001b[0;34m)\u001b[0m\u001b[0;34m:\u001b[0m\u001b[0;34m\u001b[0m\u001b[0m\n\u001b[1;32m     93\u001b[0m         \u001b[0mdisplay\u001b[0m\u001b[0;34m(\u001b[0m\u001b[0mos\u001b[0m\u001b[0;34m.\u001b[0m\u001b[0mpath\u001b[0m\u001b[0;34m.\u001b[0m\u001b[0mbasename\u001b[0m\u001b[0;34m(\u001b[0m\u001b[0mname\u001b[0m\u001b[0;34m)\u001b[0m\u001b[0;34m.\u001b[0m\u001b[0msplit\u001b[0m\u001b[0;34m(\u001b[0m\u001b[0;34m'.'\u001b[0m\u001b[0;34m)\u001b[0m\u001b[0;34m[\u001b[0m\u001b[0;36m0\u001b[0m\u001b[0;34m]\u001b[0m\u001b[0;34m)\u001b[0m\u001b[0;34m\u001b[0m\u001b[0m\n\u001b[0;32m---> 94\u001b[0;31m         \u001b[0mdo_import_one\u001b[0m\u001b[0;34m(\u001b[0m\u001b[0mnm\u001b[0m\u001b[0;34m=\u001b[0m\u001b[0mos\u001b[0m\u001b[0;34m.\u001b[0m\u001b[0mpath\u001b[0m\u001b[0;34m.\u001b[0m\u001b[0mbasename\u001b[0m\u001b[0;34m(\u001b[0m\u001b[0mname\u001b[0m\u001b[0;34m)\u001b[0m\u001b[0;34m.\u001b[0m\u001b[0msplit\u001b[0m\u001b[0;34m(\u001b[0m\u001b[0;34m'.'\u001b[0m\u001b[0;34m)\u001b[0m\u001b[0;34m[\u001b[0m\u001b[0;36m0\u001b[0m\u001b[0;34m]\u001b[0m\u001b[0;34m,\u001b[0m\u001b[0mfullname\u001b[0m\u001b[0;34m=\u001b[0m\u001b[0mname\u001b[0m\u001b[0;34m,\u001b[0m\u001b[0mxx_sep\u001b[0m\u001b[0;34m=\u001b[0m\u001b[0mxx_sep\u001b[0m\u001b[0;34m)\u001b[0m\u001b[0;34m\u001b[0m\u001b[0m\n\u001b[0m\u001b[1;32m     95\u001b[0m \u001b[0;34m\u001b[0m\u001b[0m\n\u001b[1;32m     96\u001b[0m \u001b[0;31m# df_fetch_one=df_fetch_one.ix[df_fetch_one['Date'] > '2018-06-01']\u001b[0m\u001b[0;34m\u001b[0m\u001b[0;34m\u001b[0m\u001b[0m\n",
      "\u001b[0;32m~/Dropbox/py/stock_inc.py\u001b[0m in \u001b[0;36mdo_import_one\u001b[0;34m(nm, fullname, xx_sep)\u001b[0m\n\u001b[1;32m     86\u001b[0m \u001b[0;32mdef\u001b[0m \u001b[0mdo_import_one\u001b[0m\u001b[0;34m(\u001b[0m\u001b[0mnm\u001b[0m\u001b[0;34m=\u001b[0m\u001b[0;34m'commercial'\u001b[0m\u001b[0;34m,\u001b[0m\u001b[0mfullname\u001b[0m\u001b[0;34m=\u001b[0m\u001b[0;34m'fullname'\u001b[0m\u001b[0;34m,\u001b[0m\u001b[0mxx_sep\u001b[0m\u001b[0;34m=\u001b[0m\u001b[0;34m\",\"\u001b[0m\u001b[0;34m)\u001b[0m\u001b[0;34m:\u001b[0m\u001b[0;34m\u001b[0m\u001b[0m\n\u001b[1;32m     87\u001b[0m     \u001b[0mnm\u001b[0m\u001b[0;34m=\u001b[0m\u001b[0mnm\u001b[0m\u001b[0;34m.\u001b[0m\u001b[0mlower\u001b[0m\u001b[0;34m(\u001b[0m\u001b[0;34m)\u001b[0m\u001b[0;34m\u001b[0m\u001b[0m\n\u001b[0;32m---> 88\u001b[0;31m     \u001b[0mdf\u001b[0m \u001b[0;34m=\u001b[0m\u001b[0mpd\u001b[0m\u001b[0;34m.\u001b[0m\u001b[0mread_csv\u001b[0m\u001b[0;34m(\u001b[0m\u001b[0mfullname\u001b[0m\u001b[0;34m,\u001b[0m\u001b[0msep\u001b[0m\u001b[0;34m=\u001b[0m\u001b[0mxx_sep\u001b[0m\u001b[0;34m)\u001b[0m\u001b[0;34m\u001b[0m\u001b[0m\n\u001b[0m\u001b[1;32m     89\u001b[0m     \u001b[0mdf\u001b[0m\u001b[0;34m.\u001b[0m\u001b[0mto_sql\u001b[0m\u001b[0;34m(\u001b[0m\u001b[0mnm\u001b[0m\u001b[0;34m,\u001b[0m \u001b[0msqlitedb\u001b[0m\u001b[0;34m,\u001b[0m \u001b[0mif_exists\u001b[0m\u001b[0;34m=\u001b[0m\u001b[0;34m\"replace\"\u001b[0m\u001b[0;34m)\u001b[0m\u001b[0;34m\u001b[0m\u001b[0m\n\u001b[1;32m     90\u001b[0m \u001b[0;34m\u001b[0m\u001b[0m\n",
      "\u001b[0;32m~/.local/lib/python3.5/site-packages/pandas/io/parsers.py\u001b[0m in \u001b[0;36mparser_f\u001b[0;34m(filepath_or_buffer, sep, delimiter, header, names, index_col, usecols, squeeze, prefix, mangle_dupe_cols, dtype, engine, converters, true_values, false_values, skipinitialspace, skiprows, nrows, na_values, keep_default_na, na_filter, verbose, skip_blank_lines, parse_dates, infer_datetime_format, keep_date_col, date_parser, dayfirst, iterator, chunksize, compression, thousands, decimal, lineterminator, quotechar, quoting, escapechar, comment, encoding, dialect, tupleize_cols, error_bad_lines, warn_bad_lines, skipfooter, skip_footer, doublequote, delim_whitespace, as_recarray, compact_ints, use_unsigned, low_memory, buffer_lines, memory_map, float_precision)\u001b[0m\n\u001b[1;32m    707\u001b[0m                     skip_blank_lines=skip_blank_lines)\n\u001b[1;32m    708\u001b[0m \u001b[0;34m\u001b[0m\u001b[0m\n\u001b[0;32m--> 709\u001b[0;31m         \u001b[0;32mreturn\u001b[0m \u001b[0m_read\u001b[0m\u001b[0;34m(\u001b[0m\u001b[0mfilepath_or_buffer\u001b[0m\u001b[0;34m,\u001b[0m \u001b[0mkwds\u001b[0m\u001b[0;34m)\u001b[0m\u001b[0;34m\u001b[0m\u001b[0m\n\u001b[0m\u001b[1;32m    710\u001b[0m \u001b[0;34m\u001b[0m\u001b[0m\n\u001b[1;32m    711\u001b[0m     \u001b[0mparser_f\u001b[0m\u001b[0;34m.\u001b[0m\u001b[0m__name__\u001b[0m \u001b[0;34m=\u001b[0m \u001b[0mname\u001b[0m\u001b[0;34m\u001b[0m\u001b[0m\n",
      "\u001b[0;32m~/.local/lib/python3.5/site-packages/pandas/io/parsers.py\u001b[0m in \u001b[0;36m_read\u001b[0;34m(filepath_or_buffer, kwds)\u001b[0m\n\u001b[1;32m    453\u001b[0m \u001b[0;34m\u001b[0m\u001b[0m\n\u001b[1;32m    454\u001b[0m     \u001b[0;32mtry\u001b[0m\u001b[0;34m:\u001b[0m\u001b[0;34m\u001b[0m\u001b[0m\n\u001b[0;32m--> 455\u001b[0;31m         \u001b[0mdata\u001b[0m \u001b[0;34m=\u001b[0m \u001b[0mparser\u001b[0m\u001b[0;34m.\u001b[0m\u001b[0mread\u001b[0m\u001b[0;34m(\u001b[0m\u001b[0mnrows\u001b[0m\u001b[0;34m)\u001b[0m\u001b[0;34m\u001b[0m\u001b[0m\n\u001b[0m\u001b[1;32m    456\u001b[0m     \u001b[0;32mfinally\u001b[0m\u001b[0;34m:\u001b[0m\u001b[0;34m\u001b[0m\u001b[0m\n\u001b[1;32m    457\u001b[0m         \u001b[0mparser\u001b[0m\u001b[0;34m.\u001b[0m\u001b[0mclose\u001b[0m\u001b[0;34m(\u001b[0m\u001b[0;34m)\u001b[0m\u001b[0;34m\u001b[0m\u001b[0m\n",
      "\u001b[0;32m~/.local/lib/python3.5/site-packages/pandas/io/parsers.py\u001b[0m in \u001b[0;36mread\u001b[0;34m(self, nrows)\u001b[0m\n\u001b[1;32m   1067\u001b[0m                 \u001b[0;32mraise\u001b[0m \u001b[0mValueError\u001b[0m\u001b[0;34m(\u001b[0m\u001b[0;34m'skipfooter not supported for iteration'\u001b[0m\u001b[0;34m)\u001b[0m\u001b[0;34m\u001b[0m\u001b[0m\n\u001b[1;32m   1068\u001b[0m \u001b[0;34m\u001b[0m\u001b[0m\n\u001b[0;32m-> 1069\u001b[0;31m         \u001b[0mret\u001b[0m \u001b[0;34m=\u001b[0m \u001b[0mself\u001b[0m\u001b[0;34m.\u001b[0m\u001b[0m_engine\u001b[0m\u001b[0;34m.\u001b[0m\u001b[0mread\u001b[0m\u001b[0;34m(\u001b[0m\u001b[0mnrows\u001b[0m\u001b[0;34m)\u001b[0m\u001b[0;34m\u001b[0m\u001b[0m\n\u001b[0m\u001b[1;32m   1070\u001b[0m \u001b[0;34m\u001b[0m\u001b[0m\n\u001b[1;32m   1071\u001b[0m         \u001b[0;32mif\u001b[0m \u001b[0mself\u001b[0m\u001b[0;34m.\u001b[0m\u001b[0moptions\u001b[0m\u001b[0;34m.\u001b[0m\u001b[0mget\u001b[0m\u001b[0;34m(\u001b[0m\u001b[0;34m'as_recarray'\u001b[0m\u001b[0;34m)\u001b[0m\u001b[0;34m:\u001b[0m\u001b[0;34m\u001b[0m\u001b[0m\n",
      "\u001b[0;32m~/.local/lib/python3.5/site-packages/pandas/io/parsers.py\u001b[0m in \u001b[0;36mread\u001b[0;34m(self, nrows)\u001b[0m\n\u001b[1;32m   1837\u001b[0m     \u001b[0;32mdef\u001b[0m \u001b[0mread\u001b[0m\u001b[0;34m(\u001b[0m\u001b[0mself\u001b[0m\u001b[0;34m,\u001b[0m \u001b[0mnrows\u001b[0m\u001b[0;34m=\u001b[0m\u001b[0;32mNone\u001b[0m\u001b[0;34m)\u001b[0m\u001b[0;34m:\u001b[0m\u001b[0;34m\u001b[0m\u001b[0m\n\u001b[1;32m   1838\u001b[0m         \u001b[0;32mtry\u001b[0m\u001b[0;34m:\u001b[0m\u001b[0;34m\u001b[0m\u001b[0m\n\u001b[0;32m-> 1839\u001b[0;31m             \u001b[0mdata\u001b[0m \u001b[0;34m=\u001b[0m \u001b[0mself\u001b[0m\u001b[0;34m.\u001b[0m\u001b[0m_reader\u001b[0m\u001b[0;34m.\u001b[0m\u001b[0mread\u001b[0m\u001b[0;34m(\u001b[0m\u001b[0mnrows\u001b[0m\u001b[0;34m)\u001b[0m\u001b[0;34m\u001b[0m\u001b[0m\n\u001b[0m\u001b[1;32m   1840\u001b[0m         \u001b[0;32mexcept\u001b[0m \u001b[0mStopIteration\u001b[0m\u001b[0;34m:\u001b[0m\u001b[0;34m\u001b[0m\u001b[0m\n\u001b[1;32m   1841\u001b[0m             \u001b[0;32mif\u001b[0m \u001b[0mself\u001b[0m\u001b[0;34m.\u001b[0m\u001b[0m_first_chunk\u001b[0m\u001b[0;34m:\u001b[0m\u001b[0;34m\u001b[0m\u001b[0m\n",
      "\u001b[0;32mpandas/_libs/parsers.pyx\u001b[0m in \u001b[0;36mpandas._libs.parsers.TextReader.read\u001b[0;34m()\u001b[0m\n",
      "\u001b[0;32mpandas/_libs/parsers.pyx\u001b[0m in \u001b[0;36mpandas._libs.parsers.TextReader._read_low_memory\u001b[0;34m()\u001b[0m\n",
      "\u001b[0;32mpandas/_libs/parsers.pyx\u001b[0m in \u001b[0;36mpandas._libs.parsers.TextReader._read_rows\u001b[0;34m()\u001b[0m\n",
      "\u001b[0;32mpandas/_libs/parsers.pyx\u001b[0m in \u001b[0;36mpandas._libs.parsers.TextReader._tokenize_rows\u001b[0;34m()\u001b[0m\n",
      "\u001b[0;32mpandas/_libs/parsers.pyx\u001b[0m in \u001b[0;36mpandas._libs.parsers.raise_parser_error\u001b[0;34m()\u001b[0m\n",
      "\u001b[0;31mParserError\u001b[0m: Error tokenizing data. C error: Expected 2 fields in line 6, saw 4\n"
     ]
    }
   ],
   "source": [
    "do_filesearch(srchtxt='/home/b4gone/U64/data/*.ics',xx_sep=\":\")"
   ]
  },
  {
   "cell_type": "code",
   "execution_count": null,
   "metadata": {},
   "outputs": [],
   "source": [
    "%run ~/Dropbox/py/stock_inc.py \n",
    "do_import_one(nm='bxtraded',fullname='/home/b4gone/U64/data/bxtraded.txt',xx_sep=\"|\")"
   ]
  },
  {
   "cell_type": "code",
   "execution_count": 46,
   "metadata": {},
   "outputs": [
    {
     "data": {
      "text/plain": [
       "'AET_20180601'"
      ]
     },
     "metadata": {},
     "output_type": "display_data"
    },
    {
     "name": "stderr",
     "output_type": "stream",
     "text": [
      "/home/b4gone/.local/lib/python3.5/site-packages/pandas/core/generic.py:1534: UserWarning: The spaces in these column names will not be changed. In pandas versions < 0.14, spaces were converted to underscores.\n",
      "  chunksize=chunksize, dtype=dtype)\n"
     ]
    },
    {
     "data": {
      "text/plain": [
       "'AVGO_20180601'"
      ]
     },
     "metadata": {},
     "output_type": "display_data"
    },
    {
     "data": {
      "text/plain": [
       "'TWTR_20180601'"
      ]
     },
     "metadata": {},
     "output_type": "display_data"
    },
    {
     "data": {
      "text/plain": [
       "'SQ_20180601'"
      ]
     },
     "metadata": {},
     "output_type": "display_data"
    },
    {
     "data": {
      "text/plain": [
       "'PYPL_20180601'"
      ]
     },
     "metadata": {},
     "output_type": "display_data"
    },
    {
     "data": {
      "text/plain": [
       "'ABMD_20180601'"
      ]
     },
     "metadata": {},
     "output_type": "display_data"
    },
    {
     "data": {
      "text/plain": [
       "'MSFT_20180601'"
      ]
     },
     "metadata": {},
     "output_type": "display_data"
    },
    {
     "data": {
      "text/plain": [
       "'WWE_20180601'"
      ]
     },
     "metadata": {},
     "output_type": "display_data"
    },
    {
     "data": {
      "text/plain": [
       "'BZUN_20180601'"
      ]
     },
     "metadata": {},
     "output_type": "display_data"
    },
    {
     "data": {
      "text/plain": [
       "'ALGN_20180601'"
      ]
     },
     "metadata": {},
     "output_type": "display_data"
    },
    {
     "data": {
      "text/plain": [
       "'MA_20180601'"
      ]
     },
     "metadata": {},
     "output_type": "display_data"
    },
    {
     "data": {
      "text/plain": [
       "'LOXO_20180601'"
      ]
     },
     "metadata": {},
     "output_type": "display_data"
    },
    {
     "data": {
      "text/plain": [
       "'NFLX_20180601'"
      ]
     },
     "metadata": {},
     "output_type": "display_data"
    },
    {
     "data": {
      "text/plain": [
       "'UNH_20180601'"
      ]
     },
     "metadata": {},
     "output_type": "display_data"
    }
   ],
   "source": [
    "do_filesearch(srchtxt='/home/b4gone/Dropbox/amigobulls/*.csv')"
   ]
  },
  {
   "cell_type": "code",
   "execution_count": 39,
   "metadata": {},
   "outputs": [
    {
     "data": {
      "text/html": [
       "<div>\n",
       "<style scoped>\n",
       "    .dataframe tbody tr th:only-of-type {\n",
       "        vertical-align: middle;\n",
       "    }\n",
       "\n",
       "    .dataframe tbody tr th {\n",
       "        vertical-align: top;\n",
       "    }\n",
       "\n",
       "    .dataframe thead th {\n",
       "        text-align: right;\n",
       "    }\n",
       "</style>\n",
       "<table border=\"1\" class=\"dataframe\">\n",
       "  <thead>\n",
       "    <tr style=\"text-align: right;\">\n",
       "      <th></th>\n",
       "      <th>index</th>\n",
       "      <th>&lt;ticker&gt;</th>\n",
       "      <th>&lt;date&gt;</th>\n",
       "      <th>&lt;open&gt;</th>\n",
       "      <th>&lt;high&gt;</th>\n",
       "      <th>&lt;low&gt;</th>\n",
       "      <th>&lt;close&gt;</th>\n",
       "      <th>&lt;vol&gt;</th>\n",
       "      <th>Low_High_pct</th>\n",
       "      <th>VolxClose</th>\n",
       "    </tr>\n",
       "  </thead>\n",
       "  <tbody>\n",
       "    <tr>\n",
       "      <th>7883</th>\n",
       "      <td>7883</td>\n",
       "      <td>WINS</td>\n",
       "      <td>20180102</td>\n",
       "      <td>190.26</td>\n",
       "      <td>217.00</td>\n",
       "      <td>188.00</td>\n",
       "      <td>217.00</td>\n",
       "      <td>2500</td>\n",
       "      <td>15.4</td>\n",
       "      <td>0.5</td>\n",
       "    </tr>\n",
       "    <tr>\n",
       "      <th>3578</th>\n",
       "      <td>3578</td>\n",
       "      <td>HTHT</td>\n",
       "      <td>20180102</td>\n",
       "      <td>146.44</td>\n",
       "      <td>159.35</td>\n",
       "      <td>146.01</td>\n",
       "      <td>158.86</td>\n",
       "      <td>1003900</td>\n",
       "      <td>9.1</td>\n",
       "      <td>159.5</td>\n",
       "    </tr>\n",
       "    <tr>\n",
       "      <th>7800</th>\n",
       "      <td>7800</td>\n",
       "      <td>WB</td>\n",
       "      <td>20180102</td>\n",
       "      <td>104.61</td>\n",
       "      <td>113.50</td>\n",
       "      <td>104.60</td>\n",
       "      <td>113.17</td>\n",
       "      <td>2486900</td>\n",
       "      <td>8.5</td>\n",
       "      <td>281.4</td>\n",
       "    </tr>\n",
       "    <tr>\n",
       "      <th>11</th>\n",
       "      <td>11</td>\n",
       "      <td>AAP</td>\n",
       "      <td>20180102</td>\n",
       "      <td>100.90</td>\n",
       "      <td>107.93</td>\n",
       "      <td>99.71</td>\n",
       "      <td>106.09</td>\n",
       "      <td>2624500</td>\n",
       "      <td>8.2</td>\n",
       "      <td>278.4</td>\n",
       "    </tr>\n",
       "    <tr>\n",
       "      <th>6268</th>\n",
       "      <td>6268</td>\n",
       "      <td>ROG</td>\n",
       "      <td>20180102</td>\n",
       "      <td>162.61</td>\n",
       "      <td>174.50</td>\n",
       "      <td>162.61</td>\n",
       "      <td>171.89</td>\n",
       "      <td>340800</td>\n",
       "      <td>7.3</td>\n",
       "      <td>58.6</td>\n",
       "    </tr>\n",
       "    <tr>\n",
       "      <th>6768</th>\n",
       "      <td>6768</td>\n",
       "      <td>SOXL</td>\n",
       "      <td>20180102</td>\n",
       "      <td>140.25</td>\n",
       "      <td>149.27</td>\n",
       "      <td>139.56</td>\n",
       "      <td>149.27</td>\n",
       "      <td>615800</td>\n",
       "      <td>7.0</td>\n",
       "      <td>91.9</td>\n",
       "    </tr>\n",
       "    <tr>\n",
       "      <th>8100</th>\n",
       "      <td>8100</td>\n",
       "      <td>YY</td>\n",
       "      <td>20180102</td>\n",
       "      <td>114.15</td>\n",
       "      <td>122.00</td>\n",
       "      <td>114.15</td>\n",
       "      <td>121.46</td>\n",
       "      <td>1948200</td>\n",
       "      <td>6.9</td>\n",
       "      <td>236.6</td>\n",
       "    </tr>\n",
       "    <tr>\n",
       "      <th>7897</th>\n",
       "      <td>7897</td>\n",
       "      <td>WLTW</td>\n",
       "      <td>20180102</td>\n",
       "      <td>156.52</td>\n",
       "      <td>156.52</td>\n",
       "      <td>146.45</td>\n",
       "      <td>146.99</td>\n",
       "      <td>817800</td>\n",
       "      <td>6.9</td>\n",
       "      <td>120.2</td>\n",
       "    </tr>\n",
       "    <tr>\n",
       "      <th>7241</th>\n",
       "      <td>7241</td>\n",
       "      <td>TPL</td>\n",
       "      <td>20180102</td>\n",
       "      <td>446.01</td>\n",
       "      <td>476.01</td>\n",
       "      <td>446.01</td>\n",
       "      <td>460.59</td>\n",
       "      <td>38500</td>\n",
       "      <td>6.7</td>\n",
       "      <td>17.7</td>\n",
       "    </tr>\n",
       "    <tr>\n",
       "      <th>6620</th>\n",
       "      <td>6620</td>\n",
       "      <td>SINA</td>\n",
       "      <td>20180102</td>\n",
       "      <td>102.39</td>\n",
       "      <td>108.75</td>\n",
       "      <td>102.05</td>\n",
       "      <td>108.43</td>\n",
       "      <td>1407700</td>\n",
       "      <td>6.6</td>\n",
       "      <td>152.6</td>\n",
       "    </tr>\n",
       "  </tbody>\n",
       "</table>\n",
       "</div>"
      ],
      "text/plain": [
       "      index <ticker>    <date>  <open>  <high>   <low>  <close>    <vol>  \\\n",
       "7883   7883     WINS  20180102  190.26  217.00  188.00   217.00     2500   \n",
       "3578   3578     HTHT  20180102  146.44  159.35  146.01   158.86  1003900   \n",
       "7800   7800       WB  20180102  104.61  113.50  104.60   113.17  2486900   \n",
       "11       11      AAP  20180102  100.90  107.93   99.71   106.09  2624500   \n",
       "6268   6268      ROG  20180102  162.61  174.50  162.61   171.89   340800   \n",
       "6768   6768     SOXL  20180102  140.25  149.27  139.56   149.27   615800   \n",
       "8100   8100       YY  20180102  114.15  122.00  114.15   121.46  1948200   \n",
       "7897   7897     WLTW  20180102  156.52  156.52  146.45   146.99   817800   \n",
       "7241   7241      TPL  20180102  446.01  476.01  446.01   460.59    38500   \n",
       "6620   6620     SINA  20180102  102.39  108.75  102.05   108.43  1407700   \n",
       "\n",
       "      Low_High_pct  VolxClose  \n",
       "7883          15.4        0.5  \n",
       "3578           9.1      159.5  \n",
       "7800           8.5      281.4  \n",
       "11             8.2      278.4  \n",
       "6268           7.3       58.6  \n",
       "6768           7.0       91.9  \n",
       "8100           6.9      236.6  \n",
       "7897           6.9      120.2  \n",
       "7241           6.7       17.7  \n",
       "6620           6.6      152.6  "
      ]
     },
     "metadata": {},
     "output_type": "display_data"
    },
    {
     "data": {
      "text/html": [
       "<div>\n",
       "<style scoped>\n",
       "    .dataframe tbody tr th:only-of-type {\n",
       "        vertical-align: middle;\n",
       "    }\n",
       "\n",
       "    .dataframe tbody tr th {\n",
       "        vertical-align: top;\n",
       "    }\n",
       "\n",
       "    .dataframe thead th {\n",
       "        text-align: right;\n",
       "    }\n",
       "</style>\n",
       "<table border=\"1\" class=\"dataframe\">\n",
       "  <thead>\n",
       "    <tr style=\"text-align: right;\">\n",
       "      <th></th>\n",
       "      <th>index</th>\n",
       "      <th>&lt;ticker&gt;</th>\n",
       "      <th>&lt;date&gt;</th>\n",
       "      <th>&lt;open&gt;</th>\n",
       "      <th>&lt;high&gt;</th>\n",
       "      <th>&lt;low&gt;</th>\n",
       "      <th>&lt;close&gt;</th>\n",
       "      <th>&lt;vol&gt;</th>\n",
       "      <th>Low_High_pct</th>\n",
       "      <th>VolxClose</th>\n",
       "    </tr>\n",
       "  </thead>\n",
       "  <tbody>\n",
       "    <tr>\n",
       "      <th>4667</th>\n",
       "      <td>4667</td>\n",
       "      <td>MDGL</td>\n",
       "      <td>20180601</td>\n",
       "      <td>270.00</td>\n",
       "      <td>279.800</td>\n",
       "      <td>246.18</td>\n",
       "      <td>274.42</td>\n",
       "      <td>1372700</td>\n",
       "      <td>13.7</td>\n",
       "      <td>376.7</td>\n",
       "    </tr>\n",
       "    <tr>\n",
       "      <th>3936</th>\n",
       "      <td>3936</td>\n",
       "      <td>IRDMB</td>\n",
       "      <td>20180601</td>\n",
       "      <td>525.00</td>\n",
       "      <td>593.190</td>\n",
       "      <td>525.00</td>\n",
       "      <td>548.08</td>\n",
       "      <td>19000</td>\n",
       "      <td>13.0</td>\n",
       "      <td>10.4</td>\n",
       "    </tr>\n",
       "    <tr>\n",
       "      <th>4560</th>\n",
       "      <td>4560</td>\n",
       "      <td>LULU</td>\n",
       "      <td>20180601</td>\n",
       "      <td>113.95</td>\n",
       "      <td>123.840</td>\n",
       "      <td>113.20</td>\n",
       "      <td>122.19</td>\n",
       "      <td>14155500</td>\n",
       "      <td>9.4</td>\n",
       "      <td>1729.7</td>\n",
       "    </tr>\n",
       "    <tr>\n",
       "      <th>1732</th>\n",
       "      <td>1732</td>\n",
       "      <td>CXO</td>\n",
       "      <td>20180601</td>\n",
       "      <td>137.64</td>\n",
       "      <td>137.690</td>\n",
       "      <td>126.52</td>\n",
       "      <td>129.21</td>\n",
       "      <td>5327800</td>\n",
       "      <td>8.8</td>\n",
       "      <td>688.4</td>\n",
       "    </tr>\n",
       "    <tr>\n",
       "      <th>7903</th>\n",
       "      <td>7903</td>\n",
       "      <td>WINA</td>\n",
       "      <td>20180601</td>\n",
       "      <td>144.00</td>\n",
       "      <td>153.700</td>\n",
       "      <td>141.50</td>\n",
       "      <td>146.30</td>\n",
       "      <td>3400</td>\n",
       "      <td>8.6</td>\n",
       "      <td>0.5</td>\n",
       "    </tr>\n",
       "    <tr>\n",
       "      <th>7463</th>\n",
       "      <td>7463</td>\n",
       "      <td>ULTA</td>\n",
       "      <td>20180601</td>\n",
       "      <td>235.99</td>\n",
       "      <td>251.970</td>\n",
       "      <td>234.81</td>\n",
       "      <td>245.15</td>\n",
       "      <td>3982100</td>\n",
       "      <td>7.3</td>\n",
       "      <td>976.2</td>\n",
       "    </tr>\n",
       "    <tr>\n",
       "      <th>4519</th>\n",
       "      <td>4519</td>\n",
       "      <td>LOXO</td>\n",
       "      <td>20180601</td>\n",
       "      <td>178.01</td>\n",
       "      <td>187.380</td>\n",
       "      <td>176.20</td>\n",
       "      <td>186.69</td>\n",
       "      <td>603400</td>\n",
       "      <td>6.3</td>\n",
       "      <td>112.6</td>\n",
       "    </tr>\n",
       "    <tr>\n",
       "      <th>7448</th>\n",
       "      <td>7448</td>\n",
       "      <td>UHAL</td>\n",
       "      <td>20180601</td>\n",
       "      <td>324.95</td>\n",
       "      <td>342.740</td>\n",
       "      <td>323.24</td>\n",
       "      <td>342.00</td>\n",
       "      <td>231800</td>\n",
       "      <td>6.0</td>\n",
       "      <td>79.3</td>\n",
       "    </tr>\n",
       "    <tr>\n",
       "      <th>859</th>\n",
       "      <td>859</td>\n",
       "      <td>BLUE</td>\n",
       "      <td>20180601</td>\n",
       "      <td>179.65</td>\n",
       "      <td>187.605</td>\n",
       "      <td>177.10</td>\n",
       "      <td>182.40</td>\n",
       "      <td>797400</td>\n",
       "      <td>5.9</td>\n",
       "      <td>145.4</td>\n",
       "    </tr>\n",
       "    <tr>\n",
       "      <th>533</th>\n",
       "      <td>533</td>\n",
       "      <td>ATHM</td>\n",
       "      <td>20180601</td>\n",
       "      <td>114.36</td>\n",
       "      <td>119.500</td>\n",
       "      <td>113.08</td>\n",
       "      <td>113.61</td>\n",
       "      <td>846200</td>\n",
       "      <td>5.7</td>\n",
       "      <td>96.1</td>\n",
       "    </tr>\n",
       "  </tbody>\n",
       "</table>\n",
       "</div>"
      ],
      "text/plain": [
       "      index <ticker>    <date>  <open>   <high>   <low>  <close>     <vol>  \\\n",
       "4667   4667     MDGL  20180601  270.00  279.800  246.18   274.42   1372700   \n",
       "3936   3936    IRDMB  20180601  525.00  593.190  525.00   548.08     19000   \n",
       "4560   4560     LULU  20180601  113.95  123.840  113.20   122.19  14155500   \n",
       "1732   1732      CXO  20180601  137.64  137.690  126.52   129.21   5327800   \n",
       "7903   7903     WINA  20180601  144.00  153.700  141.50   146.30      3400   \n",
       "7463   7463     ULTA  20180601  235.99  251.970  234.81   245.15   3982100   \n",
       "4519   4519     LOXO  20180601  178.01  187.380  176.20   186.69    603400   \n",
       "7448   7448     UHAL  20180601  324.95  342.740  323.24   342.00    231800   \n",
       "859     859     BLUE  20180601  179.65  187.605  177.10   182.40    797400   \n",
       "533     533     ATHM  20180601  114.36  119.500  113.08   113.61    846200   \n",
       "\n",
       "      Low_High_pct  VolxClose  \n",
       "4667          13.7      376.7  \n",
       "3936          13.0       10.4  \n",
       "4560           9.4     1729.7  \n",
       "1732           8.8      688.4  \n",
       "7903           8.6        0.5  \n",
       "7463           7.3      976.2  \n",
       "4519           6.3      112.6  \n",
       "7448           6.0       79.3  \n",
       "859            5.9      145.4  \n",
       "533            5.7       96.1  "
      ]
     },
     "metadata": {},
     "output_type": "display_data"
    },
    {
     "data": {
      "text/html": [
       "<div>\n",
       "<style scoped>\n",
       "    .dataframe tbody tr th:only-of-type {\n",
       "        vertical-align: middle;\n",
       "    }\n",
       "\n",
       "    .dataframe tbody tr th {\n",
       "        vertical-align: top;\n",
       "    }\n",
       "\n",
       "    .dataframe thead th {\n",
       "        text-align: right;\n",
       "    }\n",
       "</style>\n",
       "<table border=\"1\" class=\"dataframe\">\n",
       "  <thead>\n",
       "    <tr style=\"text-align: right;\">\n",
       "      <th></th>\n",
       "      <th>index</th>\n",
       "      <th>&lt;ticker&gt;</th>\n",
       "      <th>&lt;date&gt;</th>\n",
       "      <th>&lt;open&gt;</th>\n",
       "      <th>&lt;high&gt;</th>\n",
       "      <th>&lt;low&gt;</th>\n",
       "      <th>&lt;close&gt;</th>\n",
       "      <th>&lt;vol&gt;</th>\n",
       "      <th>Low_High_pct</th>\n",
       "      <th>VolxClose</th>\n",
       "    </tr>\n",
       "  </thead>\n",
       "  <tbody>\n",
       "    <tr>\n",
       "      <th>4436</th>\n",
       "      <td>4436</td>\n",
       "      <td>KWR</td>\n",
       "      <td>20180301</td>\n",
       "      <td>150.00</td>\n",
       "      <td>164.10</td>\n",
       "      <td>147.44</td>\n",
       "      <td>153.00</td>\n",
       "      <td>108000</td>\n",
       "      <td>11.3</td>\n",
       "      <td>16.5</td>\n",
       "    </tr>\n",
       "    <tr>\n",
       "      <th>4604</th>\n",
       "      <td>4604</td>\n",
       "      <td>LOXO</td>\n",
       "      <td>20180301</td>\n",
       "      <td>108.00</td>\n",
       "      <td>118.00</td>\n",
       "      <td>106.52</td>\n",
       "      <td>115.04</td>\n",
       "      <td>408200</td>\n",
       "      <td>10.8</td>\n",
       "      <td>47.0</td>\n",
       "    </tr>\n",
       "    <tr>\n",
       "      <th>6906</th>\n",
       "      <td>6906</td>\n",
       "      <td>SOXL</td>\n",
       "      <td>20180301</td>\n",
       "      <td>169.23</td>\n",
       "      <td>171.04</td>\n",
       "      <td>155.00</td>\n",
       "      <td>160.77</td>\n",
       "      <td>959800</td>\n",
       "      <td>10.3</td>\n",
       "      <td>154.3</td>\n",
       "    </tr>\n",
       "    <tr>\n",
       "      <th>7250</th>\n",
       "      <td>7250</td>\n",
       "      <td>TECL</td>\n",
       "      <td>20180301</td>\n",
       "      <td>132.00</td>\n",
       "      <td>133.52</td>\n",
       "      <td>121.70</td>\n",
       "      <td>124.77</td>\n",
       "      <td>499300</td>\n",
       "      <td>9.7</td>\n",
       "      <td>62.3</td>\n",
       "    </tr>\n",
       "    <tr>\n",
       "      <th>2747</th>\n",
       "      <td>2747</td>\n",
       "      <td>FINU</td>\n",
       "      <td>20180301</td>\n",
       "      <td>113.17</td>\n",
       "      <td>114.74</td>\n",
       "      <td>104.92</td>\n",
       "      <td>107.14</td>\n",
       "      <td>61200</td>\n",
       "      <td>9.4</td>\n",
       "      <td>6.6</td>\n",
       "    </tr>\n",
       "    <tr>\n",
       "      <th>7636</th>\n",
       "      <td>7636</td>\n",
       "      <td>UPRO</td>\n",
       "      <td>20180301</td>\n",
       "      <td>143.38</td>\n",
       "      <td>146.03</td>\n",
       "      <td>134.61</td>\n",
       "      <td>137.43</td>\n",
       "      <td>3531100</td>\n",
       "      <td>8.5</td>\n",
       "      <td>485.3</td>\n",
       "    </tr>\n",
       "    <tr>\n",
       "      <th>4756</th>\n",
       "      <td>4756</td>\n",
       "      <td>MDGL</td>\n",
       "      <td>20180301</td>\n",
       "      <td>125.40</td>\n",
       "      <td>129.22</td>\n",
       "      <td>119.47</td>\n",
       "      <td>124.45</td>\n",
       "      <td>161900</td>\n",
       "      <td>8.2</td>\n",
       "      <td>20.1</td>\n",
       "    </tr>\n",
       "    <tr>\n",
       "      <th>7846</th>\n",
       "      <td>7846</td>\n",
       "      <td>VMW</td>\n",
       "      <td>20180301</td>\n",
       "      <td>131.00</td>\n",
       "      <td>131.71</td>\n",
       "      <td>122.00</td>\n",
       "      <td>123.66</td>\n",
       "      <td>6308500</td>\n",
       "      <td>8.0</td>\n",
       "      <td>780.1</td>\n",
       "    </tr>\n",
       "    <tr>\n",
       "      <th>2187</th>\n",
       "      <td>2187</td>\n",
       "      <td>EDC</td>\n",
       "      <td>20180301</td>\n",
       "      <td>130.93</td>\n",
       "      <td>133.65</td>\n",
       "      <td>123.84</td>\n",
       "      <td>127.50</td>\n",
       "      <td>387400</td>\n",
       "      <td>7.9</td>\n",
       "      <td>49.4</td>\n",
       "    </tr>\n",
       "    <tr>\n",
       "      <th>6397</th>\n",
       "      <td>6397</td>\n",
       "      <td>ROG</td>\n",
       "      <td>20180301</td>\n",
       "      <td>135.60</td>\n",
       "      <td>137.25</td>\n",
       "      <td>127.71</td>\n",
       "      <td>127.95</td>\n",
       "      <td>350200</td>\n",
       "      <td>7.5</td>\n",
       "      <td>44.8</td>\n",
       "    </tr>\n",
       "  </tbody>\n",
       "</table>\n",
       "</div>"
      ],
      "text/plain": [
       "      index <ticker>    <date>  <open>  <high>   <low>  <close>    <vol>  \\\n",
       "4436   4436      KWR  20180301  150.00  164.10  147.44   153.00   108000   \n",
       "4604   4604     LOXO  20180301  108.00  118.00  106.52   115.04   408200   \n",
       "6906   6906     SOXL  20180301  169.23  171.04  155.00   160.77   959800   \n",
       "7250   7250     TECL  20180301  132.00  133.52  121.70   124.77   499300   \n",
       "2747   2747     FINU  20180301  113.17  114.74  104.92   107.14    61200   \n",
       "7636   7636     UPRO  20180301  143.38  146.03  134.61   137.43  3531100   \n",
       "4756   4756     MDGL  20180301  125.40  129.22  119.47   124.45   161900   \n",
       "7846   7846      VMW  20180301  131.00  131.71  122.00   123.66  6308500   \n",
       "2187   2187      EDC  20180301  130.93  133.65  123.84   127.50   387400   \n",
       "6397   6397      ROG  20180301  135.60  137.25  127.71   127.95   350200   \n",
       "\n",
       "      Low_High_pct  VolxClose  \n",
       "4436          11.3       16.5  \n",
       "4604          10.8       47.0  \n",
       "6906          10.3      154.3  \n",
       "7250           9.7       62.3  \n",
       "2747           9.4        6.6  \n",
       "7636           8.5      485.3  \n",
       "4756           8.2       20.1  \n",
       "7846           8.0      780.1  \n",
       "2187           7.9       49.4  \n",
       "6397           7.5       44.8  "
      ]
     },
     "metadata": {},
     "output_type": "display_data"
    }
   ],
   "source": [
    "%run ~/Dropbox/py/stock_inc.py\n",
    "do_use(src='USE_20180102')\n",
    "do_use(src='USE_20180601')\n",
    "do_use(src='USE_20180301')"
   ]
  },
  {
   "cell_type": "code",
   "execution_count": 4,
   "metadata": {
    "extensions": {
     "jupyter_dashboards": {
      "version": 1,
      "views": {
       "grid_default": {
        "col": 0,
        "height": 12,
        "hidden": false,
        "row": 0,
        "width": 4
       },
       "report_default": {}
      }
     }
    }
   },
   "outputs": [
    {
     "data": {
      "text/html": [
       "<div>\n",
       "<style scoped>\n",
       "    .dataframe tbody tr th:only-of-type {\n",
       "        vertical-align: middle;\n",
       "    }\n",
       "\n",
       "    .dataframe tbody tr th {\n",
       "        vertical-align: top;\n",
       "    }\n",
       "\n",
       "    .dataframe thead th {\n",
       "        text-align: right;\n",
       "    }\n",
       "</style>\n",
       "<table border=\"1\" class=\"dataframe\">\n",
       "  <thead>\n",
       "    <tr style=\"text-align: right;\">\n",
       "      <th></th>\n",
       "      <th>Symbol</th>\n",
       "      <th>Date</th>\n",
       "      <th>Close</th>\n",
       "      <th>High</th>\n",
       "      <th>Low</th>\n",
       "      <th>Open</th>\n",
       "      <th>Volume</th>\n",
       "      <th>Low_High_pct</th>\n",
       "      <th>Open_Close_pct</th>\n",
       "      <th>High_Close_pct</th>\n",
       "      <th>VolxClose</th>\n",
       "      <th>VolxClose_pct</th>\n",
       "      <th>1m_chg</th>\n",
       "      <th>1m_pct</th>\n",
       "    </tr>\n",
       "  </thead>\n",
       "  <tbody>\n",
       "    <tr>\n",
       "      <th>6</th>\n",
       "      <td>ABMD</td>\n",
       "      <td>2018-07-16</td>\n",
       "      <td>419.38</td>\n",
       "      <td>421.7600</td>\n",
       "      <td>417.0600</td>\n",
       "      <td>419.33</td>\n",
       "      <td>583178</td>\n",
       "      <td>0.011269</td>\n",
       "      <td>0.000119</td>\n",
       "      <td>0.005675</td>\n",
       "      <td>244.573190</td>\n",
       "      <td>0.101863</td>\n",
       "      <td>0.62</td>\n",
       "      <td>0.001481</td>\n",
       "    </tr>\n",
       "    <tr>\n",
       "      <th>5</th>\n",
       "      <td>ABMD</td>\n",
       "      <td>2018-07-13</td>\n",
       "      <td>418.76</td>\n",
       "      <td>421.1100</td>\n",
       "      <td>413.8735</td>\n",
       "      <td>416.23</td>\n",
       "      <td>530049</td>\n",
       "      <td>0.017485</td>\n",
       "      <td>0.006042</td>\n",
       "      <td>0.005612</td>\n",
       "      <td>221.963319</td>\n",
       "      <td>-0.585159</td>\n",
       "      <td>4.15</td>\n",
       "      <td>0.010009</td>\n",
       "    </tr>\n",
       "    <tr>\n",
       "      <th>4</th>\n",
       "      <td>ABMD</td>\n",
       "      <td>2018-07-12</td>\n",
       "      <td>414.61</td>\n",
       "      <td>415.0200</td>\n",
       "      <td>408.1600</td>\n",
       "      <td>408.19</td>\n",
       "      <td>1290505</td>\n",
       "      <td>0.016807</td>\n",
       "      <td>0.015484</td>\n",
       "      <td>0.000989</td>\n",
       "      <td>535.056278</td>\n",
       "      <td>2.322182</td>\n",
       "      <td>10.82</td>\n",
       "      <td>0.026796</td>\n",
       "    </tr>\n",
       "    <tr>\n",
       "      <th>3</th>\n",
       "      <td>ABMD</td>\n",
       "      <td>2018-07-11</td>\n",
       "      <td>403.79</td>\n",
       "      <td>408.0000</td>\n",
       "      <td>399.1800</td>\n",
       "      <td>402.67</td>\n",
       "      <td>398860</td>\n",
       "      <td>0.022095</td>\n",
       "      <td>0.002774</td>\n",
       "      <td>0.010426</td>\n",
       "      <td>161.055679</td>\n",
       "      <td>-0.383555</td>\n",
       "      <td>-1.36</td>\n",
       "      <td>0.003357</td>\n",
       "    </tr>\n",
       "    <tr>\n",
       "      <th>2</th>\n",
       "      <td>ABMD</td>\n",
       "      <td>2018-07-10</td>\n",
       "      <td>405.15</td>\n",
       "      <td>413.5000</td>\n",
       "      <td>399.7300</td>\n",
       "      <td>413.09</td>\n",
       "      <td>644861</td>\n",
       "      <td>0.034448</td>\n",
       "      <td>-0.019598</td>\n",
       "      <td>0.020610</td>\n",
       "      <td>261.265434</td>\n",
       "      <td>0.050803</td>\n",
       "      <td>-3.31</td>\n",
       "      <td>0.008104</td>\n",
       "    </tr>\n",
       "    <tr>\n",
       "      <th>1</th>\n",
       "      <td>ABMD</td>\n",
       "      <td>2018-07-09</td>\n",
       "      <td>408.46</td>\n",
       "      <td>413.8550</td>\n",
       "      <td>403.1600</td>\n",
       "      <td>407.88</td>\n",
       "      <td>608711</td>\n",
       "      <td>0.026528</td>\n",
       "      <td>0.001420</td>\n",
       "      <td>0.013208</td>\n",
       "      <td>248.634095</td>\n",
       "      <td>-0.016788</td>\n",
       "      <td>2.47</td>\n",
       "      <td>0.006084</td>\n",
       "    </tr>\n",
       "    <tr>\n",
       "      <th>27</th>\n",
       "      <td>ALGN</td>\n",
       "      <td>2018-07-16</td>\n",
       "      <td>362.28</td>\n",
       "      <td>366.3200</td>\n",
       "      <td>358.0200</td>\n",
       "      <td>365.00</td>\n",
       "      <td>377049</td>\n",
       "      <td>0.023183</td>\n",
       "      <td>-0.007508</td>\n",
       "      <td>0.011152</td>\n",
       "      <td>136.597312</td>\n",
       "      <td>-0.487955</td>\n",
       "      <td>-1.17</td>\n",
       "      <td>0.003219</td>\n",
       "    </tr>\n",
       "    <tr>\n",
       "      <th>26</th>\n",
       "      <td>ALGN</td>\n",
       "      <td>2018-07-13</td>\n",
       "      <td>363.45</td>\n",
       "      <td>368.9715</td>\n",
       "      <td>361.2850</td>\n",
       "      <td>364.00</td>\n",
       "      <td>733989</td>\n",
       "      <td>0.021275</td>\n",
       "      <td>-0.001513</td>\n",
       "      <td>0.015192</td>\n",
       "      <td>266.768302</td>\n",
       "      <td>-0.092541</td>\n",
       "      <td>0.63</td>\n",
       "      <td>0.001736</td>\n",
       "    </tr>\n",
       "    <tr>\n",
       "      <th>25</th>\n",
       "      <td>ALGN</td>\n",
       "      <td>2018-07-12</td>\n",
       "      <td>362.82</td>\n",
       "      <td>363.0399</td>\n",
       "      <td>350.3100</td>\n",
       "      <td>350.31</td>\n",
       "      <td>810244</td>\n",
       "      <td>0.036339</td>\n",
       "      <td>0.034480</td>\n",
       "      <td>0.000606</td>\n",
       "      <td>293.972728</td>\n",
       "      <td>0.943534</td>\n",
       "      <td>13.95</td>\n",
       "      <td>0.039986</td>\n",
       "    </tr>\n",
       "    <tr>\n",
       "      <th>24</th>\n",
       "      <td>ALGN</td>\n",
       "      <td>2018-07-11</td>\n",
       "      <td>348.87</td>\n",
       "      <td>352.4000</td>\n",
       "      <td>345.5000</td>\n",
       "      <td>346.98</td>\n",
       "      <td>433562</td>\n",
       "      <td>0.019971</td>\n",
       "      <td>0.005417</td>\n",
       "      <td>0.010118</td>\n",
       "      <td>151.256775</td>\n",
       "      <td>-0.276408</td>\n",
       "      <td>-2.58</td>\n",
       "      <td>0.007341</td>\n",
       "    </tr>\n",
       "  </tbody>\n",
       "</table>\n",
       "</div>"
      ],
      "text/plain": [
       "   Symbol       Date   Close      High       Low    Open   Volume  \\\n",
       "6    ABMD 2018-07-16  419.38  421.7600  417.0600  419.33   583178   \n",
       "5    ABMD 2018-07-13  418.76  421.1100  413.8735  416.23   530049   \n",
       "4    ABMD 2018-07-12  414.61  415.0200  408.1600  408.19  1290505   \n",
       "3    ABMD 2018-07-11  403.79  408.0000  399.1800  402.67   398860   \n",
       "2    ABMD 2018-07-10  405.15  413.5000  399.7300  413.09   644861   \n",
       "1    ABMD 2018-07-09  408.46  413.8550  403.1600  407.88   608711   \n",
       "27   ALGN 2018-07-16  362.28  366.3200  358.0200  365.00   377049   \n",
       "26   ALGN 2018-07-13  363.45  368.9715  361.2850  364.00   733989   \n",
       "25   ALGN 2018-07-12  362.82  363.0399  350.3100  350.31   810244   \n",
       "24   ALGN 2018-07-11  348.87  352.4000  345.5000  346.98   433562   \n",
       "\n",
       "    Low_High_pct  Open_Close_pct  High_Close_pct   VolxClose  VolxClose_pct  \\\n",
       "6       0.011269        0.000119        0.005675  244.573190       0.101863   \n",
       "5       0.017485        0.006042        0.005612  221.963319      -0.585159   \n",
       "4       0.016807        0.015484        0.000989  535.056278       2.322182   \n",
       "3       0.022095        0.002774        0.010426  161.055679      -0.383555   \n",
       "2       0.034448       -0.019598        0.020610  261.265434       0.050803   \n",
       "1       0.026528        0.001420        0.013208  248.634095      -0.016788   \n",
       "27      0.023183       -0.007508        0.011152  136.597312      -0.487955   \n",
       "26      0.021275       -0.001513        0.015192  266.768302      -0.092541   \n",
       "25      0.036339        0.034480        0.000606  293.972728       0.943534   \n",
       "24      0.019971        0.005417        0.010118  151.256775      -0.276408   \n",
       "\n",
       "    1m_chg    1m_pct  \n",
       "6     0.62  0.001481  \n",
       "5     4.15  0.010009  \n",
       "4    10.82  0.026796  \n",
       "3    -1.36  0.003357  \n",
       "2    -3.31  0.008104  \n",
       "1     2.47  0.006084  \n",
       "27   -1.17  0.003219  \n",
       "26    0.63  0.001736  \n",
       "25   13.95  0.039986  \n",
       "24   -2.58  0.007341  "
      ]
     },
     "execution_count": 4,
     "metadata": {},
     "output_type": "execute_result"
    }
   ],
   "source": [
    "%run ~/Dropbox/py/stock_inc.py \n",
    "csvs=[\"ABMD\",\"BZUN\",\"LOXO\",\"ALGN\",\"NFLX\",\"AMZN\",\"EA\",\"NVDA\",\"UNH\",\"V\",\"WWE\"]\n",
    "fnc_fetch_one(ticker=csvs,src='morningstar')\n",
    "#fnc_fetch_one(ticker={'LOXO'},src='morningstar')\n"
   ]
  },
  {
   "cell_type": "code",
   "execution_count": 28,
   "metadata": {},
   "outputs": [
    {
     "name": "stdout",
     "output_type": "stream",
     "text": [
      "^C\n"
     ]
    }
   ],
   "source": [
    "!xed ~/Dropbox/py/stock_inc.py "
   ]
  },
  {
   "cell_type": "code",
   "execution_count": 5,
   "metadata": {},
   "outputs": [
    {
     "name": "stdout",
     "output_type": "stream",
     "text": [
      "    index Symbol                 Date Close     Volume Low_High_pct Open_Close_pct High_Close_pct VolxClose VolxClose_pct  1m_chg 1m_pct\n",
      "20     11   BZUN  2018-07-12 00:00:00    61  2,037,919           6%             5%             1%       125           92%    3.55     6%\n",
      "34     16   LOXO  2018-07-10 00:00:00   176  1,060,396           5%            -2%             5%       187           91%  -10.91     6%\n",
      "37     33   NFLX  2018-07-13 00:00:00   396 15,747,266           4%            -3%             4%     6,233           18%  -17.70     4%\n",
      "23      8   BZUN  2018-07-09 00:00:00    58  2,180,001           3%             2%             0%       126           77%    2.37     4%\n",
      "8      25   ALGN  2018-07-12 00:00:00   363    810,244           4%             3%             0%       294           94%   13.95     4%\n",
      "60     76    WWE  2018-07-16 00:00:00    79  1,601,101           4%             3%             1%       127           -8%    2.49     3%\n",
      "61     75    WWE  2018-07-13 00:00:00    77  1,793,484           6%            -0%             4%       138          286%    2.36     3%\n",
      "33     17   LOXO  2018-07-11 00:00:00   181    620,109           4%             3%             1%       112          -40%    5.07     3%\n",
      "2       4   ABMD  2018-07-12 00:00:00   415  1,290,505           2%             2%             0%       535          232%   10.82     3%\n",
      "41     29   NFLX  2018-07-09 00:00:00   419 11,127,477           2%             1%             0%     4,662           32%   10.72     3%\n",
      "18     13   BZUN  2018-07-16 00:00:00    62  1,363,405           4%             2%             1%        85           25%    1.44     2%\n",
      "14     39   AMZN  2018-07-12 00:00:00 1,797  4,532,743           2%             2%             0%     8,144           45%   41.62     2%\n",
      "45     52   NVDA  2018-07-11 00:00:00   248  9,187,660           2%            -1%             1%     2,274           -0%   -5.72     2%\n",
      "30     20   LOXO  2018-07-16 00:00:00   175    437,313           4%            -2%             3%        77           68%   -4.03     2%\n",
      "65     71    WWE  2018-07-09 00:00:00    75  1,163,952           4%            -3%             3%        87           54%   -1.61     2%\n",
      "26     46     EA  2018-07-12 00:00:00   149  1,903,438           2%             1%             0%       283           -6%    2.89     2%\n",
      "17     36   AMZN  2018-07-09 00:00:00 1,739  3,011,988           1%             1%             0%     5,238           16%   28.39     2%\n",
      "35     15   LOXO  2018-07-09 00:00:00   187    522,277           4%            -2%             3%        98           11%   -3.06     2%\n",
      "46     51   NVDA  2018-07-10 00:00:00   253  9,000,390           2%             1%             0%     2,279           20%    4.00     2%\n",
      "44     53   NVDA  2018-07-12 00:00:00   251  8,637,673           2%             1%             1%     2,170           -5%    3.70     1%\n",
      "24     48     EA  2018-07-16 00:00:00   147  1,913,797           2%            -2%             2%       281          -10%   -2.05     1%\n",
      "56     67      V  2018-07-12 00:00:00   140 11,816,114           1%             1%             0%     1,653           12%    1.75     1%\n",
      "38     32   NFLX  2018-07-12 00:00:00   414 12,743,273           2%            -0%             1%     5,269           30%   -5.15     1%\n",
      "36     34   NFLX  2018-07-16 00:00:00   400 19,785,845           3%             0%             1%     7,924           27%    4.68     1%\n",
      "53     57    UNH  2018-07-09 00:00:00   254  2,039,553           1%             1%             0%       517           31%    2.91     1%\n",
      "57     66      V  2018-07-11 00:00:00   138 10,648,707           2%             1%             0%     1,471           64%    1.46     1%\n",
      "59     64      V  2018-07-09 00:00:00   136  8,960,741           1%             0%             0%     1,214           87%    1.43     1%\n",
      "27     45     EA  2018-07-11 00:00:00   146  2,057,194           2%             2%             0%       300           21%    1.53     1%\n",
      "49     61    UNH  2018-07-13 00:00:00   259  2,356,197           1%             1%             0%       610           49%    2.65     1%\n",
      "1       5   ABMD  2018-07-13 00:00:00   419    530,049           2%             1%             1%       222          -59%    4.15     1%\n",
      "13     40   AMZN  2018-07-13 00:00:00 1,813  4,386,679           1%             1%             0%     7,953           -2%   16.41     1%\n",
      "58     65      V  2018-07-10 00:00:00   137  6,561,867           1%             1%             0%       897          -26%    1.17     1%\n",
      "4       2   ABMD  2018-07-10 00:00:00   405    644,861           3%            -2%             2%       261            5%   -3.31     1%\n",
      "40     30   NFLX  2018-07-10 00:00:00   416  9,382,944           2%            -0%             1%     3,900          -16%   -3.34     1%\n",
      "19     12   BZUN  2018-07-13 00:00:00    61  1,120,178           4%            -2%             3%        68          -45%   -0.48     1%\n",
      "47     50   NVDA  2018-07-09 00:00:00   249  7,597,022           2%            -0%             1%     1,894            3%    1.92     1%\n",
      "43     54   NVDA  2018-07-13 00:00:00   249  6,179,078           2%            -1%             1%     1,541          -29%   -1.91     1%\n",
      "52     58    UNH  2018-07-10 00:00:00   256  2,012,223           1%             1%             1%       514           -1%    1.87     1%\n",
      "9      24   ALGN  2018-07-11 00:00:00   349    433,562           2%             1%             1%       151          -28%   -2.58     1%\n",
      "39     31   NFLX  2018-07-11 00:00:00   419  9,713,904           2%             2%             0%     4,067            4%    3.02     1%\n",
      "10     23   ALGN  2018-07-10 00:00:00   351    594,782           2%             0%             0%       209          -24%    2.48     1%\n",
      "31     19   LOXO  2018-07-13 00:00:00   179    255,067           2%            -0%             2%        46          -13%   -1.25     1%\n",
      "54     69      V  2018-07-16 00:00:00   138  4,930,373           1%            -1%             1%       683          -38%   -0.96     1%\n",
      "15     38   AMZN  2018-07-11 00:00:00 1,755  3,209,782           1%             1%             0%     5,633            8%   11.93     1%\n",
      "48     62    UNH  2018-07-16 00:00:00   257  3,617,583           1%            -1%             1%       930           53%   -1.72     1%\n",
      "5       1   ABMD  2018-07-09 00:00:00   408    608,711           3%             0%             1%       249           -2%    2.47     1%\n",
      "50     60    UNH  2018-07-12 00:00:00   256  1,592,817           1%            -0%             0%       408            8%    1.46     1%\n",
      "12     41   AMZN  2018-07-16 00:00:00 1,822  5,314,847           2%             0%             1%     9,686           22%    9.46     1%\n",
      "21     10   BZUN  2018-07-11 00:00:00    58  1,129,422           7%             3%             2%        65          -25%   -0.28     0%\n",
      "63     73    WWE  2018-07-11 00:00:00    75    574,094           2%             0%             2%        43           -3%   -0.36     0%\n",
      "42     55   NVDA  2018-07-16 00:00:00   248  4,830,552           1%             0%             1%     1,199          -22%   -1.12     0%\n",
      "11     22   ALGN  2018-07-09 00:00:00   349    784,886           3%            -0%             1%       274           23%    1.50     0%\n",
      "32     18   LOXO  2018-07-12 00:00:00   180    290,783           3%            -2%             2%        52          -53%   -0.78     0%\n",
      "51     59    UNH  2018-07-11 00:00:00   255  1,486,018           1%            -0%             1%       378          -26%   -0.95     0%\n",
      "55     68      V  2018-07-13 00:00:00   139  7,866,197           2%            -0%             0%     1,097          -34%   -0.48     0%\n",
      "3       3   ABMD  2018-07-11 00:00:00   404    398,860           2%             0%             1%       161          -38%   -1.36     0%\n",
      "6      27   ALGN  2018-07-16 00:00:00   362    377,049           2%            -1%             1%       137          -49%   -1.17     0%\n",
      "29     43     EA  2018-07-09 00:00:00   145  2,041,935           3%            -1%             2%       295           25%   -0.46     0%\n",
      "28     44     EA  2018-07-10 00:00:00   144  1,716,327           1%            -0%             1%       247          -16%   -0.45     0%\n",
      "16     37   AMZN  2018-07-10 00:00:00 1,743  3,002,905           1%             0%             0%     5,234           -0%    4.05     0%\n",
      "7      26   ALGN  2018-07-13 00:00:00   363    733,989           2%            -0%             2%       267           -9%    0.63     0%\n",
      "0       6   ABMD  2018-07-16 00:00:00   419    583,178           1%             0%             1%       245           10%    0.62     0%\n",
      "22      9   BZUN  2018-07-10 00:00:00    58  1,497,325           5%            -0%             3%        87          -31%    0.08     0%\n",
      "64     72    WWE  2018-07-10 00:00:00    75    587,879           3%            -0%             2%        44          -50%   -0.10     0%\n",
      "62     74    WWE  2018-07-12 00:00:00    75    478,884           2%             0%             1%        36          -17%   -0.07     0%\n",
      "25     47     EA  2018-07-13 00:00:00   149  2,108,630           3%             0%             2%       314           11%    0.12     0%\n"
     ]
    }
   ],
   "source": [
    "%run ~/Dropbox/py/stock_inc.py \n",
    "show_stock(src=\"morningstar\")"
   ]
  },
  {
   "cell_type": "code",
   "execution_count": 3,
   "metadata": {},
   "outputs": [],
   "source": [
    "!xed ~/Dropbox/py/stock_inc.py "
   ]
  },
  {
   "cell_type": "code",
   "execution_count": 6,
   "metadata": {
    "extensions": {
     "jupyter_dashboards": {
      "version": 1,
      "views": {
       "grid_default": {
        "hidden": true
       },
       "report_default": {}
      }
     }
    }
   },
   "outputs": [
    {
     "ename": "NameError",
     "evalue": "name 'xx_ticker' is not defined",
     "output_type": "error",
     "traceback": [
      "\u001b[0;31m---------------------------------------------------------------------------\u001b[0m",
      "\u001b[0;31mNameError\u001b[0m                                 Traceback (most recent call last)",
      "\u001b[0;32m<ipython-input-6-10d971cdbd0c>\u001b[0m in \u001b[0;36m<module>\u001b[0;34m()\u001b[0m\n\u001b[1;32m      1\u001b[0m \u001b[0mget_ipython\u001b[0m\u001b[0;34m(\u001b[0m\u001b[0;34m)\u001b[0m\u001b[0;34m.\u001b[0m\u001b[0mrun_line_magic\u001b[0m\u001b[0;34m(\u001b[0m\u001b[0;34m'run'\u001b[0m\u001b[0;34m,\u001b[0m \u001b[0;34m'~/Dropbox/py/stock_inc.py'\u001b[0m\u001b[0;34m)\u001b[0m\u001b[0;34m\u001b[0m\u001b[0m\n\u001b[0;32m----> 2\u001b[0;31m \u001b[0minteractive\u001b[0m\u001b[0;34m(\u001b[0m\u001b[0meoddata_ticker\u001b[0m\u001b[0;34m,\u001b[0m\u001b[0mx\u001b[0m\u001b[0;34m=\u001b[0m\u001b[0mxx_ticker\u001b[0m\u001b[0;34m)\u001b[0m\u001b[0;34m\u001b[0m\u001b[0m\n\u001b[0m",
      "\u001b[0;31mNameError\u001b[0m: name 'xx_ticker' is not defined"
     ]
    }
   ],
   "source": [
    "%run ~/Dropbox/py/stock_inc.py\n",
    "interactive(eoddata_ticker,x=xx_ticker)"
   ]
  },
  {
   "cell_type": "code",
   "execution_count": 7,
   "metadata": {
    "extensions": {
     "jupyter_dashboards": {
      "version": 1,
      "views": {
       "grid_default": {
        "col": 4,
        "height": 4,
        "hidden": false,
        "row": 0,
        "width": 4
       },
       "report_default": {}
      }
     }
    }
   },
   "outputs": [
    {
     "name": "stdout",
     "output_type": "stream",
     "text": [
      "\",\"ABMD\",\"AET\",\"ALGN\",\"AVGO\",\"BA\",\"BOX\",\"BZUN\",\"EVBG\",\"GERN\",\"HAE\",\"HTHT\",\"HUM\",\"LH\",\"LOXO\",\"MA\",\"MDB\",\"MKSI\",\"MOH\",\"MOMO\",\"MSFT\",\"MSG\",\"NFLX\",\"PYPL\",\"SQ\",\"THC\",\"TWTR\",\"UNH\",\"WDC\",\"WWE\",\""
     ]
    }
   ],
   "source": [
    "!alias fn='/home/b4gone/Downloads/robin2.txt'\n",
    "!awk '{ORS=\"\\\",\\\"\";print $1}' '/home/b4gone/Downloads/robin2.txt' \n",
    "!awk '{print \"* [\"$1\"](https://amigobulls.com/stocks/\"$1\"/historical-stock-prices)\"}' '/home/b4gone/Downloads/robin2.txt' > '/home/b4gone/Downloads/robin3.txt'"
   ]
  }
 ],
 "metadata": {
  "extensions": {
   "jupyter_dashboards": {
    "activeView": "grid_default",
    "version": 1,
    "views": {
     "grid_default": {
      "cellMargin": 10,
      "defaultCellHeight": 20,
      "maxColumns": 12,
      "name": "grid",
      "type": "grid"
     },
     "report_default": {
      "name": "report",
      "type": "report"
     }
    }
   }
  },
  "kernelspec": {
   "display_name": "Python 3",
   "language": "python",
   "name": "python3"
  },
  "language_info": {
   "codemirror_mode": {
    "name": "ipython",
    "version": 3
   },
   "file_extension": ".py",
   "mimetype": "text/x-python",
   "name": "python",
   "nbconvert_exporter": "python",
   "pygments_lexer": "ipython3",
   "version": "3.7.3"
  }
 },
 "nbformat": 4,
 "nbformat_minor": 2
}
